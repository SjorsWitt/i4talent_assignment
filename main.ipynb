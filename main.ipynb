{
 "cells": [
  {
   "cell_type": "code",
   "execution_count": 2979,
   "id": "7888e345",
   "metadata": {},
   "outputs": [],
   "source": [
    "import pandas as pd\n",
    "import numpy as np"
   ]
  },
  {
   "cell_type": "code",
   "execution_count": 2980,
   "id": "31ab3d1d",
   "metadata": {
    "scrolled": false
   },
   "outputs": [
    {
     "data": {
      "text/html": [
       "<div>\n",
       "<style scoped>\n",
       "    .dataframe tbody tr th:only-of-type {\n",
       "        vertical-align: middle;\n",
       "    }\n",
       "\n",
       "    .dataframe tbody tr th {\n",
       "        vertical-align: top;\n",
       "    }\n",
       "\n",
       "    .dataframe thead th {\n",
       "        text-align: right;\n",
       "    }\n",
       "</style>\n",
       "<table border=\"1\" class=\"dataframe\">\n",
       "  <thead>\n",
       "    <tr style=\"text-align: right;\">\n",
       "      <th></th>\n",
       "      <th>WerknemerID</th>\n",
       "      <th>datum</th>\n",
       "      <th>geboortedatum</th>\n",
       "      <th>indiensttreding_datum</th>\n",
       "      <th>uitdiensttreding_datum</th>\n",
       "      <th>leeftijd</th>\n",
       "      <th>lengte_dienst</th>\n",
       "      <th>stad</th>\n",
       "      <th>afdeling</th>\n",
       "      <th>klant_id</th>\n",
       "      <th>geslacht_id</th>\n",
       "      <th>geslacht</th>\n",
       "      <th>uitdiensttreding_reden</th>\n",
       "      <th>uitdiensttreding_type</th>\n",
       "      <th>STATUS_JAAR</th>\n",
       "      <th>STATUS</th>\n",
       "      <th>BUSINESS_UNIT</th>\n",
       "    </tr>\n",
       "  </thead>\n",
       "  <tbody>\n",
       "    <tr>\n",
       "      <th>0</th>\n",
       "      <td>6962</td>\n",
       "      <td>2018-12-31 05:06:00</td>\n",
       "      <td>1989-06-26 05:06:00</td>\n",
       "      <td>2013-05-23 05:06:00</td>\n",
       "      <td>1905-01-01 05:06:00</td>\n",
       "      <td>29.0</td>\n",
       "      <td>5.0</td>\n",
       "      <td>Amstelveen</td>\n",
       "      <td>BI</td>\n",
       "      <td>30</td>\n",
       "      <td>V</td>\n",
       "      <td>Vrouw</td>\n",
       "      <td>Niet van toepassing</td>\n",
       "      <td>Niet van toepassing</td>\n",
       "      <td>2018</td>\n",
       "      <td>Actief</td>\n",
       "      <td>Detachering</td>\n",
       "    </tr>\n",
       "    <tr>\n",
       "      <th>1</th>\n",
       "      <td>6212</td>\n",
       "      <td>2016-12-30 05:06:00</td>\n",
       "      <td>1983-08-25 05:06:00</td>\n",
       "      <td>2010-04-24 05:06:00</td>\n",
       "      <td>1905-01-01 05:06:00</td>\n",
       "      <td>33.0</td>\n",
       "      <td>6.0</td>\n",
       "      <td>Utrecht</td>\n",
       "      <td>Accountant</td>\n",
       "      <td>21</td>\n",
       "      <td>M</td>\n",
       "      <td>Man</td>\n",
       "      <td>Niet van toepassing</td>\n",
       "      <td>Niet van toepassing</td>\n",
       "      <td>2016</td>\n",
       "      <td>Actief</td>\n",
       "      <td>Detachering</td>\n",
       "    </tr>\n",
       "    <tr>\n",
       "      <th>2</th>\n",
       "      <td>5325</td>\n",
       "      <td>2018-12-31 05:06:00</td>\n",
       "      <td>1976-04-24 05:06:00</td>\n",
       "      <td>2006-06-09 05:06:00</td>\n",
       "      <td>1905-01-01 05:06:00</td>\n",
       "      <td>42.0</td>\n",
       "      <td>12.0</td>\n",
       "      <td>Amsterdam</td>\n",
       "      <td>BI</td>\n",
       "      <td>42</td>\n",
       "      <td>V</td>\n",
       "      <td>Vrouw</td>\n",
       "      <td>Niet van toepassing</td>\n",
       "      <td>Niet van toepassing</td>\n",
       "      <td>2018</td>\n",
       "      <td>Actief</td>\n",
       "      <td>Detachering</td>\n",
       "    </tr>\n",
       "    <tr>\n",
       "      <th>3</th>\n",
       "      <td>8193</td>\n",
       "      <td>2018-12-31 05:06:00</td>\n",
       "      <td>1998-10-26 05:06:00</td>\n",
       "      <td>2018-04-28 05:06:00</td>\n",
       "      <td>1905-01-01 05:06:00</td>\n",
       "      <td>20.0</td>\n",
       "      <td>NaN</td>\n",
       "      <td>Utrecht</td>\n",
       "      <td>BI</td>\n",
       "      <td>21</td>\n",
       "      <td>V</td>\n",
       "      <td>Vrouw</td>\n",
       "      <td>Niet van toepassing</td>\n",
       "      <td>Niet van toepassing</td>\n",
       "      <td>2018</td>\n",
       "      <td>Actief</td>\n",
       "      <td>Detachering</td>\n",
       "    </tr>\n",
       "    <tr>\n",
       "      <th>4</th>\n",
       "      <td>5926</td>\n",
       "      <td>2013-12-31 05:06:00</td>\n",
       "      <td>1981-03-19 05:06:00</td>\n",
       "      <td>2009-01-09 05:06:00</td>\n",
       "      <td>1905-01-01 05:06:00</td>\n",
       "      <td>32.0</td>\n",
       "      <td>4.0</td>\n",
       "      <td>Den Haag</td>\n",
       "      <td>Accountant</td>\n",
       "      <td>18</td>\n",
       "      <td>M</td>\n",
       "      <td>Man</td>\n",
       "      <td>Niet van toepassing</td>\n",
       "      <td>Niet van toepassing</td>\n",
       "      <td>2013</td>\n",
       "      <td>Actief</td>\n",
       "      <td>Detachering</td>\n",
       "    </tr>\n",
       "  </tbody>\n",
       "</table>\n",
       "</div>"
      ],
      "text/plain": [
       "   WerknemerID                datum        geboortedatum  \\\n",
       "0         6962  2018-12-31 05:06:00  1989-06-26 05:06:00   \n",
       "1         6212  2016-12-30 05:06:00  1983-08-25 05:06:00   \n",
       "2         5325  2018-12-31 05:06:00  1976-04-24 05:06:00   \n",
       "3         8193  2018-12-31 05:06:00  1998-10-26 05:06:00   \n",
       "4         5926  2013-12-31 05:06:00  1981-03-19 05:06:00   \n",
       "\n",
       "  indiensttreding_datum uitdiensttreding_datum  leeftijd  lengte_dienst  \\\n",
       "0   2013-05-23 05:06:00    1905-01-01 05:06:00      29.0            5.0   \n",
       "1   2010-04-24 05:06:00    1905-01-01 05:06:00      33.0            6.0   \n",
       "2   2006-06-09 05:06:00    1905-01-01 05:06:00      42.0           12.0   \n",
       "3   2018-04-28 05:06:00    1905-01-01 05:06:00      20.0            NaN   \n",
       "4   2009-01-09 05:06:00    1905-01-01 05:06:00      32.0            4.0   \n",
       "\n",
       "         stad    afdeling  klant_id geslacht_id geslacht  \\\n",
       "0  Amstelveen          BI        30           V    Vrouw   \n",
       "1     Utrecht  Accountant        21           M      Man   \n",
       "2   Amsterdam          BI        42           V    Vrouw   \n",
       "3     Utrecht          BI        21           V    Vrouw   \n",
       "4    Den Haag  Accountant        18           M      Man   \n",
       "\n",
       "  uitdiensttreding_reden uitdiensttreding_type  STATUS_JAAR  STATUS  \\\n",
       "0    Niet van toepassing   Niet van toepassing         2018  Actief   \n",
       "1    Niet van toepassing   Niet van toepassing         2016  Actief   \n",
       "2    Niet van toepassing   Niet van toepassing         2018  Actief   \n",
       "3    Niet van toepassing   Niet van toepassing         2018  Actief   \n",
       "4    Niet van toepassing   Niet van toepassing         2013  Actief   \n",
       "\n",
       "  BUSINESS_UNIT  \n",
       "0   Detachering  \n",
       "1   Detachering  \n",
       "2   Detachering  \n",
       "3   Detachering  \n",
       "4   Detachering  "
      ]
     },
     "execution_count": 2980,
     "metadata": {},
     "output_type": "execute_result"
    }
   ],
   "source": [
    "# Load csv data file\n",
    "data = pd.read_csv('data/i4talent.csv')\n",
    "data.head()"
   ]
  },
  {
   "cell_type": "code",
   "execution_count": 2981,
   "id": "6da17081",
   "metadata": {},
   "outputs": [
    {
     "data": {
      "text/plain": [
       "(49753, 17)"
      ]
     },
     "execution_count": 2981,
     "metadata": {},
     "output_type": "execute_result"
    }
   ],
   "source": [
    "data.shape"
   ]
  },
  {
   "cell_type": "markdown",
   "id": "412f1c2a",
   "metadata": {},
   "source": [
    "# Exploratory Data Analysis"
   ]
  },
  {
   "cell_type": "code",
   "execution_count": 2982,
   "id": "917dce3e",
   "metadata": {
    "scrolled": true
   },
   "outputs": [
    {
     "name": "stdout",
     "output_type": "stream",
     "text": [
      "<class 'pandas.core.frame.DataFrame'>\n",
      "RangeIndex: 49753 entries, 0 to 49752\n",
      "Data columns (total 17 columns):\n",
      " #   Column                  Non-Null Count  Dtype  \n",
      "---  ------                  --------------  -----  \n",
      " 0   WerknemerID             49753 non-null  int64  \n",
      " 1   datum                   49753 non-null  object \n",
      " 2   geboortedatum           49753 non-null  object \n",
      " 3   indiensttreding_datum   49753 non-null  object \n",
      " 4   uitdiensttreding_datum  49753 non-null  object \n",
      " 5   leeftijd                44653 non-null  float64\n",
      " 6   lengte_dienst           44802 non-null  float64\n",
      " 7   stad                    44210 non-null  object \n",
      " 8   afdeling                44688 non-null  object \n",
      " 9   klant_id                49753 non-null  int64  \n",
      " 10  geslacht_id             49753 non-null  object \n",
      " 11  geslacht                49753 non-null  object \n",
      " 12  uitdiensttreding_reden  49753 non-null  object \n",
      " 13  uitdiensttreding_type   49753 non-null  object \n",
      " 14  STATUS_JAAR             49753 non-null  int64  \n",
      " 15  STATUS                  49753 non-null  object \n",
      " 16  BUSINESS_UNIT           49753 non-null  object \n",
      "dtypes: float64(2), int64(3), object(12)\n",
      "memory usage: 6.5+ MB\n"
     ]
    }
   ],
   "source": [
    "# data.dtypes\n",
    "data.info()"
   ]
  },
  {
   "cell_type": "code",
   "execution_count": 2983,
   "id": "f8145b78",
   "metadata": {
    "scrolled": true
   },
   "outputs": [],
   "source": [
    "# Remove all duplicate rows\n",
    "data.drop_duplicates(inplace=True)"
   ]
  },
  {
   "cell_type": "code",
   "execution_count": 2984,
   "id": "5b935b1e",
   "metadata": {
    "scrolled": true
   },
   "outputs": [
    {
     "data": {
      "text/plain": [
       "WerknemerID                  0\n",
       "datum                        0\n",
       "geboortedatum                0\n",
       "indiensttreding_datum        0\n",
       "uitdiensttreding_datum       0\n",
       "leeftijd                  5100\n",
       "lengte_dienst             4951\n",
       "stad                      5543\n",
       "afdeling                  5065\n",
       "klant_id                     0\n",
       "geslacht_id                  0\n",
       "geslacht                     0\n",
       "uitdiensttreding_reden       0\n",
       "uitdiensttreding_type        0\n",
       "STATUS_JAAR                  0\n",
       "STATUS                       0\n",
       "BUSINESS_UNIT                0\n",
       "dtype: int64"
      ]
     },
     "execution_count": 2984,
     "metadata": {},
     "output_type": "execute_result"
    }
   ],
   "source": [
    "# Find number of missing values for each column\n",
    "data.isna().sum()"
   ]
  },
  {
   "cell_type": "code",
   "execution_count": 2985,
   "id": "30134e42",
   "metadata": {},
   "outputs": [],
   "source": [
    "# Set WerknemerID as index\n",
    "data.set_index('WerknemerID', inplace = True)"
   ]
  },
  {
   "cell_type": "code",
   "execution_count": 2986,
   "id": "6806ca52",
   "metadata": {},
   "outputs": [
    {
     "name": "stdout",
     "output_type": "stream",
     "text": [
      "Total number of rows: 49721\n",
      "Number of rows with any missing value: 17671 \n",
      "\n",
      "Total number of WerknemerIDs 6284\n",
      "Number of WerknemerIDs with any missing value 5726\n"
     ]
    }
   ],
   "source": [
    "print(\"Total number of rows:\", len(data))\n",
    "print(\"Number of rows with any missing value:\", data.isna().any(axis=1).sum(), \"\\n\")\n",
    "\n",
    "print(\"Total number of WerknemerIDs\", len(data.index.unique()))\n",
    "print(\"Number of WerknemerIDs with any missing value\", len(data.loc[data.isna().any(axis=1)].index.unique()))"
   ]
  },
  {
   "cell_type": "code",
   "execution_count": 2987,
   "id": "ebc84707",
   "metadata": {
    "scrolled": true
   },
   "outputs": [
    {
     "data": {
      "text/html": [
       "<div>\n",
       "<style scoped>\n",
       "    .dataframe tbody tr th:only-of-type {\n",
       "        vertical-align: middle;\n",
       "    }\n",
       "\n",
       "    .dataframe tbody tr th {\n",
       "        vertical-align: top;\n",
       "    }\n",
       "\n",
       "    .dataframe thead th {\n",
       "        text-align: right;\n",
       "    }\n",
       "</style>\n",
       "<table border=\"1\" class=\"dataframe\">\n",
       "  <thead>\n",
       "    <tr style=\"text-align: right;\">\n",
       "      <th></th>\n",
       "      <th>datum</th>\n",
       "      <th>geboortedatum</th>\n",
       "      <th>indiensttreding_datum</th>\n",
       "      <th>uitdiensttreding_datum</th>\n",
       "      <th>leeftijd</th>\n",
       "      <th>lengte_dienst</th>\n",
       "      <th>stad</th>\n",
       "      <th>afdeling</th>\n",
       "      <th>klant_id</th>\n",
       "      <th>geslacht_id</th>\n",
       "      <th>geslacht</th>\n",
       "      <th>uitdiensttreding_reden</th>\n",
       "      <th>uitdiensttreding_type</th>\n",
       "      <th>STATUS_JAAR</th>\n",
       "      <th>STATUS</th>\n",
       "      <th>BUSINESS_UNIT</th>\n",
       "    </tr>\n",
       "    <tr>\n",
       "      <th>WerknemerID</th>\n",
       "      <th></th>\n",
       "      <th></th>\n",
       "      <th></th>\n",
       "      <th></th>\n",
       "      <th></th>\n",
       "      <th></th>\n",
       "      <th></th>\n",
       "      <th></th>\n",
       "      <th></th>\n",
       "      <th></th>\n",
       "      <th></th>\n",
       "      <th></th>\n",
       "      <th></th>\n",
       "      <th></th>\n",
       "      <th></th>\n",
       "      <th></th>\n",
       "    </tr>\n",
       "  </thead>\n",
       "  <tbody>\n",
       "    <tr>\n",
       "      <th>2008</th>\n",
       "      <td>2020-12-30 05:06:00</td>\n",
       "      <td>1957-10-23 05:06:00</td>\n",
       "      <td>1996-08-31 05:06:00</td>\n",
       "      <td>1905-01-01 05:06:00</td>\n",
       "      <td>63.0</td>\n",
       "      <td>NaN</td>\n",
       "      <td>NaN</td>\n",
       "      <td>NaN</td>\n",
       "      <td>5</td>\n",
       "      <td>V</td>\n",
       "      <td>Vrouw</td>\n",
       "      <td>Niet van toepassing</td>\n",
       "      <td>Niet van toepassing</td>\n",
       "      <td>2020</td>\n",
       "      <td>Actief</td>\n",
       "      <td>Detachering</td>\n",
       "    </tr>\n",
       "    <tr>\n",
       "      <th>2008</th>\n",
       "      <td>2012-12-30 05:06:00</td>\n",
       "      <td>1957-10-23 05:06:00</td>\n",
       "      <td>1996-08-31 05:06:00</td>\n",
       "      <td>1905-01-01 05:06:00</td>\n",
       "      <td>55.0</td>\n",
       "      <td>16.0</td>\n",
       "      <td>Haarlem</td>\n",
       "      <td>Financial controller</td>\n",
       "      <td>5</td>\n",
       "      <td>V</td>\n",
       "      <td>Vrouw</td>\n",
       "      <td>Niet van toepassing</td>\n",
       "      <td>Niet van toepassing</td>\n",
       "      <td>2012</td>\n",
       "      <td>Actief</td>\n",
       "      <td>Detachering</td>\n",
       "    </tr>\n",
       "    <tr>\n",
       "      <th>2008</th>\n",
       "      <td>2011-12-31 05:06:00</td>\n",
       "      <td>1957-10-23 05:06:00</td>\n",
       "      <td>1996-08-31 05:06:00</td>\n",
       "      <td>1905-01-01 05:06:00</td>\n",
       "      <td>54.0</td>\n",
       "      <td>15.0</td>\n",
       "      <td>Haarlem</td>\n",
       "      <td>Financial controller</td>\n",
       "      <td>5</td>\n",
       "      <td>V</td>\n",
       "      <td>Vrouw</td>\n",
       "      <td>Niet van toepassing</td>\n",
       "      <td>Niet van toepassing</td>\n",
       "      <td>2011</td>\n",
       "      <td>Actief</td>\n",
       "      <td>Detachering</td>\n",
       "    </tr>\n",
       "    <tr>\n",
       "      <th>2008</th>\n",
       "      <td>2017-12-31 05:06:00</td>\n",
       "      <td>1957-10-23 05:06:00</td>\n",
       "      <td>1996-08-31 05:06:00</td>\n",
       "      <td>1905-01-01 05:06:00</td>\n",
       "      <td>60.0</td>\n",
       "      <td>21.0</td>\n",
       "      <td>Haarlem</td>\n",
       "      <td>Financial controller</td>\n",
       "      <td>5</td>\n",
       "      <td>V</td>\n",
       "      <td>Vrouw</td>\n",
       "      <td>Niet van toepassing</td>\n",
       "      <td>Niet van toepassing</td>\n",
       "      <td>2017</td>\n",
       "      <td>Actief</td>\n",
       "      <td>Detachering</td>\n",
       "    </tr>\n",
       "    <tr>\n",
       "      <th>2008</th>\n",
       "      <td>2015-12-31 05:06:00</td>\n",
       "      <td>1957-10-23 05:06:00</td>\n",
       "      <td>1996-08-31 05:06:00</td>\n",
       "      <td>1905-01-01 05:06:00</td>\n",
       "      <td>58.0</td>\n",
       "      <td>19.0</td>\n",
       "      <td>Haarlem</td>\n",
       "      <td>Financial controller</td>\n",
       "      <td>5</td>\n",
       "      <td>V</td>\n",
       "      <td>Vrouw</td>\n",
       "      <td>Niet van toepassing</td>\n",
       "      <td>Niet van toepassing</td>\n",
       "      <td>2015</td>\n",
       "      <td>Actief</td>\n",
       "      <td>Detachering</td>\n",
       "    </tr>\n",
       "    <tr>\n",
       "      <th>2008</th>\n",
       "      <td>2019-12-31 05:06:00</td>\n",
       "      <td>1957-10-23 05:06:00</td>\n",
       "      <td>1996-08-31 05:06:00</td>\n",
       "      <td>1905-01-01 05:06:00</td>\n",
       "      <td>NaN</td>\n",
       "      <td>23.0</td>\n",
       "      <td>Haarlem</td>\n",
       "      <td>Financial controller</td>\n",
       "      <td>5</td>\n",
       "      <td>V</td>\n",
       "      <td>Vrouw</td>\n",
       "      <td>Niet van toepassing</td>\n",
       "      <td>Niet van toepassing</td>\n",
       "      <td>2019</td>\n",
       "      <td>Actief</td>\n",
       "      <td>Detachering</td>\n",
       "    </tr>\n",
       "    <tr>\n",
       "      <th>2008</th>\n",
       "      <td>2018-12-31 05:06:00</td>\n",
       "      <td>1957-10-23 05:06:00</td>\n",
       "      <td>1996-08-31 05:06:00</td>\n",
       "      <td>1905-01-01 05:06:00</td>\n",
       "      <td>61.0</td>\n",
       "      <td>22.0</td>\n",
       "      <td>Haarlem</td>\n",
       "      <td>Financial controller</td>\n",
       "      <td>5</td>\n",
       "      <td>V</td>\n",
       "      <td>Vrouw</td>\n",
       "      <td>Niet van toepassing</td>\n",
       "      <td>Niet van toepassing</td>\n",
       "      <td>2018</td>\n",
       "      <td>Actief</td>\n",
       "      <td>Detachering</td>\n",
       "    </tr>\n",
       "    <tr>\n",
       "      <th>2008</th>\n",
       "      <td>2016-12-30 05:06:00</td>\n",
       "      <td>1957-10-23 05:06:00</td>\n",
       "      <td>1996-08-31 05:06:00</td>\n",
       "      <td>1905-01-01 05:06:00</td>\n",
       "      <td>59.0</td>\n",
       "      <td>20.0</td>\n",
       "      <td>Haarlem</td>\n",
       "      <td>NaN</td>\n",
       "      <td>5</td>\n",
       "      <td>V</td>\n",
       "      <td>Vrouw</td>\n",
       "      <td>Niet van toepassing</td>\n",
       "      <td>Niet van toepassing</td>\n",
       "      <td>2016</td>\n",
       "      <td>Actief</td>\n",
       "      <td>Detachering</td>\n",
       "    </tr>\n",
       "    <tr>\n",
       "      <th>2008</th>\n",
       "      <td>2014-12-31 05:06:00</td>\n",
       "      <td>1957-10-23 05:06:00</td>\n",
       "      <td>1996-08-31 05:06:00</td>\n",
       "      <td>1905-01-01 05:06:00</td>\n",
       "      <td>57.0</td>\n",
       "      <td>18.0</td>\n",
       "      <td>Haarlem</td>\n",
       "      <td>NaN</td>\n",
       "      <td>5</td>\n",
       "      <td>V</td>\n",
       "      <td>Vrouw</td>\n",
       "      <td>Niet van toepassing</td>\n",
       "      <td>Niet van toepassing</td>\n",
       "      <td>2014</td>\n",
       "      <td>Actief</td>\n",
       "      <td>Detachering</td>\n",
       "    </tr>\n",
       "    <tr>\n",
       "      <th>2008</th>\n",
       "      <td>2013-12-31 05:06:00</td>\n",
       "      <td>1957-10-23 05:06:00</td>\n",
       "      <td>1996-08-31 05:06:00</td>\n",
       "      <td>1905-01-01 05:06:00</td>\n",
       "      <td>56.0</td>\n",
       "      <td>17.0</td>\n",
       "      <td>Haarlem</td>\n",
       "      <td>Financial controller</td>\n",
       "      <td>5</td>\n",
       "      <td>V</td>\n",
       "      <td>Vrouw</td>\n",
       "      <td>Niet van toepassing</td>\n",
       "      <td>Niet van toepassing</td>\n",
       "      <td>2013</td>\n",
       "      <td>Actief</td>\n",
       "      <td>Detachering</td>\n",
       "    </tr>\n",
       "  </tbody>\n",
       "</table>\n",
       "</div>"
      ],
      "text/plain": [
       "                           datum        geboortedatum indiensttreding_datum  \\\n",
       "WerknemerID                                                                   \n",
       "2008         2020-12-30 05:06:00  1957-10-23 05:06:00   1996-08-31 05:06:00   \n",
       "2008         2012-12-30 05:06:00  1957-10-23 05:06:00   1996-08-31 05:06:00   \n",
       "2008         2011-12-31 05:06:00  1957-10-23 05:06:00   1996-08-31 05:06:00   \n",
       "2008         2017-12-31 05:06:00  1957-10-23 05:06:00   1996-08-31 05:06:00   \n",
       "2008         2015-12-31 05:06:00  1957-10-23 05:06:00   1996-08-31 05:06:00   \n",
       "2008         2019-12-31 05:06:00  1957-10-23 05:06:00   1996-08-31 05:06:00   \n",
       "2008         2018-12-31 05:06:00  1957-10-23 05:06:00   1996-08-31 05:06:00   \n",
       "2008         2016-12-30 05:06:00  1957-10-23 05:06:00   1996-08-31 05:06:00   \n",
       "2008         2014-12-31 05:06:00  1957-10-23 05:06:00   1996-08-31 05:06:00   \n",
       "2008         2013-12-31 05:06:00  1957-10-23 05:06:00   1996-08-31 05:06:00   \n",
       "\n",
       "            uitdiensttreding_datum  leeftijd  lengte_dienst     stad  \\\n",
       "WerknemerID                                                            \n",
       "2008           1905-01-01 05:06:00      63.0            NaN      NaN   \n",
       "2008           1905-01-01 05:06:00      55.0           16.0  Haarlem   \n",
       "2008           1905-01-01 05:06:00      54.0           15.0  Haarlem   \n",
       "2008           1905-01-01 05:06:00      60.0           21.0  Haarlem   \n",
       "2008           1905-01-01 05:06:00      58.0           19.0  Haarlem   \n",
       "2008           1905-01-01 05:06:00       NaN           23.0  Haarlem   \n",
       "2008           1905-01-01 05:06:00      61.0           22.0  Haarlem   \n",
       "2008           1905-01-01 05:06:00      59.0           20.0  Haarlem   \n",
       "2008           1905-01-01 05:06:00      57.0           18.0  Haarlem   \n",
       "2008           1905-01-01 05:06:00      56.0           17.0  Haarlem   \n",
       "\n",
       "                         afdeling  klant_id geslacht_id geslacht  \\\n",
       "WerknemerID                                                        \n",
       "2008                          NaN         5           V    Vrouw   \n",
       "2008         Financial controller         5           V    Vrouw   \n",
       "2008         Financial controller         5           V    Vrouw   \n",
       "2008         Financial controller         5           V    Vrouw   \n",
       "2008         Financial controller         5           V    Vrouw   \n",
       "2008         Financial controller         5           V    Vrouw   \n",
       "2008         Financial controller         5           V    Vrouw   \n",
       "2008                          NaN         5           V    Vrouw   \n",
       "2008                          NaN         5           V    Vrouw   \n",
       "2008         Financial controller         5           V    Vrouw   \n",
       "\n",
       "            uitdiensttreding_reden uitdiensttreding_type  STATUS_JAAR  STATUS  \\\n",
       "WerknemerID                                                                     \n",
       "2008           Niet van toepassing   Niet van toepassing         2020  Actief   \n",
       "2008           Niet van toepassing   Niet van toepassing         2012  Actief   \n",
       "2008           Niet van toepassing   Niet van toepassing         2011  Actief   \n",
       "2008           Niet van toepassing   Niet van toepassing         2017  Actief   \n",
       "2008           Niet van toepassing   Niet van toepassing         2015  Actief   \n",
       "2008           Niet van toepassing   Niet van toepassing         2019  Actief   \n",
       "2008           Niet van toepassing   Niet van toepassing         2018  Actief   \n",
       "2008           Niet van toepassing   Niet van toepassing         2016  Actief   \n",
       "2008           Niet van toepassing   Niet van toepassing         2014  Actief   \n",
       "2008           Niet van toepassing   Niet van toepassing         2013  Actief   \n",
       "\n",
       "            BUSINESS_UNIT  \n",
       "WerknemerID                \n",
       "2008          Detachering  \n",
       "2008          Detachering  \n",
       "2008          Detachering  \n",
       "2008          Detachering  \n",
       "2008          Detachering  \n",
       "2008          Detachering  \n",
       "2008          Detachering  \n",
       "2008          Detachering  \n",
       "2008          Detachering  \n",
       "2008          Detachering  "
      ]
     },
     "execution_count": 2987,
     "metadata": {},
     "output_type": "execute_result"
    }
   ],
   "source": [
    "# Examine all rows for one WerknemerID\n",
    "data.loc[2008]"
   ]
  },
  {
   "cell_type": "markdown",
   "id": "6f841bc3",
   "metadata": {},
   "source": [
    "We see that there are multiple rows for each WerknemerID, with some missing values. We found before that leeftijd, lengte_dienst, stad and afdeling are the only columns with missing values. We can calculate leeftijd and lengte_dienst by using the columns datum, geboortedatum, indiensttreding_datum and uitdiensttreding_datum. For the missing values in columns stad and afdeling, we will simply find their values in other rows with the same WerknemerID index. We will do so in the next section."
   ]
  },
  {
   "cell_type": "markdown",
   "id": "276783ab",
   "metadata": {},
   "source": [
    "## Filling in missing data"
   ]
  },
  {
   "cell_type": "code",
   "execution_count": 2988,
   "id": "d79e3b6c",
   "metadata": {},
   "outputs": [],
   "source": [
    "# Change date strings to type Timestamp\n",
    "cols = ['datum', 'geboortedatum', 'indiensttreding_datum', 'uitdiensttreding_datum']\n",
    "data[cols] = data[cols].apply(pd.to_datetime, errors='raise')\n",
    "# data.dtypes # Check"
   ]
  },
  {
   "cell_type": "markdown",
   "id": "8f9c618a",
   "metadata": {},
   "source": [
    "#### Column 'leeftijd'"
   ]
  },
  {
   "cell_type": "code",
   "execution_count": 2989,
   "id": "a6b12013",
   "metadata": {
    "scrolled": true
   },
   "outputs": [],
   "source": [
    "# Condition:\n",
    "is_na = data['leeftijd'].isna() # leeftijd has missing value\n",
    "\n",
    "# Calculate leeftijd and add to data set\n",
    "leeftijd_days = data.loc[is_na, 'datum'] - data.loc[is_na, 'geboortedatum']\n",
    "leeftijd_years = np.floor(leeftijd_days / pd.Timedelta(365.2422, 'days')) # number of full years (rounded down)\n",
    "\n",
    "data.loc[is_na, 'leeftijd'] = leeftijd_years"
   ]
  },
  {
   "cell_type": "markdown",
   "id": "6bde8e92",
   "metadata": {},
   "source": [
    "#### Column 'lengte_dienst'"
   ]
  },
  {
   "cell_type": "code",
   "execution_count": 2990,
   "id": "b60f0831",
   "metadata": {},
   "outputs": [],
   "source": [
    "# If STATUS is Actief -> lengte_dienst_v2 = indiensttreding_datum - datum\n",
    "# If STATUS is Beëindigd -> lengte_dienst_v2 = indiensttreding_datum - uitdiensttreding_datum\n",
    "\n",
    "# Conditions:\n",
    "is_na = data['lengte_dienst'].isna() # lengte_dienst has missing value\n",
    "active = data['STATUS'] == 'Actief' # Status is active\n",
    "nonactive = data['STATUS'] == 'Beëindigd' # Status is nonactive\n",
    "\n",
    "# Calculate lengte_dienst for active employees and add to data set\n",
    "ld_active_days = data.loc[is_na&active, 'datum'] - data.loc[is_na&active, 'indiensttreding_datum']\n",
    "ld_active_years = np.floor(ld_active_days / pd.Timedelta(365.2422, 'days')) # number of full years (rounded down)\n",
    "data.loc[is_na&active, 'lengte_dienst'] = ld_active_years\n",
    "\n",
    "# Calculate lengte_dienst for nonactive employees and add to data set\n",
    "ld_nonactive_days = data.loc[is_na&nonactive, 'uitdiensttreding_datum'] - data.loc[is_na&nonactive, 'indiensttreding_datum']\n",
    "ld_nonactive_years = np.floor(ld_nonactive_days / pd.Timedelta(365.2422, 'days')) # number of full years (rounded down)\n",
    "data.loc[is_na&nonactive, 'lengte_dienst'] = ld_nonactive_years"
   ]
  },
  {
   "cell_type": "markdown",
   "id": "f958a0b8",
   "metadata": {},
   "source": [
    "#### Column 'stad'"
   ]
  },
  {
   "cell_type": "code",
   "execution_count": 2991,
   "id": "621df476",
   "metadata": {},
   "outputs": [
    {
     "name": "stdout",
     "output_type": "stream",
     "text": [
      "Number of WerknemerIDs with more than one city:  0\n"
     ]
    }
   ],
   "source": [
    "# Find WerknemerIDs that have more than one distinct value for a column\n",
    "def ids_mult_col_vals(column):\n",
    "    \n",
    "    # All unique cities (stad) per WerknemerID (not counting missing stad values)\n",
    "    vals_per_id = data.dropna(subset=[column]).groupby(['WerknemerID'])[column].unique()\n",
    "\n",
    "    # Check if there are employees that have lived in multiple cities.\n",
    "    ids_with_mult_vals = []\n",
    "    for werknemer_id, vals in zip(vals_per_id.index, vals_per_id):\n",
    "        if len(vals) > 1:\n",
    "            ids_with_mult_vals.append(werknemer_id)\n",
    "            \n",
    "    return vals_per_id, ids_with_mult_vals\n",
    "\n",
    "cities_per_id, ids_with_mult_cities = ids_mult_col_vals('stad')\n",
    "print(\"Number of WerknemerIDs with more than one city: \", len(ids_with_mult_cities))"
   ]
  },
  {
   "cell_type": "markdown",
   "id": "8818bff2",
   "metadata": {},
   "source": [
    "We can see that there are no employees that have lived in more than one city. Therefore, we can simply copy the city value from any of the rows for a particular WerknemerID."
   ]
  },
  {
   "cell_type": "code",
   "execution_count": 2992,
   "id": "5f6c99fa",
   "metadata": {
    "scrolled": true
   },
   "outputs": [
    {
     "name": "stdout",
     "output_type": "stream",
     "text": [
      "Number of rows with missing value for 'stad': 645\n",
      "Number of WerknemerIDs with missing values for 'stad': 93\n"
     ]
    }
   ],
   "source": [
    "# Get first element of list of cities for each WerknemerID (as there is only one in each list)\n",
    "city_per_id = cities_per_id.map(lambda x: x[0])\n",
    "\n",
    "# Update missing values with city per WerknemerID\n",
    "data.update(city_per_id, overwrite = False)\n",
    "\n",
    "print(\"Number of rows with missing value for 'stad':\", data['stad'].isna().sum())\n",
    "print(\"Number of WerknemerIDs with missing values for 'stad':\", len(data.loc[data['stad'].isna()].index.unique()))"
   ]
  },
  {
   "cell_type": "markdown",
   "id": "59ce8521",
   "metadata": {},
   "source": [
    "The remaining 107 employees with missing values for the column 'stad' have no value for 'stad' in any row. This means that we cannot fill in these missing data."
   ]
  },
  {
   "cell_type": "markdown",
   "id": "e1ba16ac",
   "metadata": {},
   "source": [
    "#### Column 'afdeling'"
   ]
  },
  {
   "cell_type": "code",
   "execution_count": 2993,
   "id": "2b253643",
   "metadata": {},
   "outputs": [
    {
     "name": "stdout",
     "output_type": "stream",
     "text": [
      "Number of WerknemerIDs with more than one department:  0\n"
     ]
    }
   ],
   "source": [
    "departments_per_id, ids_with_mult_departments = ids_mult_col_vals('afdeling')\n",
    "print(\"Number of WerknemerIDs with more than one department: \", len(ids_with_mult_departments))"
   ]
  },
  {
   "cell_type": "markdown",
   "id": "e913ba1d",
   "metadata": {},
   "source": [
    "Again, we can see that there are no employees that have worked for more than one department. Therefore, we can simply copy the department value from any of the rows for a particular WerknemerID."
   ]
  },
  {
   "cell_type": "code",
   "execution_count": 2994,
   "id": "1853b8f2",
   "metadata": {},
   "outputs": [
    {
     "name": "stdout",
     "output_type": "stream",
     "text": [
      "Number of rows with missing value for 'afdeling': 116\n",
      "Number of WerknemerIDs with missing values for 'afdeling': 29\n"
     ]
    }
   ],
   "source": [
    "# Get first element of list of cities for each WerknemerID (as there is only one in each list)\n",
    "department_per_id = departments_per_id.map(lambda x: x[0])\n",
    "\n",
    "# Update missing values with city per WerknemerID\n",
    "data.update(department_per_id, overwrite = False)\n",
    "\n",
    "print(\"Number of rows with missing value for 'afdeling':\", data['afdeling'].isna().sum())\n",
    "print(\"Number of WerknemerIDs with missing values for 'afdeling':\", len(data.loc[data['afdeling'].isna()].index.unique()))"
   ]
  },
  {
   "cell_type": "markdown",
   "id": "9711ba7c",
   "metadata": {},
   "source": [
    "The remaining 29 employees with missing values for the column 'stad' have no value for 'stad' in any row. This means that we cannot fill in these missing data."
   ]
  },
  {
   "cell_type": "markdown",
   "id": "ab3c6a3e",
   "metadata": {},
   "source": [
    "#### Removing (more) duplicates\n",
    "It could be that by filling in missing values, we have created more duplicates. Therefore, we have to check whether this happened and in case it did, drop the duplicates. To do this, we must first reset the index, because otherwise we might find duplicates that in fact have a different WerknemerID."
   ]
  },
  {
   "cell_type": "code",
   "execution_count": 2995,
   "id": "f73a3f78",
   "metadata": {},
   "outputs": [],
   "source": [
    "data.reset_index(inplace = True)\n",
    "data.drop_duplicates(inplace = True)\n",
    "data.set_index('WerknemerID', inplace = True)"
   ]
  },
  {
   "cell_type": "markdown",
   "id": "a11fe39e",
   "metadata": {},
   "source": [
    "#### Remaining missing values"
   ]
  },
  {
   "cell_type": "code",
   "execution_count": 2996,
   "id": "2d9888b7",
   "metadata": {},
   "outputs": [
    {
     "name": "stdout",
     "output_type": "stream",
     "text": [
      "Number of rows with any missing value: 755\n",
      "Number of WerknemerIDs with any missing value 116\n"
     ]
    }
   ],
   "source": [
    "print(\"Number of rows with any missing value:\", data.isna().any(axis=1).sum())\n",
    "print(\"Number of WerknemerIDs with any missing value\", len(data.loc[data.isna().any(axis=1)].index.unique()))"
   ]
  },
  {
   "cell_type": "code",
   "execution_count": 2997,
   "id": "149b9af7",
   "metadata": {},
   "outputs": [],
   "source": [
    "# Remove missing values for now\n",
    "data.dropna(inplace = True)"
   ]
  },
  {
   "cell_type": "markdown",
   "id": "fe9a6739",
   "metadata": {},
   "source": [
    "#### Only keep the latest status updates"
   ]
  },
  {
   "cell_type": "code",
   "execution_count": 2998,
   "id": "e8ee0066",
   "metadata": {
    "scrolled": false
   },
   "outputs": [],
   "source": [
    "# Find the latest status date for each WerknemerID\n",
    "latest_date_per_id = data.groupby(['WerknemerID'])['datum'].max()\n",
    "\n",
    "# Find intersection of original data set and lates date per WerknemerID\n",
    "data = data.merge(latest_date_per_id, how = 'inner', on = ['WerknemerID', 'datum'])"
   ]
  },
  {
   "cell_type": "code",
   "execution_count": 2999,
   "id": "6fb1bba1",
   "metadata": {},
   "outputs": [
    {
     "name": "stdout",
     "output_type": "stream",
     "text": [
      "Total number of rows: 6168\n",
      "Number of rows with any missing value: 0 \n",
      "\n",
      "Total number of WerknemerIDs 6168\n",
      "Number of WerknemerIDs with any missing value 0\n"
     ]
    }
   ],
   "source": [
    "print(\"Total number of rows:\", len(data))\n",
    "print(\"Number of rows with any missing value:\", data.isna().any(axis=1).sum(), \"\\n\")\n",
    "\n",
    "print(\"Total number of WerknemerIDs\", len(data.index.unique()))\n",
    "print(\"Number of WerknemerIDs with any missing value\", len(data.loc[data.isna().any(axis=1)].index.unique()))"
   ]
  },
  {
   "cell_type": "markdown",
   "id": "1f59e135",
   "metadata": {},
   "source": [
    "## Examine columns"
   ]
  },
  {
   "cell_type": "code",
   "execution_count": 3000,
   "id": "c8d5e39e",
   "metadata": {},
   "outputs": [
    {
     "data": {
      "text/html": [
       "<div>\n",
       "<style scoped>\n",
       "    .dataframe tbody tr th:only-of-type {\n",
       "        vertical-align: middle;\n",
       "    }\n",
       "\n",
       "    .dataframe tbody tr th {\n",
       "        vertical-align: top;\n",
       "    }\n",
       "\n",
       "    .dataframe thead th {\n",
       "        text-align: right;\n",
       "    }\n",
       "</style>\n",
       "<table border=\"1\" class=\"dataframe\">\n",
       "  <thead>\n",
       "    <tr style=\"text-align: right;\">\n",
       "      <th></th>\n",
       "      <th>leeftijd</th>\n",
       "      <th>lengte_dienst</th>\n",
       "      <th>klant_id</th>\n",
       "      <th>STATUS_JAAR</th>\n",
       "    </tr>\n",
       "  </thead>\n",
       "  <tbody>\n",
       "    <tr>\n",
       "      <th>count</th>\n",
       "      <td>6168.000000</td>\n",
       "      <td>6168.000000</td>\n",
       "      <td>6168.000000</td>\n",
       "      <td>6168.000000</td>\n",
       "    </tr>\n",
       "    <tr>\n",
       "      <th>mean</th>\n",
       "      <td>44.690986</td>\n",
       "      <td>12.843061</td>\n",
       "      <td>26.934663</td>\n",
       "      <td>2019.005674</td>\n",
       "    </tr>\n",
       "    <tr>\n",
       "      <th>std</th>\n",
       "      <td>14.091175</td>\n",
       "      <td>6.734513</td>\n",
       "      <td>13.422695</td>\n",
       "      <td>2.309616</td>\n",
       "    </tr>\n",
       "    <tr>\n",
       "      <th>min</th>\n",
       "      <td>19.000000</td>\n",
       "      <td>0.000000</td>\n",
       "      <td>1.000000</td>\n",
       "      <td>2011.000000</td>\n",
       "    </tr>\n",
       "    <tr>\n",
       "      <th>25%</th>\n",
       "      <td>32.000000</td>\n",
       "      <td>7.000000</td>\n",
       "      <td>16.000000</td>\n",
       "      <td>2020.000000</td>\n",
       "    </tr>\n",
       "    <tr>\n",
       "      <th>50%</th>\n",
       "      <td>45.000000</td>\n",
       "      <td>13.000000</td>\n",
       "      <td>26.500000</td>\n",
       "      <td>2020.000000</td>\n",
       "    </tr>\n",
       "    <tr>\n",
       "      <th>75%</th>\n",
       "      <td>58.000000</td>\n",
       "      <td>19.000000</td>\n",
       "      <td>41.000000</td>\n",
       "      <td>2020.000000</td>\n",
       "    </tr>\n",
       "    <tr>\n",
       "      <th>max</th>\n",
       "      <td>65.000000</td>\n",
       "      <td>26.000000</td>\n",
       "      <td>46.000000</td>\n",
       "      <td>2020.000000</td>\n",
       "    </tr>\n",
       "  </tbody>\n",
       "</table>\n",
       "</div>"
      ],
      "text/plain": [
       "          leeftijd  lengte_dienst     klant_id  STATUS_JAAR\n",
       "count  6168.000000    6168.000000  6168.000000  6168.000000\n",
       "mean     44.690986      12.843061    26.934663  2019.005674\n",
       "std      14.091175       6.734513    13.422695     2.309616\n",
       "min      19.000000       0.000000     1.000000  2011.000000\n",
       "25%      32.000000       7.000000    16.000000  2020.000000\n",
       "50%      45.000000      13.000000    26.500000  2020.000000\n",
       "75%      58.000000      19.000000    41.000000  2020.000000\n",
       "max      65.000000      26.000000    46.000000  2020.000000"
      ]
     },
     "execution_count": 3000,
     "metadata": {},
     "output_type": "execute_result"
    }
   ],
   "source": [
    "data.describe()"
   ]
  },
  {
   "cell_type": "code",
   "execution_count": 3001,
   "id": "0b0ff7df",
   "metadata": {
    "scrolled": true
   },
   "outputs": [
    {
     "data": {
      "text/plain": [
       "Amsterdam              1392\n",
       "Rotterdam               663\n",
       "Den Haag                502\n",
       "Utrecht                 399\n",
       "Rijswijk                305\n",
       "Zoetermeer              265\n",
       "Dordrecht               263\n",
       "Haarlem                 258\n",
       "Zaandam                 219\n",
       "Eindhoven               197\n",
       "Tilburg                 176\n",
       "Almere                  160\n",
       "Breda                   147\n",
       "Leiden                  121\n",
       "Alphen aan den Rijn     117\n",
       "Delft                   109\n",
       "Amstelveen              101\n",
       "Schiedam                 94\n",
       "Lelystad                 89\n",
       "Capelle                  87\n",
       "Zeist                    81\n",
       "Gouda                    80\n",
       "Hoogeveen                67\n",
       "Roermond                 65\n",
       "Woerden                  46\n",
       "Middelburg               42\n",
       "Pijnacker                39\n",
       "Barendrecht              32\n",
       "Alblasserdam             28\n",
       "Veenendaal               24\n",
       "Name: stad, dtype: int64"
      ]
     },
     "execution_count": 3001,
     "metadata": {},
     "output_type": "execute_result"
    }
   ],
   "source": [
    "data['stad'].value_counts(dropna = False)"
   ]
  },
  {
   "cell_type": "code",
   "execution_count": 3002,
   "id": "23ea2fcf",
   "metadata": {
    "scrolled": false
   },
   "outputs": [
    {
     "data": {
      "text/plain": [
       "Financial controller         1240\n",
       "BI                           1166\n",
       "Boekhouder                   1039\n",
       "Accountant                   1026\n",
       "Business analist              884\n",
       "Credit controller             730\n",
       "Project controller             35\n",
       "Business controller            10\n",
       "Administratief medewerker       9\n",
       "HR                              6\n",
       "Marketing                       6\n",
       "Business development            5\n",
       "IT                              5\n",
       "Office manager                  4\n",
       "Legal                           3\n",
       "Name: afdeling, dtype: int64"
      ]
     },
     "execution_count": 3002,
     "metadata": {},
     "output_type": "execute_result"
    }
   ],
   "source": [
    "data['afdeling'].value_counts(dropna = False)"
   ]
  },
  {
   "cell_type": "code",
   "execution_count": 3003,
   "id": "2402941b",
   "metadata": {
    "scrolled": true
   },
   "outputs": [
    {
     "data": {
      "text/plain": [
       "V    3221\n",
       "M    2947\n",
       "Name: geslacht_id, dtype: int64"
      ]
     },
     "execution_count": 3003,
     "metadata": {},
     "output_type": "execute_result"
    }
   ],
   "source": [
    "data['geslacht_id'].value_counts(dropna = False)"
   ]
  },
  {
   "cell_type": "code",
   "execution_count": 3004,
   "id": "b3b076c1",
   "metadata": {},
   "outputs": [
    {
     "data": {
      "text/plain": [
       "Vrouw    3221\n",
       "Man      2947\n",
       "Name: geslacht, dtype: int64"
      ]
     },
     "execution_count": 3004,
     "metadata": {},
     "output_type": "execute_result"
    }
   ],
   "source": [
    "data['geslacht'].value_counts(dropna = False)"
   ]
  },
  {
   "cell_type": "code",
   "execution_count": 3005,
   "id": "2a2e1e99",
   "metadata": {},
   "outputs": [
    {
     "data": {
      "text/plain": [
       "Niet van toepassing    4741\n",
       "Pensioen                849\n",
       "Vertrek                 364\n",
       "Ontslag                 214\n",
       "Name: uitdiensttreding_reden, dtype: int64"
      ]
     },
     "execution_count": 3005,
     "metadata": {},
     "output_type": "execute_result"
    }
   ],
   "source": [
    "data['uitdiensttreding_reden'].value_counts(dropna = False)"
   ]
  },
  {
   "cell_type": "code",
   "execution_count": 3006,
   "id": "cde7684a",
   "metadata": {
    "scrolled": true
   },
   "outputs": [
    {
     "data": {
      "text/plain": [
       "Niet van toepassing    4741\n",
       "Vrijwillig             1213\n",
       "Niet vrijwillig         214\n",
       "Name: uitdiensttreding_type, dtype: int64"
      ]
     },
     "execution_count": 3006,
     "metadata": {},
     "output_type": "execute_result"
    }
   ],
   "source": [
    "data['uitdiensttreding_type'].value_counts(dropna = False)"
   ]
  },
  {
   "cell_type": "code",
   "execution_count": 3007,
   "id": "337e4248",
   "metadata": {},
   "outputs": [
    {
     "data": {
      "text/plain": [
       "Actief       4741\n",
       "Beëindigd    1427\n",
       "Name: STATUS, dtype: int64"
      ]
     },
     "execution_count": 3007,
     "metadata": {},
     "output_type": "execute_result"
    }
   ],
   "source": [
    "data['STATUS'].value_counts(dropna = False)"
   ]
  },
  {
   "cell_type": "code",
   "execution_count": 3008,
   "id": "71410c70",
   "metadata": {
    "scrolled": true
   },
   "outputs": [
    {
     "data": {
      "text/plain": [
       "Detachering    6101\n",
       "Intern           67\n",
       "Name: BUSINESS_UNIT, dtype: int64"
      ]
     },
     "execution_count": 3008,
     "metadata": {},
     "output_type": "execute_result"
    }
   ],
   "source": [
    "data['BUSINESS_UNIT'].value_counts(dropna = False)"
   ]
  },
  {
   "cell_type": "markdown",
   "id": "68a5400c",
   "metadata": {},
   "source": [
    "# Modelling"
   ]
  },
  {
   "cell_type": "code",
   "execution_count": 3009,
   "id": "1f605965",
   "metadata": {},
   "outputs": [],
   "source": [
    "# %reset"
   ]
  }
 ],
 "metadata": {
  "kernelspec": {
   "display_name": "Python 3 (ipykernel)",
   "language": "python",
   "name": "python3"
  },
  "language_info": {
   "codemirror_mode": {
    "name": "ipython",
    "version": 3
   },
   "file_extension": ".py",
   "mimetype": "text/x-python",
   "name": "python",
   "nbconvert_exporter": "python",
   "pygments_lexer": "ipython3",
   "version": "3.9.7"
  }
 },
 "nbformat": 4,
 "nbformat_minor": 5
}
