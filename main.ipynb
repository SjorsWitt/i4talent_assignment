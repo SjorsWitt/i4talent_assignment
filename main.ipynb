{
 "cells": [
  {
   "cell_type": "code",
   "execution_count": 895,
   "id": "7888e345",
   "metadata": {},
   "outputs": [],
   "source": [
    "import pandas as pd\n",
    "import numpy as np"
   ]
  },
  {
   "cell_type": "code",
   "execution_count": 896,
   "id": "31ab3d1d",
   "metadata": {
    "scrolled": false
   },
   "outputs": [
    {
     "data": {
      "text/html": [
       "<div>\n",
       "<style scoped>\n",
       "    .dataframe tbody tr th:only-of-type {\n",
       "        vertical-align: middle;\n",
       "    }\n",
       "\n",
       "    .dataframe tbody tr th {\n",
       "        vertical-align: top;\n",
       "    }\n",
       "\n",
       "    .dataframe thead th {\n",
       "        text-align: right;\n",
       "    }\n",
       "</style>\n",
       "<table border=\"1\" class=\"dataframe\">\n",
       "  <thead>\n",
       "    <tr style=\"text-align: right;\">\n",
       "      <th></th>\n",
       "      <th>WerknemerID</th>\n",
       "      <th>datum</th>\n",
       "      <th>geboortedatum</th>\n",
       "      <th>indiensttreding_datum</th>\n",
       "      <th>uitdiensttreding_datum</th>\n",
       "      <th>leeftijd</th>\n",
       "      <th>lengte_dienst</th>\n",
       "      <th>stad</th>\n",
       "      <th>afdeling</th>\n",
       "      <th>klant_id</th>\n",
       "      <th>geslacht_id</th>\n",
       "      <th>geslacht</th>\n",
       "      <th>uitdiensttreding_reden</th>\n",
       "      <th>uitdiensttreding_type</th>\n",
       "      <th>STATUS_JAAR</th>\n",
       "      <th>STATUS</th>\n",
       "      <th>BUSINESS_UNIT</th>\n",
       "    </tr>\n",
       "  </thead>\n",
       "  <tbody>\n",
       "    <tr>\n",
       "      <th>0</th>\n",
       "      <td>6962</td>\n",
       "      <td>2018-12-31 05:06:00</td>\n",
       "      <td>1989-06-26 05:06:00</td>\n",
       "      <td>2013-05-23 05:06:00</td>\n",
       "      <td>1905-01-01 05:06:00</td>\n",
       "      <td>29.0</td>\n",
       "      <td>5.0</td>\n",
       "      <td>Amstelveen</td>\n",
       "      <td>BI</td>\n",
       "      <td>30</td>\n",
       "      <td>V</td>\n",
       "      <td>Vrouw</td>\n",
       "      <td>Niet van toepassing</td>\n",
       "      <td>Niet van toepassing</td>\n",
       "      <td>2018</td>\n",
       "      <td>Actief</td>\n",
       "      <td>Detachering</td>\n",
       "    </tr>\n",
       "    <tr>\n",
       "      <th>1</th>\n",
       "      <td>6212</td>\n",
       "      <td>2016-12-30 05:06:00</td>\n",
       "      <td>1983-08-25 05:06:00</td>\n",
       "      <td>2010-04-24 05:06:00</td>\n",
       "      <td>1905-01-01 05:06:00</td>\n",
       "      <td>33.0</td>\n",
       "      <td>6.0</td>\n",
       "      <td>Utrecht</td>\n",
       "      <td>Accountant</td>\n",
       "      <td>21</td>\n",
       "      <td>M</td>\n",
       "      <td>Man</td>\n",
       "      <td>Niet van toepassing</td>\n",
       "      <td>Niet van toepassing</td>\n",
       "      <td>2016</td>\n",
       "      <td>Actief</td>\n",
       "      <td>Detachering</td>\n",
       "    </tr>\n",
       "    <tr>\n",
       "      <th>2</th>\n",
       "      <td>5325</td>\n",
       "      <td>2018-12-31 05:06:00</td>\n",
       "      <td>1976-04-24 05:06:00</td>\n",
       "      <td>2006-06-09 05:06:00</td>\n",
       "      <td>1905-01-01 05:06:00</td>\n",
       "      <td>42.0</td>\n",
       "      <td>12.0</td>\n",
       "      <td>Amsterdam</td>\n",
       "      <td>BI</td>\n",
       "      <td>42</td>\n",
       "      <td>V</td>\n",
       "      <td>Vrouw</td>\n",
       "      <td>Niet van toepassing</td>\n",
       "      <td>Niet van toepassing</td>\n",
       "      <td>2018</td>\n",
       "      <td>Actief</td>\n",
       "      <td>Detachering</td>\n",
       "    </tr>\n",
       "    <tr>\n",
       "      <th>3</th>\n",
       "      <td>8193</td>\n",
       "      <td>2018-12-31 05:06:00</td>\n",
       "      <td>1998-10-26 05:06:00</td>\n",
       "      <td>2018-04-28 05:06:00</td>\n",
       "      <td>1905-01-01 05:06:00</td>\n",
       "      <td>20.0</td>\n",
       "      <td>NaN</td>\n",
       "      <td>Utrecht</td>\n",
       "      <td>BI</td>\n",
       "      <td>21</td>\n",
       "      <td>V</td>\n",
       "      <td>Vrouw</td>\n",
       "      <td>Niet van toepassing</td>\n",
       "      <td>Niet van toepassing</td>\n",
       "      <td>2018</td>\n",
       "      <td>Actief</td>\n",
       "      <td>Detachering</td>\n",
       "    </tr>\n",
       "    <tr>\n",
       "      <th>4</th>\n",
       "      <td>5926</td>\n",
       "      <td>2013-12-31 05:06:00</td>\n",
       "      <td>1981-03-19 05:06:00</td>\n",
       "      <td>2009-01-09 05:06:00</td>\n",
       "      <td>1905-01-01 05:06:00</td>\n",
       "      <td>32.0</td>\n",
       "      <td>4.0</td>\n",
       "      <td>Den Haag</td>\n",
       "      <td>Accountant</td>\n",
       "      <td>18</td>\n",
       "      <td>M</td>\n",
       "      <td>Man</td>\n",
       "      <td>Niet van toepassing</td>\n",
       "      <td>Niet van toepassing</td>\n",
       "      <td>2013</td>\n",
       "      <td>Actief</td>\n",
       "      <td>Detachering</td>\n",
       "    </tr>\n",
       "  </tbody>\n",
       "</table>\n",
       "</div>"
      ],
      "text/plain": [
       "   WerknemerID                datum        geboortedatum  \\\n",
       "0         6962  2018-12-31 05:06:00  1989-06-26 05:06:00   \n",
       "1         6212  2016-12-30 05:06:00  1983-08-25 05:06:00   \n",
       "2         5325  2018-12-31 05:06:00  1976-04-24 05:06:00   \n",
       "3         8193  2018-12-31 05:06:00  1998-10-26 05:06:00   \n",
       "4         5926  2013-12-31 05:06:00  1981-03-19 05:06:00   \n",
       "\n",
       "  indiensttreding_datum uitdiensttreding_datum  leeftijd  lengte_dienst  \\\n",
       "0   2013-05-23 05:06:00    1905-01-01 05:06:00      29.0            5.0   \n",
       "1   2010-04-24 05:06:00    1905-01-01 05:06:00      33.0            6.0   \n",
       "2   2006-06-09 05:06:00    1905-01-01 05:06:00      42.0           12.0   \n",
       "3   2018-04-28 05:06:00    1905-01-01 05:06:00      20.0            NaN   \n",
       "4   2009-01-09 05:06:00    1905-01-01 05:06:00      32.0            4.0   \n",
       "\n",
       "         stad    afdeling  klant_id geslacht_id geslacht  \\\n",
       "0  Amstelveen          BI        30           V    Vrouw   \n",
       "1     Utrecht  Accountant        21           M      Man   \n",
       "2   Amsterdam          BI        42           V    Vrouw   \n",
       "3     Utrecht          BI        21           V    Vrouw   \n",
       "4    Den Haag  Accountant        18           M      Man   \n",
       "\n",
       "  uitdiensttreding_reden uitdiensttreding_type  STATUS_JAAR  STATUS  \\\n",
       "0    Niet van toepassing   Niet van toepassing         2018  Actief   \n",
       "1    Niet van toepassing   Niet van toepassing         2016  Actief   \n",
       "2    Niet van toepassing   Niet van toepassing         2018  Actief   \n",
       "3    Niet van toepassing   Niet van toepassing         2018  Actief   \n",
       "4    Niet van toepassing   Niet van toepassing         2013  Actief   \n",
       "\n",
       "  BUSINESS_UNIT  \n",
       "0   Detachering  \n",
       "1   Detachering  \n",
       "2   Detachering  \n",
       "3   Detachering  \n",
       "4   Detachering  "
      ]
     },
     "execution_count": 896,
     "metadata": {},
     "output_type": "execute_result"
    }
   ],
   "source": [
    "# Load csv data file\n",
    "data = pd.read_csv('data/i4talent.csv')\n",
    "data.head()"
   ]
  },
  {
   "cell_type": "code",
   "execution_count": 897,
   "id": "38a7a10e",
   "metadata": {},
   "outputs": [
    {
     "data": {
      "text/plain": [
       "(49753, 17)"
      ]
     },
     "execution_count": 897,
     "metadata": {},
     "output_type": "execute_result"
    }
   ],
   "source": [
    "data.shape"
   ]
  },
  {
   "cell_type": "markdown",
   "id": "412f1c2a",
   "metadata": {},
   "source": [
    "# Exploratory Data Analysis"
   ]
  },
  {
   "cell_type": "code",
   "execution_count": 898,
   "id": "917dce3e",
   "metadata": {
    "scrolled": true
   },
   "outputs": [
    {
     "name": "stdout",
     "output_type": "stream",
     "text": [
      "<class 'pandas.core.frame.DataFrame'>\n",
      "RangeIndex: 49753 entries, 0 to 49752\n",
      "Data columns (total 17 columns):\n",
      " #   Column                  Non-Null Count  Dtype  \n",
      "---  ------                  --------------  -----  \n",
      " 0   WerknemerID             49753 non-null  int64  \n",
      " 1   datum                   49753 non-null  object \n",
      " 2   geboortedatum           49753 non-null  object \n",
      " 3   indiensttreding_datum   49753 non-null  object \n",
      " 4   uitdiensttreding_datum  49753 non-null  object \n",
      " 5   leeftijd                44653 non-null  float64\n",
      " 6   lengte_dienst           44802 non-null  float64\n",
      " 7   stad                    44210 non-null  object \n",
      " 8   afdeling                44688 non-null  object \n",
      " 9   klant_id                49753 non-null  int64  \n",
      " 10  geslacht_id             49753 non-null  object \n",
      " 11  geslacht                49753 non-null  object \n",
      " 12  uitdiensttreding_reden  49753 non-null  object \n",
      " 13  uitdiensttreding_type   49753 non-null  object \n",
      " 14  STATUS_JAAR             49753 non-null  int64  \n",
      " 15  STATUS                  49753 non-null  object \n",
      " 16  BUSINESS_UNIT           49753 non-null  object \n",
      "dtypes: float64(2), int64(3), object(12)\n",
      "memory usage: 6.5+ MB\n"
     ]
    }
   ],
   "source": [
    "# data.dtypes\n",
    "data.info()"
   ]
  },
  {
   "cell_type": "code",
   "execution_count": 899,
   "id": "f8145b78",
   "metadata": {
    "scrolled": true
   },
   "outputs": [],
   "source": [
    "# Remove all duplicate rows\n",
    "data.drop_duplicates(inplace=True)"
   ]
  },
  {
   "cell_type": "code",
   "execution_count": 900,
   "id": "5b935b1e",
   "metadata": {
    "scrolled": true
   },
   "outputs": [
    {
     "data": {
      "text/plain": [
       "WerknemerID                  0\n",
       "datum                        0\n",
       "geboortedatum                0\n",
       "indiensttreding_datum        0\n",
       "uitdiensttreding_datum       0\n",
       "leeftijd                  5100\n",
       "lengte_dienst             4951\n",
       "stad                      5543\n",
       "afdeling                  5065\n",
       "klant_id                     0\n",
       "geslacht_id                  0\n",
       "geslacht                     0\n",
       "uitdiensttreding_reden       0\n",
       "uitdiensttreding_type        0\n",
       "STATUS_JAAR                  0\n",
       "STATUS                       0\n",
       "BUSINESS_UNIT                0\n",
       "dtype: int64"
      ]
     },
     "execution_count": 900,
     "metadata": {},
     "output_type": "execute_result"
    }
   ],
   "source": [
    "# Find number of missing values for each column\n",
    "data.isna().sum()"
   ]
  },
  {
   "cell_type": "code",
   "execution_count": 901,
   "id": "9ead2000",
   "metadata": {},
   "outputs": [],
   "source": [
    "# Set WerknemerID as index\n",
    "data.set_index('WerknemerID', inplace = True)"
   ]
  },
  {
   "cell_type": "code",
   "execution_count": 902,
   "id": "04cacbae",
   "metadata": {},
   "outputs": [
    {
     "name": "stdout",
     "output_type": "stream",
     "text": [
      "Total number of rows: 49721\n",
      "Number of rows with any missing value: 17671 \n",
      "\n",
      "Total number of WerknemerIDs 6284\n",
      "Number of WerknemerIDs with any missing value 5726\n"
     ]
    }
   ],
   "source": [
    "print(\"Total number of rows:\", len(data))\n",
    "print(\"Number of rows with any missing value:\", data.isna().any(axis=1).sum(), \"\\n\")\n",
    "\n",
    "print(\"Total number of WerknemerIDs\", len(data.index.unique()))\n",
    "print(\"Number of WerknemerIDs with any missing value\", len(data.loc[data.isna().any(axis=1)].index.unique()))"
   ]
  },
  {
   "cell_type": "code",
   "execution_count": 903,
   "id": "fc57e736",
   "metadata": {
    "scrolled": true
   },
   "outputs": [
    {
     "data": {
      "text/html": [
       "<div>\n",
       "<style scoped>\n",
       "    .dataframe tbody tr th:only-of-type {\n",
       "        vertical-align: middle;\n",
       "    }\n",
       "\n",
       "    .dataframe tbody tr th {\n",
       "        vertical-align: top;\n",
       "    }\n",
       "\n",
       "    .dataframe thead th {\n",
       "        text-align: right;\n",
       "    }\n",
       "</style>\n",
       "<table border=\"1\" class=\"dataframe\">\n",
       "  <thead>\n",
       "    <tr style=\"text-align: right;\">\n",
       "      <th></th>\n",
       "      <th>datum</th>\n",
       "      <th>geboortedatum</th>\n",
       "      <th>indiensttreding_datum</th>\n",
       "      <th>uitdiensttreding_datum</th>\n",
       "      <th>leeftijd</th>\n",
       "      <th>lengte_dienst</th>\n",
       "      <th>stad</th>\n",
       "      <th>afdeling</th>\n",
       "      <th>klant_id</th>\n",
       "      <th>geslacht_id</th>\n",
       "      <th>geslacht</th>\n",
       "      <th>uitdiensttreding_reden</th>\n",
       "      <th>uitdiensttreding_type</th>\n",
       "      <th>STATUS_JAAR</th>\n",
       "      <th>STATUS</th>\n",
       "      <th>BUSINESS_UNIT</th>\n",
       "    </tr>\n",
       "    <tr>\n",
       "      <th>WerknemerID</th>\n",
       "      <th></th>\n",
       "      <th></th>\n",
       "      <th></th>\n",
       "      <th></th>\n",
       "      <th></th>\n",
       "      <th></th>\n",
       "      <th></th>\n",
       "      <th></th>\n",
       "      <th></th>\n",
       "      <th></th>\n",
       "      <th></th>\n",
       "      <th></th>\n",
       "      <th></th>\n",
       "      <th></th>\n",
       "      <th></th>\n",
       "      <th></th>\n",
       "    </tr>\n",
       "  </thead>\n",
       "  <tbody>\n",
       "    <tr>\n",
       "      <th>2008</th>\n",
       "      <td>2020-12-30 05:06:00</td>\n",
       "      <td>1957-10-23 05:06:00</td>\n",
       "      <td>1996-08-31 05:06:00</td>\n",
       "      <td>1905-01-01 05:06:00</td>\n",
       "      <td>63.0</td>\n",
       "      <td>NaN</td>\n",
       "      <td>NaN</td>\n",
       "      <td>NaN</td>\n",
       "      <td>5</td>\n",
       "      <td>V</td>\n",
       "      <td>Vrouw</td>\n",
       "      <td>Niet van toepassing</td>\n",
       "      <td>Niet van toepassing</td>\n",
       "      <td>2020</td>\n",
       "      <td>Actief</td>\n",
       "      <td>Detachering</td>\n",
       "    </tr>\n",
       "    <tr>\n",
       "      <th>2008</th>\n",
       "      <td>2012-12-30 05:06:00</td>\n",
       "      <td>1957-10-23 05:06:00</td>\n",
       "      <td>1996-08-31 05:06:00</td>\n",
       "      <td>1905-01-01 05:06:00</td>\n",
       "      <td>55.0</td>\n",
       "      <td>16.0</td>\n",
       "      <td>Haarlem</td>\n",
       "      <td>Financial controller</td>\n",
       "      <td>5</td>\n",
       "      <td>V</td>\n",
       "      <td>Vrouw</td>\n",
       "      <td>Niet van toepassing</td>\n",
       "      <td>Niet van toepassing</td>\n",
       "      <td>2012</td>\n",
       "      <td>Actief</td>\n",
       "      <td>Detachering</td>\n",
       "    </tr>\n",
       "    <tr>\n",
       "      <th>2008</th>\n",
       "      <td>2011-12-31 05:06:00</td>\n",
       "      <td>1957-10-23 05:06:00</td>\n",
       "      <td>1996-08-31 05:06:00</td>\n",
       "      <td>1905-01-01 05:06:00</td>\n",
       "      <td>54.0</td>\n",
       "      <td>15.0</td>\n",
       "      <td>Haarlem</td>\n",
       "      <td>Financial controller</td>\n",
       "      <td>5</td>\n",
       "      <td>V</td>\n",
       "      <td>Vrouw</td>\n",
       "      <td>Niet van toepassing</td>\n",
       "      <td>Niet van toepassing</td>\n",
       "      <td>2011</td>\n",
       "      <td>Actief</td>\n",
       "      <td>Detachering</td>\n",
       "    </tr>\n",
       "    <tr>\n",
       "      <th>2008</th>\n",
       "      <td>2017-12-31 05:06:00</td>\n",
       "      <td>1957-10-23 05:06:00</td>\n",
       "      <td>1996-08-31 05:06:00</td>\n",
       "      <td>1905-01-01 05:06:00</td>\n",
       "      <td>60.0</td>\n",
       "      <td>21.0</td>\n",
       "      <td>Haarlem</td>\n",
       "      <td>Financial controller</td>\n",
       "      <td>5</td>\n",
       "      <td>V</td>\n",
       "      <td>Vrouw</td>\n",
       "      <td>Niet van toepassing</td>\n",
       "      <td>Niet van toepassing</td>\n",
       "      <td>2017</td>\n",
       "      <td>Actief</td>\n",
       "      <td>Detachering</td>\n",
       "    </tr>\n",
       "    <tr>\n",
       "      <th>2008</th>\n",
       "      <td>2015-12-31 05:06:00</td>\n",
       "      <td>1957-10-23 05:06:00</td>\n",
       "      <td>1996-08-31 05:06:00</td>\n",
       "      <td>1905-01-01 05:06:00</td>\n",
       "      <td>58.0</td>\n",
       "      <td>19.0</td>\n",
       "      <td>Haarlem</td>\n",
       "      <td>Financial controller</td>\n",
       "      <td>5</td>\n",
       "      <td>V</td>\n",
       "      <td>Vrouw</td>\n",
       "      <td>Niet van toepassing</td>\n",
       "      <td>Niet van toepassing</td>\n",
       "      <td>2015</td>\n",
       "      <td>Actief</td>\n",
       "      <td>Detachering</td>\n",
       "    </tr>\n",
       "    <tr>\n",
       "      <th>2008</th>\n",
       "      <td>2019-12-31 05:06:00</td>\n",
       "      <td>1957-10-23 05:06:00</td>\n",
       "      <td>1996-08-31 05:06:00</td>\n",
       "      <td>1905-01-01 05:06:00</td>\n",
       "      <td>NaN</td>\n",
       "      <td>23.0</td>\n",
       "      <td>Haarlem</td>\n",
       "      <td>Financial controller</td>\n",
       "      <td>5</td>\n",
       "      <td>V</td>\n",
       "      <td>Vrouw</td>\n",
       "      <td>Niet van toepassing</td>\n",
       "      <td>Niet van toepassing</td>\n",
       "      <td>2019</td>\n",
       "      <td>Actief</td>\n",
       "      <td>Detachering</td>\n",
       "    </tr>\n",
       "    <tr>\n",
       "      <th>2008</th>\n",
       "      <td>2018-12-31 05:06:00</td>\n",
       "      <td>1957-10-23 05:06:00</td>\n",
       "      <td>1996-08-31 05:06:00</td>\n",
       "      <td>1905-01-01 05:06:00</td>\n",
       "      <td>61.0</td>\n",
       "      <td>22.0</td>\n",
       "      <td>Haarlem</td>\n",
       "      <td>Financial controller</td>\n",
       "      <td>5</td>\n",
       "      <td>V</td>\n",
       "      <td>Vrouw</td>\n",
       "      <td>Niet van toepassing</td>\n",
       "      <td>Niet van toepassing</td>\n",
       "      <td>2018</td>\n",
       "      <td>Actief</td>\n",
       "      <td>Detachering</td>\n",
       "    </tr>\n",
       "    <tr>\n",
       "      <th>2008</th>\n",
       "      <td>2016-12-30 05:06:00</td>\n",
       "      <td>1957-10-23 05:06:00</td>\n",
       "      <td>1996-08-31 05:06:00</td>\n",
       "      <td>1905-01-01 05:06:00</td>\n",
       "      <td>59.0</td>\n",
       "      <td>20.0</td>\n",
       "      <td>Haarlem</td>\n",
       "      <td>NaN</td>\n",
       "      <td>5</td>\n",
       "      <td>V</td>\n",
       "      <td>Vrouw</td>\n",
       "      <td>Niet van toepassing</td>\n",
       "      <td>Niet van toepassing</td>\n",
       "      <td>2016</td>\n",
       "      <td>Actief</td>\n",
       "      <td>Detachering</td>\n",
       "    </tr>\n",
       "    <tr>\n",
       "      <th>2008</th>\n",
       "      <td>2014-12-31 05:06:00</td>\n",
       "      <td>1957-10-23 05:06:00</td>\n",
       "      <td>1996-08-31 05:06:00</td>\n",
       "      <td>1905-01-01 05:06:00</td>\n",
       "      <td>57.0</td>\n",
       "      <td>18.0</td>\n",
       "      <td>Haarlem</td>\n",
       "      <td>NaN</td>\n",
       "      <td>5</td>\n",
       "      <td>V</td>\n",
       "      <td>Vrouw</td>\n",
       "      <td>Niet van toepassing</td>\n",
       "      <td>Niet van toepassing</td>\n",
       "      <td>2014</td>\n",
       "      <td>Actief</td>\n",
       "      <td>Detachering</td>\n",
       "    </tr>\n",
       "    <tr>\n",
       "      <th>2008</th>\n",
       "      <td>2013-12-31 05:06:00</td>\n",
       "      <td>1957-10-23 05:06:00</td>\n",
       "      <td>1996-08-31 05:06:00</td>\n",
       "      <td>1905-01-01 05:06:00</td>\n",
       "      <td>56.0</td>\n",
       "      <td>17.0</td>\n",
       "      <td>Haarlem</td>\n",
       "      <td>Financial controller</td>\n",
       "      <td>5</td>\n",
       "      <td>V</td>\n",
       "      <td>Vrouw</td>\n",
       "      <td>Niet van toepassing</td>\n",
       "      <td>Niet van toepassing</td>\n",
       "      <td>2013</td>\n",
       "      <td>Actief</td>\n",
       "      <td>Detachering</td>\n",
       "    </tr>\n",
       "  </tbody>\n",
       "</table>\n",
       "</div>"
      ],
      "text/plain": [
       "                           datum        geboortedatum indiensttreding_datum  \\\n",
       "WerknemerID                                                                   \n",
       "2008         2020-12-30 05:06:00  1957-10-23 05:06:00   1996-08-31 05:06:00   \n",
       "2008         2012-12-30 05:06:00  1957-10-23 05:06:00   1996-08-31 05:06:00   \n",
       "2008         2011-12-31 05:06:00  1957-10-23 05:06:00   1996-08-31 05:06:00   \n",
       "2008         2017-12-31 05:06:00  1957-10-23 05:06:00   1996-08-31 05:06:00   \n",
       "2008         2015-12-31 05:06:00  1957-10-23 05:06:00   1996-08-31 05:06:00   \n",
       "2008         2019-12-31 05:06:00  1957-10-23 05:06:00   1996-08-31 05:06:00   \n",
       "2008         2018-12-31 05:06:00  1957-10-23 05:06:00   1996-08-31 05:06:00   \n",
       "2008         2016-12-30 05:06:00  1957-10-23 05:06:00   1996-08-31 05:06:00   \n",
       "2008         2014-12-31 05:06:00  1957-10-23 05:06:00   1996-08-31 05:06:00   \n",
       "2008         2013-12-31 05:06:00  1957-10-23 05:06:00   1996-08-31 05:06:00   \n",
       "\n",
       "            uitdiensttreding_datum  leeftijd  lengte_dienst     stad  \\\n",
       "WerknemerID                                                            \n",
       "2008           1905-01-01 05:06:00      63.0            NaN      NaN   \n",
       "2008           1905-01-01 05:06:00      55.0           16.0  Haarlem   \n",
       "2008           1905-01-01 05:06:00      54.0           15.0  Haarlem   \n",
       "2008           1905-01-01 05:06:00      60.0           21.0  Haarlem   \n",
       "2008           1905-01-01 05:06:00      58.0           19.0  Haarlem   \n",
       "2008           1905-01-01 05:06:00       NaN           23.0  Haarlem   \n",
       "2008           1905-01-01 05:06:00      61.0           22.0  Haarlem   \n",
       "2008           1905-01-01 05:06:00      59.0           20.0  Haarlem   \n",
       "2008           1905-01-01 05:06:00      57.0           18.0  Haarlem   \n",
       "2008           1905-01-01 05:06:00      56.0           17.0  Haarlem   \n",
       "\n",
       "                         afdeling  klant_id geslacht_id geslacht  \\\n",
       "WerknemerID                                                        \n",
       "2008                          NaN         5           V    Vrouw   \n",
       "2008         Financial controller         5           V    Vrouw   \n",
       "2008         Financial controller         5           V    Vrouw   \n",
       "2008         Financial controller         5           V    Vrouw   \n",
       "2008         Financial controller         5           V    Vrouw   \n",
       "2008         Financial controller         5           V    Vrouw   \n",
       "2008         Financial controller         5           V    Vrouw   \n",
       "2008                          NaN         5           V    Vrouw   \n",
       "2008                          NaN         5           V    Vrouw   \n",
       "2008         Financial controller         5           V    Vrouw   \n",
       "\n",
       "            uitdiensttreding_reden uitdiensttreding_type  STATUS_JAAR  STATUS  \\\n",
       "WerknemerID                                                                     \n",
       "2008           Niet van toepassing   Niet van toepassing         2020  Actief   \n",
       "2008           Niet van toepassing   Niet van toepassing         2012  Actief   \n",
       "2008           Niet van toepassing   Niet van toepassing         2011  Actief   \n",
       "2008           Niet van toepassing   Niet van toepassing         2017  Actief   \n",
       "2008           Niet van toepassing   Niet van toepassing         2015  Actief   \n",
       "2008           Niet van toepassing   Niet van toepassing         2019  Actief   \n",
       "2008           Niet van toepassing   Niet van toepassing         2018  Actief   \n",
       "2008           Niet van toepassing   Niet van toepassing         2016  Actief   \n",
       "2008           Niet van toepassing   Niet van toepassing         2014  Actief   \n",
       "2008           Niet van toepassing   Niet van toepassing         2013  Actief   \n",
       "\n",
       "            BUSINESS_UNIT  \n",
       "WerknemerID                \n",
       "2008          Detachering  \n",
       "2008          Detachering  \n",
       "2008          Detachering  \n",
       "2008          Detachering  \n",
       "2008          Detachering  \n",
       "2008          Detachering  \n",
       "2008          Detachering  \n",
       "2008          Detachering  \n",
       "2008          Detachering  \n",
       "2008          Detachering  "
      ]
     },
     "execution_count": 903,
     "metadata": {},
     "output_type": "execute_result"
    }
   ],
   "source": [
    "# Examine all rows for one WerknemerID\n",
    "data.loc[2008]"
   ]
  },
  {
   "cell_type": "markdown",
   "id": "6f841bc3",
   "metadata": {},
   "source": [
    "We see that there are multiple rows for each WerknemerID, with some missing values. We found before that leeftijd, lengte_dienst, stad and afdeling are the only columns with missing values. We can calculate leeftijd and lengte_dienst by using the columns datum, geboortedatum, indiensttreding_datum and uitdiensttreding_datum. For the missing values in columns stad and afdeling, we will simply find their values in other rows with the same WerknemerID index. We will do so in the next section."
   ]
  },
  {
   "cell_type": "markdown",
   "id": "276783ab",
   "metadata": {},
   "source": [
    "## Filling in missing data"
   ]
  },
  {
   "cell_type": "code",
   "execution_count": 904,
   "id": "d79e3b6c",
   "metadata": {},
   "outputs": [],
   "source": [
    "# Change date strings to type Timestamp\n",
    "cols = ['datum', 'geboortedatum', 'indiensttreding_datum', 'uitdiensttreding_datum']\n",
    "data[cols] = data[cols].apply(pd.to_datetime, errors='raise')\n",
    "# data.dtypes # Check"
   ]
  },
  {
   "cell_type": "markdown",
   "id": "8f9c618a",
   "metadata": {},
   "source": [
    "#### Column 'leeftijd'"
   ]
  },
  {
   "cell_type": "code",
   "execution_count": 905,
   "id": "a6b12013",
   "metadata": {
    "scrolled": true
   },
   "outputs": [],
   "source": [
    "# Condition:\n",
    "is_na = data['leeftijd'].isna() # leeftijd has missing value\n",
    "\n",
    "# Calculate leeftijd and add to data set\n",
    "leeftijd_days = data.loc[is_na, 'datum'] - data.loc[is_na, 'geboortedatum']\n",
    "leeftijd_years = np.floor(leeftijd_days / pd.Timedelta(365.2422, 'days')) # number of full years (rounded down)\n",
    "\n",
    "data.loc[is_na, 'leeftijd'] = leeftijd_years"
   ]
  },
  {
   "cell_type": "markdown",
   "id": "6bde8e92",
   "metadata": {},
   "source": [
    "#### Column 'lengte_dienst'"
   ]
  },
  {
   "cell_type": "code",
   "execution_count": 906,
   "id": "b60f0831",
   "metadata": {},
   "outputs": [],
   "source": [
    "# If STATUS is Actief -> lengte_dienst_v2 = indiensttreding_datum - datum\n",
    "# If STATUS is Beëindigd -> lengte_dienst_v2 = indiensttreding_datum - uitdiensttreding_datum\n",
    "\n",
    "# Conditions:\n",
    "is_na = data['lengte_dienst'].isna() # lengte_dienst has missing value\n",
    "active = data['STATUS'] == 'Actief' # Status is active\n",
    "nonactive = data['STATUS'] == 'Beëindigd' # Status is nonactive\n",
    "\n",
    "# Calculate lengte_dienst for active employees and add to data set\n",
    "ld_active_days = data.loc[is_na&active, 'datum'] - data.loc[is_na&active, 'indiensttreding_datum']\n",
    "ld_active_years = np.floor(ld_active_days / pd.Timedelta(365.2422, 'days')) # number of full years (rounded down)\n",
    "data.loc[is_na&active, 'lengte_dienst'] = ld_active_years\n",
    "\n",
    "# Calculate lengte_dienst for nonactive employees and add to data set\n",
    "ld_nonactive_days = data.loc[is_na&nonactive, 'uitdiensttreding_datum'] - data.loc[is_na&nonactive, 'indiensttreding_datum']\n",
    "ld_nonactive_years = np.floor(ld_nonactive_days / pd.Timedelta(365.2422, 'days')) # number of full years (rounded down)\n",
    "data.loc[is_na&nonactive, 'lengte_dienst'] = ld_nonactive_years"
   ]
  },
  {
   "cell_type": "markdown",
   "id": "f958a0b8",
   "metadata": {},
   "source": [
    "#### Column 'stad'"
   ]
  },
  {
   "cell_type": "code",
   "execution_count": 907,
   "id": "663badc6",
   "metadata": {},
   "outputs": [
    {
     "name": "stdout",
     "output_type": "stream",
     "text": [
      "Number of WerknemerIDs with more than one city:  0\n"
     ]
    }
   ],
   "source": [
    "# Find WerknemerIDs that have more than one distinct value for a column\n",
    "def ids_mult_col_vals(column):\n",
    "    \n",
    "    # All unique cities (stad) per WerknemerID (not counting missing stad values)\n",
    "    vals_per_id = data.dropna(subset=[column]).groupby(['WerknemerID'])[column].unique()\n",
    "\n",
    "    # Check if there are employees that have lived in multiple cities.\n",
    "    ids_with_mult_vals = []\n",
    "    for werknemer_id, vals in zip(vals_per_id.index, vals_per_id):\n",
    "        if len(vals) > 1:\n",
    "            ids_with_mult_vals.append(werknemer_id)\n",
    "            \n",
    "    return vals_per_id, ids_with_mult_vals\n",
    "\n",
    "cities_per_id, ids_with_mult_cities = ids_mult_col_vals('stad')\n",
    "print(\"Number of WerknemerIDs with more than one city: \", len(ids_with_mult_cities))"
   ]
  },
  {
   "cell_type": "markdown",
   "id": "81b5cbdf",
   "metadata": {},
   "source": [
    "We can see that there are no employees that have lived in more than one city. Therefore, we can simply copy the city value from any of the rows for a particular WerknemerID."
   ]
  },
  {
   "cell_type": "code",
   "execution_count": 908,
   "id": "8f6d3e6f",
   "metadata": {
    "scrolled": true
   },
   "outputs": [
    {
     "name": "stdout",
     "output_type": "stream",
     "text": [
      "Number of rows with missing value for 'stad': 645\n",
      "Number of WerknemerIDs with missing values for 'stad': 93\n"
     ]
    }
   ],
   "source": [
    "# Get first element of list of cities for each WerknemerID (as there is only one in each list)\n",
    "city_per_id = cities_per_id.map(lambda x: x[0])\n",
    "\n",
    "# Update missing values with city per WerknemerID\n",
    "data.update(city_per_id, overwrite = False)\n",
    "\n",
    "print(\"Number of rows with missing value for 'stad':\", data['stad'].isna().sum())\n",
    "print(\"Number of WerknemerIDs with missing values for 'stad':\", len(data.loc[data['stad'].isna()].index.unique()))"
   ]
  },
  {
   "cell_type": "markdown",
   "id": "b7cbecf4",
   "metadata": {},
   "source": [
    "The remaining 107 employees with missing values for the column 'stad' have no value for 'stad' in any row. This means that we cannot fill in these missing data."
   ]
  },
  {
   "cell_type": "markdown",
   "id": "e1ba16ac",
   "metadata": {},
   "source": [
    "#### Column 'afdeling'"
   ]
  },
  {
   "cell_type": "code",
   "execution_count": 909,
   "id": "8b45151f",
   "metadata": {},
   "outputs": [
    {
     "name": "stdout",
     "output_type": "stream",
     "text": [
      "Number of WerknemerIDs with more than one department:  0\n"
     ]
    }
   ],
   "source": [
    "departments_per_id, ids_with_mult_departments = ids_mult_col_vals('afdeling')\n",
    "print(\"Number of WerknemerIDs with more than one department: \", len(ids_with_mult_departments))"
   ]
  },
  {
   "cell_type": "markdown",
   "id": "0b213276",
   "metadata": {},
   "source": [
    "Again, we can see that there are no employees that have worked for more than one department. Therefore, we can simply copy the department value from any of the rows for a particular WerknemerID."
   ]
  },
  {
   "cell_type": "code",
   "execution_count": 910,
   "id": "89e41f94",
   "metadata": {},
   "outputs": [
    {
     "name": "stdout",
     "output_type": "stream",
     "text": [
      "Number of rows with missing value for 'afdeling': 116\n",
      "Number of WerknemerIDs with missing values for 'afdeling': 29\n"
     ]
    }
   ],
   "source": [
    "# Get first element of list of cities for each WerknemerID (as there is only one in each list)\n",
    "department_per_id = departments_per_id.map(lambda x: x[0])\n",
    "\n",
    "# Update missing values with city per WerknemerID\n",
    "data.update(department_per_id, overwrite = False)\n",
    "\n",
    "print(\"Number of rows with missing value for 'afdeling':\", data['afdeling'].isna().sum())\n",
    "print(\"Number of WerknemerIDs with missing values for 'afdeling':\", len(data.loc[data['afdeling'].isna()].index.unique()))"
   ]
  },
  {
   "cell_type": "markdown",
   "id": "6eed4a72",
   "metadata": {},
   "source": [
    "The remaining 29 employees with missing values for the column 'stad' have no value for 'stad' in any row. This means that we cannot fill in these missing data."
   ]
  },
  {
   "cell_type": "markdown",
   "id": "d1721332",
   "metadata": {},
   "source": [
    "## Removing (more) duplicates\n",
    "It could be that by filling in missing values, we have created more duplicates. Therefore, we have to check whether this happened and in case it did, drop the duplicates. To do this, we must first reset the index, because otherwise we might find duplicates that in fact have a different WerknemerID."
   ]
  },
  {
   "cell_type": "code",
   "execution_count": 911,
   "id": "0b2578eb",
   "metadata": {},
   "outputs": [],
   "source": [
    "data.reset_index(inplace = True)\n",
    "data.drop_duplicates(inplace = True)\n",
    "data.set_index('WerknemerID', inplace = True)"
   ]
  },
  {
   "cell_type": "markdown",
   "id": "89551670",
   "metadata": {},
   "source": [
    "## Remaining missing values"
   ]
  },
  {
   "cell_type": "code",
   "execution_count": 912,
   "id": "471ec687",
   "metadata": {},
   "outputs": [
    {
     "name": "stdout",
     "output_type": "stream",
     "text": [
      "Number of rows with any missing value: 755\n",
      "Number of WerknemerIDs with any missing value 116\n"
     ]
    }
   ],
   "source": [
    "print(\"Number of rows with any missing value:\", data.isna().any(axis=1).sum())\n",
    "print(\"Number of WerknemerIDs with any missing value\", len(data.loc[data.isna().any(axis=1)].index.unique()))"
   ]
  },
  {
   "cell_type": "code",
   "execution_count": 913,
   "id": "bf077404",
   "metadata": {},
   "outputs": [],
   "source": [
    "# Remove missing values for now\n",
    "data.dropna(inplace = True)"
   ]
  },
  {
   "cell_type": "markdown",
   "id": "4b0c330e",
   "metadata": {},
   "source": [
    "## Only keep the latest status updates \n",
    "We don't need to do this if we're only going to keep nonactive employees in the data set."
   ]
  },
  {
   "cell_type": "code",
   "execution_count": 914,
   "id": "8f739d52",
   "metadata": {},
   "outputs": [],
   "source": [
    "# Find the latest status date for each WerknemerID\n",
    "# latest_date_per_id = data.groupby(['WerknemerID'])['datum'].max()\n",
    "\n",
    "# Find intersection of original data set and lates date per WerknemerID\n",
    "# data = data.merge(latest_date_per_id, how = 'inner', on = ['WerknemerID', 'datum'])"
   ]
  },
  {
   "cell_type": "markdown",
   "id": "bdc63779",
   "metadata": {},
   "source": [
    "## Only keep nonactive employees\n",
    "We want to keep only the nonactive employees, because we cannot learn anything about the outflow of employees from employees that are still active."
   ]
  },
  {
   "cell_type": "code",
   "execution_count": 915,
   "id": "23131b4b",
   "metadata": {},
   "outputs": [],
   "source": [
    "data = data.loc[data['STATUS'] == 'Beëindigd']"
   ]
  },
  {
   "cell_type": "code",
   "execution_count": 916,
   "id": "3757fa8b",
   "metadata": {},
   "outputs": [
    {
     "name": "stdout",
     "output_type": "stream",
     "text": [
      "Total number of rows: 1432\n",
      "Number of rows with any missing value: 0 \n",
      "\n",
      "Total number of WerknemerIDs 1432\n",
      "Number of WerknemerIDs with any missing value 0\n"
     ]
    }
   ],
   "source": [
    "print(\"Total number of rows:\", len(data))\n",
    "print(\"Number of rows with any missing value:\", data.isna().any(axis=1).sum(), \"\\n\")\n",
    "\n",
    "print(\"Total number of WerknemerIDs\", len(data.index.unique()))\n",
    "print(\"Number of WerknemerIDs with any missing value\", len(data.loc[data.isna().any(axis=1)].index.unique()))"
   ]
  },
  {
   "cell_type": "markdown",
   "id": "2370bde9",
   "metadata": {},
   "source": [
    "## Add indiensttreding_leeftijd\n",
    "If we want to predict the duration of service of an employee, it is more logical to use the age at which they start working as input for our model, rather than the age at which they stop working, as we do not know this in advance."
   ]
  },
  {
   "cell_type": "code",
   "execution_count": 917,
   "id": "1a00bfde",
   "metadata": {},
   "outputs": [],
   "source": [
    "# Rename column 'leeftijd' to 'uitdiensttreding_leeftijd'\n",
    "data.rename(columns = {'leeftijd':'uitdiensttreding_leeftijd'}, inplace = True)\n",
    "\n",
    "# Calculate indiensttreding_leeftijd and add to data set\n",
    "leeftijd_days = data['indiensttreding_datum'] - data['geboortedatum']\n",
    "leeftijd_years = np.floor(leeftijd_days / pd.Timedelta(365.2422, 'days')) # number of full years (rounded down)\n",
    "\n",
    "data['indiensttreding_leeftijd'] = leeftijd_years"
   ]
  },
  {
   "cell_type": "markdown",
   "id": "43f6ecde",
   "metadata": {},
   "source": [
    "## Examine variables"
   ]
  },
  {
   "cell_type": "code",
   "execution_count": 918,
   "id": "791e8c69",
   "metadata": {},
   "outputs": [
    {
     "data": {
      "text/html": [
       "<div>\n",
       "<style scoped>\n",
       "    .dataframe tbody tr th:only-of-type {\n",
       "        vertical-align: middle;\n",
       "    }\n",
       "\n",
       "    .dataframe tbody tr th {\n",
       "        vertical-align: top;\n",
       "    }\n",
       "\n",
       "    .dataframe thead th {\n",
       "        text-align: right;\n",
       "    }\n",
       "</style>\n",
       "<table border=\"1\" class=\"dataframe\">\n",
       "  <thead>\n",
       "    <tr style=\"text-align: right;\">\n",
       "      <th></th>\n",
       "      <th>indiensttreding_leeftijd</th>\n",
       "      <th>uitdiensttreding_leeftijd</th>\n",
       "      <th>lengte_dienst</th>\n",
       "    </tr>\n",
       "  </thead>\n",
       "  <tbody>\n",
       "    <tr>\n",
       "      <th>count</th>\n",
       "      <td>1432.000000</td>\n",
       "      <td>1432.000000</td>\n",
       "      <td>1432.000000</td>\n",
       "    </tr>\n",
       "    <tr>\n",
       "      <th>mean</th>\n",
       "      <td>39.304469</td>\n",
       "      <td>51.452514</td>\n",
       "      <td>11.393855</td>\n",
       "    </tr>\n",
       "    <tr>\n",
       "      <th>std</th>\n",
       "      <td>12.061085</td>\n",
       "      <td>16.424419</td>\n",
       "      <td>6.685815</td>\n",
       "    </tr>\n",
       "    <tr>\n",
       "      <th>min</th>\n",
       "      <td>18.000000</td>\n",
       "      <td>19.000000</td>\n",
       "      <td>0.000000</td>\n",
       "    </tr>\n",
       "    <tr>\n",
       "      <th>25%</th>\n",
       "      <td>26.000000</td>\n",
       "      <td>34.000000</td>\n",
       "      <td>7.000000</td>\n",
       "    </tr>\n",
       "    <tr>\n",
       "      <th>50%</th>\n",
       "      <td>40.000000</td>\n",
       "      <td>60.000000</td>\n",
       "      <td>13.000000</td>\n",
       "    </tr>\n",
       "    <tr>\n",
       "      <th>75%</th>\n",
       "      <td>51.000000</td>\n",
       "      <td>65.000000</td>\n",
       "      <td>13.000000</td>\n",
       "    </tr>\n",
       "    <tr>\n",
       "      <th>max</th>\n",
       "      <td>51.000000</td>\n",
       "      <td>65.000000</td>\n",
       "      <td>25.000000</td>\n",
       "    </tr>\n",
       "  </tbody>\n",
       "</table>\n",
       "</div>"
      ],
      "text/plain": [
       "       indiensttreding_leeftijd  uitdiensttreding_leeftijd  lengte_dienst\n",
       "count               1432.000000                1432.000000    1432.000000\n",
       "mean                  39.304469                  51.452514      11.393855\n",
       "std                   12.061085                  16.424419       6.685815\n",
       "min                   18.000000                  19.000000       0.000000\n",
       "25%                   26.000000                  34.000000       7.000000\n",
       "50%                   40.000000                  60.000000      13.000000\n",
       "75%                   51.000000                  65.000000      13.000000\n",
       "max                   51.000000                  65.000000      25.000000"
      ]
     },
     "execution_count": 918,
     "metadata": {},
     "output_type": "execute_result"
    }
   ],
   "source": [
    "data[['indiensttreding_leeftijd', 'uitdiensttreding_leeftijd', 'lengte_dienst']].describe()"
   ]
  },
  {
   "cell_type": "code",
   "execution_count": 919,
   "id": "b34594d8",
   "metadata": {
    "scrolled": true
   },
   "outputs": [
    {
     "data": {
      "text/plain": [
       "Amsterdam              297\n",
       "Rotterdam              177\n",
       "Den Haag               103\n",
       "Utrecht                 66\n",
       "Rijswijk                59\n",
       "Zoetermeer              59\n",
       "Dordrecht               54\n",
       "Woerden                 46\n",
       "Eindhoven               44\n",
       "Middelburg              42\n",
       "Almere                  41\n",
       "Haarlem                 34\n",
       "Zaandam                 33\n",
       "Barendrecht             32\n",
       "Breda                   32\n",
       "Schiedam                31\n",
       "Alblasserdam            28\n",
       "Tilburg                 28\n",
       "Capelle                 26\n",
       "Alphen aan den Rijn     26\n",
       "Leiden                  26\n",
       "Veenendaal              24\n",
       "Delft                   22\n",
       "Amstelveen              22\n",
       "Zeist                   19\n",
       "Lelystad                17\n",
       "Hoogeveen               15\n",
       "Roermond                11\n",
       "Gouda                   11\n",
       "Pijnacker                7\n",
       "Name: stad, dtype: int64"
      ]
     },
     "execution_count": 919,
     "metadata": {},
     "output_type": "execute_result"
    }
   ],
   "source": [
    "data['stad'].value_counts(dropna = False)"
   ]
  },
  {
   "cell_type": "code",
   "execution_count": 920,
   "id": "e4a3a430",
   "metadata": {
    "scrolled": false
   },
   "outputs": [
    {
     "data": {
      "text/plain": [
       "Financial controller         374\n",
       "Boekhouder                   343\n",
       "BI                           249\n",
       "Accountant                   194\n",
       "Business analist             110\n",
       "Credit controller             93\n",
       "Project controller            31\n",
       "Administratief medewerker      9\n",
       "HR                             6\n",
       "Marketing                      6\n",
       "Business development           5\n",
       "IT                             5\n",
       "Office manager                 4\n",
       "Legal                          3\n",
       "Name: afdeling, dtype: int64"
      ]
     },
     "execution_count": 920,
     "metadata": {},
     "output_type": "execute_result"
    }
   ],
   "source": [
    "data['afdeling'].value_counts(dropna = False)"
   ]
  },
  {
   "cell_type": "code",
   "execution_count": 921,
   "id": "bc4c929d",
   "metadata": {
    "scrolled": true
   },
   "outputs": [
    {
     "data": {
      "text/plain": [
       "V    889\n",
       "M    543\n",
       "Name: geslacht_id, dtype: int64"
      ]
     },
     "execution_count": 921,
     "metadata": {},
     "output_type": "execute_result"
    }
   ],
   "source": [
    "data['geslacht_id'].value_counts(dropna = False)"
   ]
  },
  {
   "cell_type": "code",
   "execution_count": 922,
   "id": "29eb2329",
   "metadata": {},
   "outputs": [
    {
     "data": {
      "text/plain": [
       "Vrouw    889\n",
       "Man      543\n",
       "Name: geslacht, dtype: int64"
      ]
     },
     "execution_count": 922,
     "metadata": {},
     "output_type": "execute_result"
    }
   ],
   "source": [
    "data['geslacht'].value_counts(dropna = False)"
   ]
  },
  {
   "cell_type": "code",
   "execution_count": 923,
   "id": "b23e0d9e",
   "metadata": {},
   "outputs": [
    {
     "data": {
      "text/plain": [
       "Pensioen    851\n",
       "Vertrek     367\n",
       "Ontslag     214\n",
       "Name: uitdiensttreding_reden, dtype: int64"
      ]
     },
     "execution_count": 923,
     "metadata": {},
     "output_type": "execute_result"
    }
   ],
   "source": [
    "data['uitdiensttreding_reden'].value_counts(dropna = False)"
   ]
  },
  {
   "cell_type": "code",
   "execution_count": 924,
   "id": "28464426",
   "metadata": {
    "scrolled": true
   },
   "outputs": [
    {
     "data": {
      "text/plain": [
       "Vrijwillig         1218\n",
       "Niet vrijwillig     214\n",
       "Name: uitdiensttreding_type, dtype: int64"
      ]
     },
     "execution_count": 924,
     "metadata": {},
     "output_type": "execute_result"
    }
   ],
   "source": [
    "data['uitdiensttreding_type'].value_counts(dropna = False)"
   ]
  },
  {
   "cell_type": "code",
   "execution_count": 925,
   "id": "5ebda154",
   "metadata": {},
   "outputs": [
    {
     "data": {
      "text/plain": [
       "Beëindigd    1432\n",
       "Name: STATUS, dtype: int64"
      ]
     },
     "execution_count": 925,
     "metadata": {},
     "output_type": "execute_result"
    }
   ],
   "source": [
    "data['STATUS'].value_counts(dropna = False)"
   ]
  },
  {
   "cell_type": "code",
   "execution_count": 926,
   "id": "1a37f674",
   "metadata": {
    "scrolled": true
   },
   "outputs": [
    {
     "data": {
      "text/plain": [
       "Detachering    1375\n",
       "Intern           57\n",
       "Name: BUSINESS_UNIT, dtype: int64"
      ]
     },
     "execution_count": 926,
     "metadata": {},
     "output_type": "execute_result"
    }
   ],
   "source": [
    "data['BUSINESS_UNIT'].value_counts(dropna = False)"
   ]
  },
  {
   "cell_type": "markdown",
   "id": "68a5400c",
   "metadata": {},
   "source": [
    "# Modelling"
   ]
  },
  {
   "cell_type": "code",
   "execution_count": 927,
   "id": "bb0d6887",
   "metadata": {},
   "outputs": [],
   "source": [
    "from sklearn.linear_model import LassoCV\n",
    "from sklearn.linear_model import LogisticRegressionCV\n",
    "from sklearn.model_selection import cross_val_score\n",
    "from sklearn.model_selection import cross_val_predict\n",
    "from sklearn.metrics import ConfusionMatrixDisplay\n",
    "from sklearn.preprocessing import normalize\n",
    "import seaborn as sns\n",
    "import matplotlib.pyplot as plt"
   ]
  },
  {
   "cell_type": "code",
   "execution_count": 928,
   "id": "17023e67",
   "metadata": {
    "scrolled": true
   },
   "outputs": [],
   "source": [
    "# Random state value\n",
    "RS = 19\n",
    "\n",
    "# Shuffle data and reset index\n",
    "data = data.sample(frac=1, ignore_index = True, random_state = RS)\n",
    "\n",
    "# Create subset X of possibly predictive features (filter out metadata)\n",
    "X = data[['indiensttreding_leeftijd', 'geslacht', 'afdeling', 'BUSINESS_UNIT', 'stad']]\n",
    "\n",
    "# Create dummies for categorical variables\n",
    "X = pd.get_dummies(X, columns=['geslacht', 'BUSINESS_UNIT'], drop_first = True)\n",
    "X = pd.get_dummies(X, columns=['afdeling', 'stad'], drop_first = False)"
   ]
  },
  {
   "cell_type": "code",
   "execution_count": 929,
   "id": "3dd53c16",
   "metadata": {},
   "outputs": [],
   "source": [
    "def regressor(X, y):\n",
    "    # LASSO linear model to prevent overfitting\n",
    "    reg = LassoCV(eps = 1e-5, n_alphas = 200, cv = 5, random_state = RS)\n",
    "    \n",
    "    reg.fit(X, y)\n",
    "    \n",
    "    scores = cross_val_score(reg, X, y, cv = 5)\n",
    "    predictions = cross_val_predict(reg, X, y, cv = 5)\n",
    "    \n",
    "    return reg, scores, predictions\n",
    "\n",
    "def classifier(X, y):\n",
    "    # Use LASSO (l1) penalty to make it possible for coefficients of non-predictive features to have a value of 0\n",
    "    clf = LogisticRegressionCV(Cs=10, cv=5, max_iter=10000, penalty='l1', solver='liblinear', scoring='neg_log_loss', random_state=RS)\n",
    "    \n",
    "    clf.fit(X, y)\n",
    "    \n",
    "    scores = cross_val_score(clf, X, y, cv = 5, scoring = 'accuracy')\n",
    "    predictions = cross_val_predict(clf, X, y, cv = 5)\n",
    "    \n",
    "    return clf, scores, predictions"
   ]
  },
  {
   "cell_type": "markdown",
   "id": "e9e25fd2",
   "metadata": {},
   "source": [
    "## Predicting lengte_dienst"
   ]
  },
  {
   "cell_type": "code",
   "execution_count": 930,
   "id": "3415d380",
   "metadata": {
    "scrolled": false
   },
   "outputs": [],
   "source": [
    "y = data['lengte_dienst']\n",
    "\n",
    "reg, scores, predictions = regressor(X, y)"
   ]
  },
  {
   "cell_type": "code",
   "execution_count": 931,
   "id": "26059a72",
   "metadata": {
    "scrolled": false
   },
   "outputs": [
    {
     "name": "stdout",
     "output_type": "stream",
     "text": [
      "R2 score for each cross-validation fold: [0.40845033 0.44316574 0.47012534 0.50061918 0.506471  ]\n",
      "Mean R2 score: 0.46576631828101894\n"
     ]
    }
   ],
   "source": [
    "# Cross-validated R2 score\n",
    "scores = cross_val_score(reg, X, y, cv = 5)\n",
    "print(\"R2 score for each cross-validation fold:\", scores)\n",
    "print(\"Mean R2 score:\", scores.mean())"
   ]
  },
  {
   "cell_type": "code",
   "execution_count": 932,
   "id": "e332dcb2",
   "metadata": {
    "scrolled": true
   },
   "outputs": [
    {
     "data": {
      "image/png": "[encoded data removed]",
      "text/plain": [
       "<Figure size 432x288 with 1 Axes>"
      ]
     },
     "metadata": {
      "needs_background": "light"
     },
     "output_type": "display_data"
    }
   ],
   "source": [
    "ax = sns.regplot(x = y, y = predictions)\n",
    "ax.set(ylabel = \"lengte_dienst Predictions\")\n",
    "plt.show()"
   ]
  },
  {
   "cell_type": "code",
   "execution_count": 933,
   "id": "798d2fff",
   "metadata": {
    "scrolled": true
   },
   "outputs": [
    {
     "data": {
      "text/html": [
       "<div>\n",
       "<style scoped>\n",
       "    .dataframe tbody tr th:only-of-type {\n",
       "        vertical-align: middle;\n",
       "    }\n",
       "\n",
       "    .dataframe tbody tr th {\n",
       "        vertical-align: top;\n",
       "    }\n",
       "\n",
       "    .dataframe thead th {\n",
       "        text-align: right;\n",
       "    }\n",
       "</style>\n",
       "<table border=\"1\" class=\"dataframe\">\n",
       "  <thead>\n",
       "    <tr style=\"text-align: right;\">\n",
       "      <th></th>\n",
       "      <th>Coefficient</th>\n",
       "    </tr>\n",
       "  </thead>\n",
       "  <tbody>\n",
       "    <tr>\n",
       "      <th>intercept</th>\n",
       "      <td>2.991037</td>\n",
       "    </tr>\n",
       "    <tr>\n",
       "      <th>indiensttreding_leeftijd</th>\n",
       "      <td>0.188154</td>\n",
       "    </tr>\n",
       "    <tr>\n",
       "      <th>geslacht_Vrouw</th>\n",
       "      <td>1.923233</td>\n",
       "    </tr>\n",
       "    <tr>\n",
       "      <th>BUSINESS_UNIT_Intern</th>\n",
       "      <td>10.910164</td>\n",
       "    </tr>\n",
       "    <tr>\n",
       "      <th>afdeling_Accountant</th>\n",
       "      <td>-0.000000</td>\n",
       "    </tr>\n",
       "    <tr>\n",
       "      <th>afdeling_Administratief medewerker</th>\n",
       "      <td>0.000000</td>\n",
       "    </tr>\n",
       "    <tr>\n",
       "      <th>afdeling_BI</th>\n",
       "      <td>-4.404239</td>\n",
       "    </tr>\n",
       "    <tr>\n",
       "      <th>afdeling_Boekhouder</th>\n",
       "      <td>-1.692181</td>\n",
       "    </tr>\n",
       "    <tr>\n",
       "      <th>afdeling_Business analist</th>\n",
       "      <td>0.426988</td>\n",
       "    </tr>\n",
       "    <tr>\n",
       "      <th>afdeling_Business development</th>\n",
       "      <td>0.000000</td>\n",
       "    </tr>\n",
       "    <tr>\n",
       "      <th>afdeling_Credit controller</th>\n",
       "      <td>-1.047442</td>\n",
       "    </tr>\n",
       "    <tr>\n",
       "      <th>afdeling_Financial controller</th>\n",
       "      <td>0.820806</td>\n",
       "    </tr>\n",
       "    <tr>\n",
       "      <th>afdeling_HR</th>\n",
       "      <td>1.461872</td>\n",
       "    </tr>\n",
       "    <tr>\n",
       "      <th>afdeling_IT</th>\n",
       "      <td>-0.615938</td>\n",
       "    </tr>\n",
       "    <tr>\n",
       "      <th>afdeling_Legal</th>\n",
       "      <td>-0.000000</td>\n",
       "    </tr>\n",
       "    <tr>\n",
       "      <th>afdeling_Marketing</th>\n",
       "      <td>0.000000</td>\n",
       "    </tr>\n",
       "    <tr>\n",
       "      <th>afdeling_Office manager</th>\n",
       "      <td>0.000000</td>\n",
       "    </tr>\n",
       "    <tr>\n",
       "      <th>afdeling_Project controller</th>\n",
       "      <td>10.573665</td>\n",
       "    </tr>\n",
       "    <tr>\n",
       "      <th>stad_Alblasserdam</th>\n",
       "      <td>5.040693</td>\n",
       "    </tr>\n",
       "    <tr>\n",
       "      <th>stad_Almere</th>\n",
       "      <td>0.457054</td>\n",
       "    </tr>\n",
       "    <tr>\n",
       "      <th>stad_Alphen aan den Rijn</th>\n",
       "      <td>-1.938468</td>\n",
       "    </tr>\n",
       "    <tr>\n",
       "      <th>stad_Amstelveen</th>\n",
       "      <td>0.533256</td>\n",
       "    </tr>\n",
       "    <tr>\n",
       "      <th>stad_Amsterdam</th>\n",
       "      <td>-0.777791</td>\n",
       "    </tr>\n",
       "    <tr>\n",
       "      <th>stad_Barendrecht</th>\n",
       "      <td>1.636605</td>\n",
       "    </tr>\n",
       "    <tr>\n",
       "      <th>stad_Breda</th>\n",
       "      <td>-1.663524</td>\n",
       "    </tr>\n",
       "    <tr>\n",
       "      <th>stad_Capelle</th>\n",
       "      <td>-0.012668</td>\n",
       "    </tr>\n",
       "    <tr>\n",
       "      <th>stad_Delft</th>\n",
       "      <td>3.240846</td>\n",
       "    </tr>\n",
       "    <tr>\n",
       "      <th>stad_Den Haag</th>\n",
       "      <td>0.640015</td>\n",
       "    </tr>\n",
       "    <tr>\n",
       "      <th>stad_Dordrecht</th>\n",
       "      <td>-0.453399</td>\n",
       "    </tr>\n",
       "    <tr>\n",
       "      <th>stad_Eindhoven</th>\n",
       "      <td>-0.602004</td>\n",
       "    </tr>\n",
       "    <tr>\n",
       "      <th>stad_Gouda</th>\n",
       "      <td>0.269591</td>\n",
       "    </tr>\n",
       "    <tr>\n",
       "      <th>stad_Haarlem</th>\n",
       "      <td>-0.846918</td>\n",
       "    </tr>\n",
       "    <tr>\n",
       "      <th>stad_Hoogeveen</th>\n",
       "      <td>-1.564148</td>\n",
       "    </tr>\n",
       "    <tr>\n",
       "      <th>stad_Leiden</th>\n",
       "      <td>0.000000</td>\n",
       "    </tr>\n",
       "    <tr>\n",
       "      <th>stad_Lelystad</th>\n",
       "      <td>-2.561102</td>\n",
       "    </tr>\n",
       "    <tr>\n",
       "      <th>stad_Middelburg</th>\n",
       "      <td>0.000000</td>\n",
       "    </tr>\n",
       "    <tr>\n",
       "      <th>stad_Pijnacker</th>\n",
       "      <td>-2.307519</td>\n",
       "    </tr>\n",
       "    <tr>\n",
       "      <th>stad_Rijswijk</th>\n",
       "      <td>0.159681</td>\n",
       "    </tr>\n",
       "    <tr>\n",
       "      <th>stad_Roermond</th>\n",
       "      <td>0.000000</td>\n",
       "    </tr>\n",
       "    <tr>\n",
       "      <th>stad_Rotterdam</th>\n",
       "      <td>1.567672</td>\n",
       "    </tr>\n",
       "    <tr>\n",
       "      <th>stad_Schiedam</th>\n",
       "      <td>-0.203078</td>\n",
       "    </tr>\n",
       "    <tr>\n",
       "      <th>stad_Tilburg</th>\n",
       "      <td>-1.749621</td>\n",
       "    </tr>\n",
       "    <tr>\n",
       "      <th>stad_Utrecht</th>\n",
       "      <td>-0.505319</td>\n",
       "    </tr>\n",
       "    <tr>\n",
       "      <th>stad_Veenendaal</th>\n",
       "      <td>2.317461</td>\n",
       "    </tr>\n",
       "    <tr>\n",
       "      <th>stad_Woerden</th>\n",
       "      <td>1.629597</td>\n",
       "    </tr>\n",
       "    <tr>\n",
       "      <th>stad_Zaandam</th>\n",
       "      <td>1.225114</td>\n",
       "    </tr>\n",
       "    <tr>\n",
       "      <th>stad_Zeist</th>\n",
       "      <td>-1.966897</td>\n",
       "    </tr>\n",
       "    <tr>\n",
       "      <th>stad_Zoetermeer</th>\n",
       "      <td>0.000000</td>\n",
       "    </tr>\n",
       "  </tbody>\n",
       "</table>\n",
       "</div>"
      ],
      "text/plain": [
       "                                    Coefficient\n",
       "intercept                              2.991037\n",
       "indiensttreding_leeftijd               0.188154\n",
       "geslacht_Vrouw                         1.923233\n",
       "BUSINESS_UNIT_Intern                  10.910164\n",
       "afdeling_Accountant                   -0.000000\n",
       "afdeling_Administratief medewerker     0.000000\n",
       "afdeling_BI                           -4.404239\n",
       "afdeling_Boekhouder                   -1.692181\n",
       "afdeling_Business analist              0.426988\n",
       "afdeling_Business development          0.000000\n",
       "afdeling_Credit controller            -1.047442\n",
       "afdeling_Financial controller          0.820806\n",
       "afdeling_HR                            1.461872\n",
       "afdeling_IT                           -0.615938\n",
       "afdeling_Legal                        -0.000000\n",
       "afdeling_Marketing                     0.000000\n",
       "afdeling_Office manager                0.000000\n",
       "afdeling_Project controller           10.573665\n",
       "stad_Alblasserdam                      5.040693\n",
       "stad_Almere                            0.457054\n",
       "stad_Alphen aan den Rijn              -1.938468\n",
       "stad_Amstelveen                        0.533256\n",
       "stad_Amsterdam                        -0.777791\n",
       "stad_Barendrecht                       1.636605\n",
       "stad_Breda                            -1.663524\n",
       "stad_Capelle                          -0.012668\n",
       "stad_Delft                             3.240846\n",
       "stad_Den Haag                          0.640015\n",
       "stad_Dordrecht                        -0.453399\n",
       "stad_Eindhoven                        -0.602004\n",
       "stad_Gouda                             0.269591\n",
       "stad_Haarlem                          -0.846918\n",
       "stad_Hoogeveen                        -1.564148\n",
       "stad_Leiden                            0.000000\n",
       "stad_Lelystad                         -2.561102\n",
       "stad_Middelburg                        0.000000\n",
       "stad_Pijnacker                        -2.307519\n",
       "stad_Rijswijk                          0.159681\n",
       "stad_Roermond                          0.000000\n",
       "stad_Rotterdam                         1.567672\n",
       "stad_Schiedam                         -0.203078\n",
       "stad_Tilburg                          -1.749621\n",
       "stad_Utrecht                          -0.505319\n",
       "stad_Veenendaal                        2.317461\n",
       "stad_Woerden                           1.629597\n",
       "stad_Zaandam                           1.225114\n",
       "stad_Zeist                            -1.966897\n",
       "stad_Zoetermeer                        0.000000"
      ]
     },
     "execution_count": 933,
     "metadata": {},
     "output_type": "execute_result"
    }
   ],
   "source": [
    "coefs = np.append(reg.intercept_, reg.coef_)\n",
    "coef_names = np.insert(reg.feature_names_in_, 0, 'intercept')\n",
    "pd.DataFrame(coefs, coef_names, columns=['Coefficient'])"
   ]
  },
  {
   "cell_type": "markdown",
   "id": "b0cd09a3",
   "metadata": {},
   "source": [
    "## Predicting uitdiensttreding_type"
   ]
  },
  {
   "cell_type": "code",
   "execution_count": 934,
   "id": "d4512f08",
   "metadata": {},
   "outputs": [],
   "source": [
    "y = data['uitdiensttreding_type']\n",
    "\n",
    "clf, scores, predictions = classifier(X, y)"
   ]
  },
  {
   "cell_type": "code",
   "execution_count": 935,
   "id": "52087b9a",
   "metadata": {},
   "outputs": [
    {
     "name": "stdout",
     "output_type": "stream",
     "text": [
      "Accuracy for each cross-validation fold: [0.94076655 0.95818815 0.92657343 0.94055944 0.91608392]\n",
      "Mean accuracy: 0.9364342974099072\n"
     ]
    }
   ],
   "source": [
    "print(\"Accuracy for each cross-validation fold:\", scores)\n",
    "print(\"Mean accuracy:\", scores.mean())"
   ]
  },
  {
   "cell_type": "code",
   "execution_count": 936,
   "id": "00e3de11",
   "metadata": {
    "scrolled": false
   },
   "outputs": [
    {
     "data": {
      "image/png": "[encoded data removed]",
      "text/plain": [
       "<Figure size 432x288 with 2 Axes>"
      ]
     },
     "metadata": {
      "needs_background": "light"
     },
     "output_type": "display_data"
    }
   ],
   "source": [
    "ConfusionMatrixDisplay.from_predictions(data['uitdiensttreding_type'], predictions)\n",
    "plt.show()"
   ]
  },
  {
   "cell_type": "code",
   "execution_count": 937,
   "id": "5d6de472",
   "metadata": {
    "scrolled": true
   },
   "outputs": [
    {
     "data": {
      "text/html": [
       "<div>\n",
       "<style scoped>\n",
       "    .dataframe tbody tr th:only-of-type {\n",
       "        vertical-align: middle;\n",
       "    }\n",
       "\n",
       "    .dataframe tbody tr th {\n",
       "        vertical-align: top;\n",
       "    }\n",
       "\n",
       "    .dataframe thead th {\n",
       "        text-align: right;\n",
       "    }\n",
       "</style>\n",
       "<table border=\"1\" class=\"dataframe\">\n",
       "  <thead>\n",
       "    <tr style=\"text-align: right;\">\n",
       "      <th></th>\n",
       "      <th>Coefficient</th>\n",
       "    </tr>\n",
       "  </thead>\n",
       "  <tbody>\n",
       "    <tr>\n",
       "      <th>intercept</th>\n",
       "      <td>1.084921</td>\n",
       "    </tr>\n",
       "    <tr>\n",
       "      <th>indiensttreding_leeftijd</th>\n",
       "      <td>0.116773</td>\n",
       "    </tr>\n",
       "    <tr>\n",
       "      <th>geslacht_Vrouw</th>\n",
       "      <td>0.069241</td>\n",
       "    </tr>\n",
       "    <tr>\n",
       "      <th>BUSINESS_UNIT_Intern</th>\n",
       "      <td>9.914619</td>\n",
       "    </tr>\n",
       "    <tr>\n",
       "      <th>afdeling_Accountant</th>\n",
       "      <td>-2.305562</td>\n",
       "    </tr>\n",
       "    <tr>\n",
       "      <th>afdeling_Administratief medewerker</th>\n",
       "      <td>0.000000</td>\n",
       "    </tr>\n",
       "    <tr>\n",
       "      <th>afdeling_BI</th>\n",
       "      <td>-0.993761</td>\n",
       "    </tr>\n",
       "    <tr>\n",
       "      <th>afdeling_Boekhouder</th>\n",
       "      <td>-0.669518</td>\n",
       "    </tr>\n",
       "    <tr>\n",
       "      <th>afdeling_Business analist</th>\n",
       "      <td>-1.136936</td>\n",
       "    </tr>\n",
       "    <tr>\n",
       "      <th>afdeling_Business development</th>\n",
       "      <td>0.000000</td>\n",
       "    </tr>\n",
       "    <tr>\n",
       "      <th>afdeling_Credit controller</th>\n",
       "      <td>-0.926166</td>\n",
       "    </tr>\n",
       "    <tr>\n",
       "      <th>afdeling_Financial controller</th>\n",
       "      <td>-1.520017</td>\n",
       "    </tr>\n",
       "    <tr>\n",
       "      <th>afdeling_HR</th>\n",
       "      <td>0.000000</td>\n",
       "    </tr>\n",
       "    <tr>\n",
       "      <th>afdeling_IT</th>\n",
       "      <td>0.000000</td>\n",
       "    </tr>\n",
       "    <tr>\n",
       "      <th>afdeling_Legal</th>\n",
       "      <td>0.000000</td>\n",
       "    </tr>\n",
       "    <tr>\n",
       "      <th>afdeling_Marketing</th>\n",
       "      <td>0.000000</td>\n",
       "    </tr>\n",
       "    <tr>\n",
       "      <th>afdeling_Office manager</th>\n",
       "      <td>0.000000</td>\n",
       "    </tr>\n",
       "    <tr>\n",
       "      <th>afdeling_Project controller</th>\n",
       "      <td>-2.917344</td>\n",
       "    </tr>\n",
       "    <tr>\n",
       "      <th>stad_Alblasserdam</th>\n",
       "      <td>-5.752382</td>\n",
       "    </tr>\n",
       "    <tr>\n",
       "      <th>stad_Almere</th>\n",
       "      <td>9.134543</td>\n",
       "    </tr>\n",
       "    <tr>\n",
       "      <th>stad_Alphen aan den Rijn</th>\n",
       "      <td>8.619611</td>\n",
       "    </tr>\n",
       "    <tr>\n",
       "      <th>stad_Amstelveen</th>\n",
       "      <td>8.733830</td>\n",
       "    </tr>\n",
       "    <tr>\n",
       "      <th>stad_Amsterdam</th>\n",
       "      <td>-1.564334</td>\n",
       "    </tr>\n",
       "    <tr>\n",
       "      <th>stad_Barendrecht</th>\n",
       "      <td>-5.956755</td>\n",
       "    </tr>\n",
       "    <tr>\n",
       "      <th>stad_Breda</th>\n",
       "      <td>9.335658</td>\n",
       "    </tr>\n",
       "    <tr>\n",
       "      <th>stad_Capelle</th>\n",
       "      <td>8.798308</td>\n",
       "    </tr>\n",
       "    <tr>\n",
       "      <th>stad_Delft</th>\n",
       "      <td>8.574384</td>\n",
       "    </tr>\n",
       "    <tr>\n",
       "      <th>stad_Den Haag</th>\n",
       "      <td>-1.895962</td>\n",
       "    </tr>\n",
       "    <tr>\n",
       "      <th>stad_Dordrecht</th>\n",
       "      <td>9.568261</td>\n",
       "    </tr>\n",
       "    <tr>\n",
       "      <th>stad_Eindhoven</th>\n",
       "      <td>9.563231</td>\n",
       "    </tr>\n",
       "    <tr>\n",
       "      <th>stad_Gouda</th>\n",
       "      <td>7.796578</td>\n",
       "    </tr>\n",
       "    <tr>\n",
       "      <th>stad_Haarlem</th>\n",
       "      <td>9.612289</td>\n",
       "    </tr>\n",
       "    <tr>\n",
       "      <th>stad_Hoogeveen</th>\n",
       "      <td>8.446282</td>\n",
       "    </tr>\n",
       "    <tr>\n",
       "      <th>stad_Leiden</th>\n",
       "      <td>9.023466</td>\n",
       "    </tr>\n",
       "    <tr>\n",
       "      <th>stad_Lelystad</th>\n",
       "      <td>9.208720</td>\n",
       "    </tr>\n",
       "    <tr>\n",
       "      <th>stad_Middelburg</th>\n",
       "      <td>-4.792210</td>\n",
       "    </tr>\n",
       "    <tr>\n",
       "      <th>stad_Pijnacker</th>\n",
       "      <td>8.280342</td>\n",
       "    </tr>\n",
       "    <tr>\n",
       "      <th>stad_Rijswijk</th>\n",
       "      <td>10.117159</td>\n",
       "    </tr>\n",
       "    <tr>\n",
       "      <th>stad_Roermond</th>\n",
       "      <td>7.530096</td>\n",
       "    </tr>\n",
       "    <tr>\n",
       "      <th>stad_Rotterdam</th>\n",
       "      <td>-2.133439</td>\n",
       "    </tr>\n",
       "    <tr>\n",
       "      <th>stad_Schiedam</th>\n",
       "      <td>9.004285</td>\n",
       "    </tr>\n",
       "    <tr>\n",
       "      <th>stad_Tilburg</th>\n",
       "      <td>8.940697</td>\n",
       "    </tr>\n",
       "    <tr>\n",
       "      <th>stad_Utrecht</th>\n",
       "      <td>10.019213</td>\n",
       "    </tr>\n",
       "    <tr>\n",
       "      <th>stad_Veenendaal</th>\n",
       "      <td>-5.597031</td>\n",
       "    </tr>\n",
       "    <tr>\n",
       "      <th>stad_Woerden</th>\n",
       "      <td>-5.468931</td>\n",
       "    </tr>\n",
       "    <tr>\n",
       "      <th>stad_Zaandam</th>\n",
       "      <td>8.815056</td>\n",
       "    </tr>\n",
       "    <tr>\n",
       "      <th>stad_Zeist</th>\n",
       "      <td>8.698374</td>\n",
       "    </tr>\n",
       "    <tr>\n",
       "      <th>stad_Zoetermeer</th>\n",
       "      <td>9.780062</td>\n",
       "    </tr>\n",
       "  </tbody>\n",
       "</table>\n",
       "</div>"
      ],
      "text/plain": [
       "                                    Coefficient\n",
       "intercept                              1.084921\n",
       "indiensttreding_leeftijd               0.116773\n",
       "geslacht_Vrouw                         0.069241\n",
       "BUSINESS_UNIT_Intern                   9.914619\n",
       "afdeling_Accountant                   -2.305562\n",
       "afdeling_Administratief medewerker     0.000000\n",
       "afdeling_BI                           -0.993761\n",
       "afdeling_Boekhouder                   -0.669518\n",
       "afdeling_Business analist             -1.136936\n",
       "afdeling_Business development          0.000000\n",
       "afdeling_Credit controller            -0.926166\n",
       "afdeling_Financial controller         -1.520017\n",
       "afdeling_HR                            0.000000\n",
       "afdeling_IT                            0.000000\n",
       "afdeling_Legal                         0.000000\n",
       "afdeling_Marketing                     0.000000\n",
       "afdeling_Office manager                0.000000\n",
       "afdeling_Project controller           -2.917344\n",
       "stad_Alblasserdam                     -5.752382\n",
       "stad_Almere                            9.134543\n",
       "stad_Alphen aan den Rijn               8.619611\n",
       "stad_Amstelveen                        8.733830\n",
       "stad_Amsterdam                        -1.564334\n",
       "stad_Barendrecht                      -5.956755\n",
       "stad_Breda                             9.335658\n",
       "stad_Capelle                           8.798308\n",
       "stad_Delft                             8.574384\n",
       "stad_Den Haag                         -1.895962\n",
       "stad_Dordrecht                         9.568261\n",
       "stad_Eindhoven                         9.563231\n",
       "stad_Gouda                             7.796578\n",
       "stad_Haarlem                           9.612289\n",
       "stad_Hoogeveen                         8.446282\n",
       "stad_Leiden                            9.023466\n",
       "stad_Lelystad                          9.208720\n",
       "stad_Middelburg                       -4.792210\n",
       "stad_Pijnacker                         8.280342\n",
       "stad_Rijswijk                         10.117159\n",
       "stad_Roermond                          7.530096\n",
       "stad_Rotterdam                        -2.133439\n",
       "stad_Schiedam                          9.004285\n",
       "stad_Tilburg                           8.940697\n",
       "stad_Utrecht                          10.019213\n",
       "stad_Veenendaal                       -5.597031\n",
       "stad_Woerden                          -5.468931\n",
       "stad_Zaandam                           8.815056\n",
       "stad_Zeist                             8.698374\n",
       "stad_Zoetermeer                        9.780062"
      ]
     },
     "execution_count": 937,
     "metadata": {},
     "output_type": "execute_result"
    }
   ],
   "source": [
    "coefs = np.append(clf.intercept_, clf.coef_)\n",
    "coef_names = np.insert(clf.feature_names_in_, 0, 'intercept')\n",
    "pd.DataFrame(coefs, coef_names, columns=['Coefficient'])"
   ]
  },
  {
   "cell_type": "markdown",
   "id": "6bc513f5",
   "metadata": {},
   "source": [
    "## Predicting uitdiensttreding_reden"
   ]
  },
  {
   "cell_type": "code",
   "execution_count": 938,
   "id": "3f4e988e",
   "metadata": {
    "scrolled": true
   },
   "outputs": [],
   "source": [
    "y = data['uitdiensttreding_reden']\n",
    "\n",
    "clf, scores, predictions = classifier(X, y)"
   ]
  },
  {
   "cell_type": "code",
   "execution_count": 939,
   "id": "94d0094e",
   "metadata": {},
   "outputs": [
    {
     "name": "stdout",
     "output_type": "stream",
     "text": [
      "Accuracy for each cross-validation fold: [0.95818815 0.95121951 0.93706294 0.93006993 0.94405594]\n",
      "Mean accuracy: 0.9441192953388076\n"
     ]
    }
   ],
   "source": [
    "print(\"Accuracy for each cross-validation fold:\", scores)\n",
    "print(\"Mean accuracy:\", scores.mean())"
   ]
  },
  {
   "cell_type": "code",
   "execution_count": 940,
   "id": "219cf225",
   "metadata": {
    "scrolled": true
   },
   "outputs": [
    {
     "data": {
      "image/png": "[encoded data removed]",
      "text/plain": [
       "<Figure size 432x288 with 2 Axes>"
      ]
     },
     "metadata": {
      "needs_background": "light"
     },
     "output_type": "display_data"
    }
   ],
   "source": [
    "ConfusionMatrixDisplay.from_predictions(data['uitdiensttreding_reden'], predictions)\n",
    "plt.show()"
   ]
  },
  {
   "cell_type": "code",
   "execution_count": 941,
   "id": "1868eb0f",
   "metadata": {
    "scrolled": true
   },
   "outputs": [
    {
     "data": {
      "text/html": [
       "<div>\n",
       "<style scoped>\n",
       "    .dataframe tbody tr th:only-of-type {\n",
       "        vertical-align: middle;\n",
       "    }\n",
       "\n",
       "    .dataframe tbody tr th {\n",
       "        vertical-align: top;\n",
       "    }\n",
       "\n",
       "    .dataframe thead th {\n",
       "        text-align: right;\n",
       "    }\n",
       "</style>\n",
       "<table border=\"1\" class=\"dataframe\">\n",
       "  <thead>\n",
       "    <tr style=\"text-align: right;\">\n",
       "      <th></th>\n",
       "      <th>Ontslag</th>\n",
       "      <th>Pensioen</th>\n",
       "      <th>Vertrek</th>\n",
       "    </tr>\n",
       "  </thead>\n",
       "  <tbody>\n",
       "    <tr>\n",
       "      <th>intercept</th>\n",
       "      <td>-1.084921</td>\n",
       "      <td>-86.004768</td>\n",
       "      <td>11.342157</td>\n",
       "    </tr>\n",
       "    <tr>\n",
       "      <th>indiensttreding_leeftijd</th>\n",
       "      <td>-0.116773</td>\n",
       "      <td>2.270132</td>\n",
       "      <td>-0.351150</td>\n",
       "    </tr>\n",
       "    <tr>\n",
       "      <th>geslacht_Vrouw</th>\n",
       "      <td>-0.069241</td>\n",
       "      <td>-0.046861</td>\n",
       "      <td>-0.446591</td>\n",
       "    </tr>\n",
       "    <tr>\n",
       "      <th>BUSINESS_UNIT_Intern</th>\n",
       "      <td>-9.914619</td>\n",
       "      <td>3.858582</td>\n",
       "      <td>-1.111629</td>\n",
       "    </tr>\n",
       "    <tr>\n",
       "      <th>afdeling_Accountant</th>\n",
       "      <td>2.305562</td>\n",
       "      <td>-0.663160</td>\n",
       "      <td>-0.005417</td>\n",
       "    </tr>\n",
       "    <tr>\n",
       "      <th>afdeling_Administratief medewerker</th>\n",
       "      <td>0.000000</td>\n",
       "      <td>-4.842506</td>\n",
       "      <td>2.281255</td>\n",
       "    </tr>\n",
       "    <tr>\n",
       "      <th>afdeling_BI</th>\n",
       "      <td>0.993761</td>\n",
       "      <td>0.097118</td>\n",
       "      <td>-0.307762</td>\n",
       "    </tr>\n",
       "    <tr>\n",
       "      <th>afdeling_Boekhouder</th>\n",
       "      <td>0.669518</td>\n",
       "      <td>0.000000</td>\n",
       "      <td>1.588660</td>\n",
       "    </tr>\n",
       "    <tr>\n",
       "      <th>afdeling_Business analist</th>\n",
       "      <td>1.136936</td>\n",
       "      <td>-0.242692</td>\n",
       "      <td>1.356064</td>\n",
       "    </tr>\n",
       "    <tr>\n",
       "      <th>afdeling_Business development</th>\n",
       "      <td>0.000000</td>\n",
       "      <td>0.000000</td>\n",
       "      <td>0.000000</td>\n",
       "    </tr>\n",
       "    <tr>\n",
       "      <th>afdeling_Credit controller</th>\n",
       "      <td>0.926166</td>\n",
       "      <td>0.000000</td>\n",
       "      <td>0.894716</td>\n",
       "    </tr>\n",
       "    <tr>\n",
       "      <th>afdeling_Financial controller</th>\n",
       "      <td>1.520017</td>\n",
       "      <td>-0.570854</td>\n",
       "      <td>1.473558</td>\n",
       "    </tr>\n",
       "    <tr>\n",
       "      <th>afdeling_HR</th>\n",
       "      <td>0.000000</td>\n",
       "      <td>0.000000</td>\n",
       "      <td>0.000000</td>\n",
       "    </tr>\n",
       "    <tr>\n",
       "      <th>afdeling_IT</th>\n",
       "      <td>0.000000</td>\n",
       "      <td>0.000000</td>\n",
       "      <td>0.000000</td>\n",
       "    </tr>\n",
       "    <tr>\n",
       "      <th>afdeling_Legal</th>\n",
       "      <td>0.000000</td>\n",
       "      <td>0.000000</td>\n",
       "      <td>0.000000</td>\n",
       "    </tr>\n",
       "    <tr>\n",
       "      <th>afdeling_Marketing</th>\n",
       "      <td>0.000000</td>\n",
       "      <td>0.000000</td>\n",
       "      <td>0.000000</td>\n",
       "    </tr>\n",
       "    <tr>\n",
       "      <th>afdeling_Office manager</th>\n",
       "      <td>0.000000</td>\n",
       "      <td>0.000000</td>\n",
       "      <td>0.000000</td>\n",
       "    </tr>\n",
       "    <tr>\n",
       "      <th>afdeling_Project controller</th>\n",
       "      <td>2.917344</td>\n",
       "      <td>-0.392108</td>\n",
       "      <td>-0.146085</td>\n",
       "    </tr>\n",
       "    <tr>\n",
       "      <th>stad_Alblasserdam</th>\n",
       "      <td>5.752382</td>\n",
       "      <td>-5.857053</td>\n",
       "      <td>-6.281986</td>\n",
       "    </tr>\n",
       "    <tr>\n",
       "      <th>stad_Almere</th>\n",
       "      <td>-9.134543</td>\n",
       "      <td>2.180367</td>\n",
       "      <td>0.000000</td>\n",
       "    </tr>\n",
       "    <tr>\n",
       "      <th>stad_Alphen aan den Rijn</th>\n",
       "      <td>-8.619611</td>\n",
       "      <td>0.000000</td>\n",
       "      <td>0.397081</td>\n",
       "    </tr>\n",
       "    <tr>\n",
       "      <th>stad_Amstelveen</th>\n",
       "      <td>-8.733830</td>\n",
       "      <td>1.441702</td>\n",
       "      <td>0.000000</td>\n",
       "    </tr>\n",
       "    <tr>\n",
       "      <th>stad_Amsterdam</th>\n",
       "      <td>1.564334</td>\n",
       "      <td>-1.649530</td>\n",
       "      <td>-0.756353</td>\n",
       "    </tr>\n",
       "    <tr>\n",
       "      <th>stad_Barendrecht</th>\n",
       "      <td>5.956755</td>\n",
       "      <td>-5.168215</td>\n",
       "      <td>-6.216591</td>\n",
       "    </tr>\n",
       "    <tr>\n",
       "      <th>stad_Breda</th>\n",
       "      <td>-9.335658</td>\n",
       "      <td>0.000000</td>\n",
       "      <td>0.313064</td>\n",
       "    </tr>\n",
       "    <tr>\n",
       "      <th>stad_Capelle</th>\n",
       "      <td>-8.798308</td>\n",
       "      <td>-3.493632</td>\n",
       "      <td>1.234467</td>\n",
       "    </tr>\n",
       "    <tr>\n",
       "      <th>stad_Delft</th>\n",
       "      <td>-8.574384</td>\n",
       "      <td>1.694661</td>\n",
       "      <td>-0.666467</td>\n",
       "    </tr>\n",
       "    <tr>\n",
       "      <th>stad_Den Haag</th>\n",
       "      <td>1.895962</td>\n",
       "      <td>-0.443542</td>\n",
       "      <td>-2.038541</td>\n",
       "    </tr>\n",
       "    <tr>\n",
       "      <th>stad_Dordrecht</th>\n",
       "      <td>-9.568261</td>\n",
       "      <td>-0.694884</td>\n",
       "      <td>0.540400</td>\n",
       "    </tr>\n",
       "    <tr>\n",
       "      <th>stad_Eindhoven</th>\n",
       "      <td>-9.563231</td>\n",
       "      <td>1.750214</td>\n",
       "      <td>0.015024</td>\n",
       "    </tr>\n",
       "    <tr>\n",
       "      <th>stad_Gouda</th>\n",
       "      <td>-7.796578</td>\n",
       "      <td>-0.604796</td>\n",
       "      <td>1.833596</td>\n",
       "    </tr>\n",
       "    <tr>\n",
       "      <th>stad_Haarlem</th>\n",
       "      <td>-9.612289</td>\n",
       "      <td>-0.332754</td>\n",
       "      <td>0.575391</td>\n",
       "    </tr>\n",
       "    <tr>\n",
       "      <th>stad_Hoogeveen</th>\n",
       "      <td>-8.446282</td>\n",
       "      <td>0.000000</td>\n",
       "      <td>1.069531</td>\n",
       "    </tr>\n",
       "    <tr>\n",
       "      <th>stad_Leiden</th>\n",
       "      <td>-9.023466</td>\n",
       "      <td>1.476452</td>\n",
       "      <td>-0.253881</td>\n",
       "    </tr>\n",
       "    <tr>\n",
       "      <th>stad_Lelystad</th>\n",
       "      <td>-9.208720</td>\n",
       "      <td>0.886850</td>\n",
       "      <td>0.000000</td>\n",
       "    </tr>\n",
       "    <tr>\n",
       "      <th>stad_Middelburg</th>\n",
       "      <td>4.792210</td>\n",
       "      <td>-5.188238</td>\n",
       "      <td>-5.719772</td>\n",
       "    </tr>\n",
       "    <tr>\n",
       "      <th>stad_Pijnacker</th>\n",
       "      <td>-8.280342</td>\n",
       "      <td>0.000000</td>\n",
       "      <td>0.000000</td>\n",
       "    </tr>\n",
       "    <tr>\n",
       "      <th>stad_Rijswijk</th>\n",
       "      <td>-10.117159</td>\n",
       "      <td>-0.520944</td>\n",
       "      <td>0.427223</td>\n",
       "    </tr>\n",
       "    <tr>\n",
       "      <th>stad_Roermond</th>\n",
       "      <td>-7.530096</td>\n",
       "      <td>1.744454</td>\n",
       "      <td>0.000000</td>\n",
       "    </tr>\n",
       "    <tr>\n",
       "      <th>stad_Rotterdam</th>\n",
       "      <td>2.133439</td>\n",
       "      <td>-2.199786</td>\n",
       "      <td>-1.042829</td>\n",
       "    </tr>\n",
       "    <tr>\n",
       "      <th>stad_Schiedam</th>\n",
       "      <td>-9.004285</td>\n",
       "      <td>1.846081</td>\n",
       "      <td>0.000000</td>\n",
       "    </tr>\n",
       "    <tr>\n",
       "      <th>stad_Tilburg</th>\n",
       "      <td>-8.940697</td>\n",
       "      <td>0.000000</td>\n",
       "      <td>0.248387</td>\n",
       "    </tr>\n",
       "    <tr>\n",
       "      <th>stad_Utrecht</th>\n",
       "      <td>-10.019213</td>\n",
       "      <td>0.000000</td>\n",
       "      <td>0.623329</td>\n",
       "    </tr>\n",
       "    <tr>\n",
       "      <th>stad_Veenendaal</th>\n",
       "      <td>5.597031</td>\n",
       "      <td>-2.890589</td>\n",
       "      <td>-7.531353</td>\n",
       "    </tr>\n",
       "    <tr>\n",
       "      <th>stad_Woerden</th>\n",
       "      <td>5.468931</td>\n",
       "      <td>-2.877248</td>\n",
       "      <td>-5.121537</td>\n",
       "    </tr>\n",
       "    <tr>\n",
       "      <th>stad_Zaandam</th>\n",
       "      <td>-8.815056</td>\n",
       "      <td>1.822316</td>\n",
       "      <td>-0.190415</td>\n",
       "    </tr>\n",
       "    <tr>\n",
       "      <th>stad_Zeist</th>\n",
       "      <td>-8.698374</td>\n",
       "      <td>0.933996</td>\n",
       "      <td>0.000000</td>\n",
       "    </tr>\n",
       "    <tr>\n",
       "      <th>stad_Zoetermeer</th>\n",
       "      <td>-9.780062</td>\n",
       "      <td>1.664353</td>\n",
       "      <td>0.000000</td>\n",
       "    </tr>\n",
       "  </tbody>\n",
       "</table>\n",
       "</div>"
      ],
      "text/plain": [
       "                                      Ontslag   Pensioen    Vertrek\n",
       "intercept                           -1.084921 -86.004768  11.342157\n",
       "indiensttreding_leeftijd            -0.116773   2.270132  -0.351150\n",
       "geslacht_Vrouw                      -0.069241  -0.046861  -0.446591\n",
       "BUSINESS_UNIT_Intern                -9.914619   3.858582  -1.111629\n",
       "afdeling_Accountant                  2.305562  -0.663160  -0.005417\n",
       "afdeling_Administratief medewerker   0.000000  -4.842506   2.281255\n",
       "afdeling_BI                          0.993761   0.097118  -0.307762\n",
       "afdeling_Boekhouder                  0.669518   0.000000   1.588660\n",
       "afdeling_Business analist            1.136936  -0.242692   1.356064\n",
       "afdeling_Business development        0.000000   0.000000   0.000000\n",
       "afdeling_Credit controller           0.926166   0.000000   0.894716\n",
       "afdeling_Financial controller        1.520017  -0.570854   1.473558\n",
       "afdeling_HR                          0.000000   0.000000   0.000000\n",
       "afdeling_IT                          0.000000   0.000000   0.000000\n",
       "afdeling_Legal                       0.000000   0.000000   0.000000\n",
       "afdeling_Marketing                   0.000000   0.000000   0.000000\n",
       "afdeling_Office manager              0.000000   0.000000   0.000000\n",
       "afdeling_Project controller          2.917344  -0.392108  -0.146085\n",
       "stad_Alblasserdam                    5.752382  -5.857053  -6.281986\n",
       "stad_Almere                         -9.134543   2.180367   0.000000\n",
       "stad_Alphen aan den Rijn            -8.619611   0.000000   0.397081\n",
       "stad_Amstelveen                     -8.733830   1.441702   0.000000\n",
       "stad_Amsterdam                       1.564334  -1.649530  -0.756353\n",
       "stad_Barendrecht                     5.956755  -5.168215  -6.216591\n",
       "stad_Breda                          -9.335658   0.000000   0.313064\n",
       "stad_Capelle                        -8.798308  -3.493632   1.234467\n",
       "stad_Delft                          -8.574384   1.694661  -0.666467\n",
       "stad_Den Haag                        1.895962  -0.443542  -2.038541\n",
       "stad_Dordrecht                      -9.568261  -0.694884   0.540400\n",
       "stad_Eindhoven                      -9.563231   1.750214   0.015024\n",
       "stad_Gouda                          -7.796578  -0.604796   1.833596\n",
       "stad_Haarlem                        -9.612289  -0.332754   0.575391\n",
       "stad_Hoogeveen                      -8.446282   0.000000   1.069531\n",
       "stad_Leiden                         -9.023466   1.476452  -0.253881\n",
       "stad_Lelystad                       -9.208720   0.886850   0.000000\n",
       "stad_Middelburg                      4.792210  -5.188238  -5.719772\n",
       "stad_Pijnacker                      -8.280342   0.000000   0.000000\n",
       "stad_Rijswijk                      -10.117159  -0.520944   0.427223\n",
       "stad_Roermond                       -7.530096   1.744454   0.000000\n",
       "stad_Rotterdam                       2.133439  -2.199786  -1.042829\n",
       "stad_Schiedam                       -9.004285   1.846081   0.000000\n",
       "stad_Tilburg                        -8.940697   0.000000   0.248387\n",
       "stad_Utrecht                       -10.019213   0.000000   0.623329\n",
       "stad_Veenendaal                      5.597031  -2.890589  -7.531353\n",
       "stad_Woerden                         5.468931  -2.877248  -5.121537\n",
       "stad_Zaandam                        -8.815056   1.822316  -0.190415\n",
       "stad_Zeist                          -8.698374   0.933996   0.000000\n",
       "stad_Zoetermeer                     -9.780062   1.664353   0.000000"
      ]
     },
     "execution_count": 941,
     "metadata": {},
     "output_type": "execute_result"
    }
   ],
   "source": [
    "coefs = np.concatenate((clf.intercept_.reshape((3,1)).T, clf.coef_.T))\n",
    "coef_names = np.insert(clf.feature_names_in_, 0, 'intercept')\n",
    "pd.DataFrame(coefs, index = coef_names, columns = clf.classes_)"
   ]
  }
 ],
 "metadata": {
  "kernelspec": {
   "display_name": "Python 3 (ipykernel)",
   "language": "python",
   "name": "python3"
  },
  "language_info": {
   "codemirror_mode": {
    "name": "ipython",
    "version": 3
   },
   "file_extension": ".py",
   "mimetype": "text/x-python",
   "name": "python",
   "nbconvert_exporter": "python",
   "pygments_lexer": "ipython3",
   "version": "3.9.7"
  }
 },
 "nbformat": 4,
 "nbformat_minor": 5
}
