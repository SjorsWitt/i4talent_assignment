{
 "cells": [
  {
   "cell_type": "code",
   "execution_count": 451,
   "id": "7888e345",
   "metadata": {},
   "outputs": [],
   "source": [
    "import pandas as pd\n",
    "import numpy as np"
   ]
  },
  {
   "cell_type": "code",
   "execution_count": 452,
   "id": "31ab3d1d",
   "metadata": {
    "scrolled": true
   },
   "outputs": [
    {
     "data": {
      "text/html": [
       "<div>\n",
       "<style scoped>\n",
       "    .dataframe tbody tr th:only-of-type {\n",
       "        vertical-align: middle;\n",
       "    }\n",
       "\n",
       "    .dataframe tbody tr th {\n",
       "        vertical-align: top;\n",
       "    }\n",
       "\n",
       "    .dataframe thead th {\n",
       "        text-align: right;\n",
       "    }\n",
       "</style>\n",
       "<table border=\"1\" class=\"dataframe\">\n",
       "  <thead>\n",
       "    <tr style=\"text-align: right;\">\n",
       "      <th></th>\n",
       "      <th>WerknemerID</th>\n",
       "      <th>datum</th>\n",
       "      <th>geboortedatum</th>\n",
       "      <th>indiensttreding_datum</th>\n",
       "      <th>uitdiensttreding_datum</th>\n",
       "      <th>leeftijd</th>\n",
       "      <th>lengte_dienst</th>\n",
       "      <th>stad</th>\n",
       "      <th>afdeling</th>\n",
       "      <th>klant_id</th>\n",
       "      <th>geslacht_id</th>\n",
       "      <th>geslacht</th>\n",
       "      <th>uitdiensttreding_reden</th>\n",
       "      <th>uitdiensttreding_type</th>\n",
       "      <th>STATUS_JAAR</th>\n",
       "      <th>STATUS</th>\n",
       "      <th>BUSINESS_UNIT</th>\n",
       "    </tr>\n",
       "  </thead>\n",
       "  <tbody>\n",
       "    <tr>\n",
       "      <th>0</th>\n",
       "      <td>6962</td>\n",
       "      <td>2018-12-31 05:06:00</td>\n",
       "      <td>1989-06-26 05:06:00</td>\n",
       "      <td>2013-05-23 05:06:00</td>\n",
       "      <td>1905-01-01 05:06:00</td>\n",
       "      <td>29.0</td>\n",
       "      <td>5.0</td>\n",
       "      <td>Amstelveen</td>\n",
       "      <td>BI</td>\n",
       "      <td>30</td>\n",
       "      <td>V</td>\n",
       "      <td>Vrouw</td>\n",
       "      <td>Niet van toepassing</td>\n",
       "      <td>Niet van toepassing</td>\n",
       "      <td>2018</td>\n",
       "      <td>Actief</td>\n",
       "      <td>Detachering</td>\n",
       "    </tr>\n",
       "    <tr>\n",
       "      <th>1</th>\n",
       "      <td>6212</td>\n",
       "      <td>2016-12-30 05:06:00</td>\n",
       "      <td>1983-08-25 05:06:00</td>\n",
       "      <td>2010-04-24 05:06:00</td>\n",
       "      <td>1905-01-01 05:06:00</td>\n",
       "      <td>33.0</td>\n",
       "      <td>6.0</td>\n",
       "      <td>Utrecht</td>\n",
       "      <td>Accountant</td>\n",
       "      <td>21</td>\n",
       "      <td>M</td>\n",
       "      <td>Man</td>\n",
       "      <td>Niet van toepassing</td>\n",
       "      <td>Niet van toepassing</td>\n",
       "      <td>2016</td>\n",
       "      <td>Actief</td>\n",
       "      <td>Detachering</td>\n",
       "    </tr>\n",
       "    <tr>\n",
       "      <th>2</th>\n",
       "      <td>5325</td>\n",
       "      <td>2018-12-31 05:06:00</td>\n",
       "      <td>1976-04-24 05:06:00</td>\n",
       "      <td>2006-06-09 05:06:00</td>\n",
       "      <td>1905-01-01 05:06:00</td>\n",
       "      <td>42.0</td>\n",
       "      <td>12.0</td>\n",
       "      <td>Amsterdam</td>\n",
       "      <td>BI</td>\n",
       "      <td>42</td>\n",
       "      <td>V</td>\n",
       "      <td>Vrouw</td>\n",
       "      <td>Niet van toepassing</td>\n",
       "      <td>Niet van toepassing</td>\n",
       "      <td>2018</td>\n",
       "      <td>Actief</td>\n",
       "      <td>Detachering</td>\n",
       "    </tr>\n",
       "    <tr>\n",
       "      <th>3</th>\n",
       "      <td>8193</td>\n",
       "      <td>2018-12-31 05:06:00</td>\n",
       "      <td>1998-10-26 05:06:00</td>\n",
       "      <td>2018-04-28 05:06:00</td>\n",
       "      <td>1905-01-01 05:06:00</td>\n",
       "      <td>20.0</td>\n",
       "      <td>NaN</td>\n",
       "      <td>Utrecht</td>\n",
       "      <td>BI</td>\n",
       "      <td>21</td>\n",
       "      <td>V</td>\n",
       "      <td>Vrouw</td>\n",
       "      <td>Niet van toepassing</td>\n",
       "      <td>Niet van toepassing</td>\n",
       "      <td>2018</td>\n",
       "      <td>Actief</td>\n",
       "      <td>Detachering</td>\n",
       "    </tr>\n",
       "    <tr>\n",
       "      <th>4</th>\n",
       "      <td>5926</td>\n",
       "      <td>2013-12-31 05:06:00</td>\n",
       "      <td>1981-03-19 05:06:00</td>\n",
       "      <td>2009-01-09 05:06:00</td>\n",
       "      <td>1905-01-01 05:06:00</td>\n",
       "      <td>32.0</td>\n",
       "      <td>4.0</td>\n",
       "      <td>Den Haag</td>\n",
       "      <td>Accountant</td>\n",
       "      <td>18</td>\n",
       "      <td>M</td>\n",
       "      <td>Man</td>\n",
       "      <td>Niet van toepassing</td>\n",
       "      <td>Niet van toepassing</td>\n",
       "      <td>2013</td>\n",
       "      <td>Actief</td>\n",
       "      <td>Detachering</td>\n",
       "    </tr>\n",
       "    <tr>\n",
       "      <th>...</th>\n",
       "      <td>...</td>\n",
       "      <td>...</td>\n",
       "      <td>...</td>\n",
       "      <td>...</td>\n",
       "      <td>...</td>\n",
       "      <td>...</td>\n",
       "      <td>...</td>\n",
       "      <td>...</td>\n",
       "      <td>...</td>\n",
       "      <td>...</td>\n",
       "      <td>...</td>\n",
       "      <td>...</td>\n",
       "      <td>...</td>\n",
       "      <td>...</td>\n",
       "      <td>...</td>\n",
       "      <td>...</td>\n",
       "      <td>...</td>\n",
       "    </tr>\n",
       "    <tr>\n",
       "      <th>49748</th>\n",
       "      <td>6305</td>\n",
       "      <td>2018-12-31 05:06:00</td>\n",
       "      <td>1984-04-20 05:06:00</td>\n",
       "      <td>2010-08-28 05:06:00</td>\n",
       "      <td>1905-01-01 05:06:00</td>\n",
       "      <td>34.0</td>\n",
       "      <td>NaN</td>\n",
       "      <td>Rotterdam</td>\n",
       "      <td>Business analist</td>\n",
       "      <td>46</td>\n",
       "      <td>V</td>\n",
       "      <td>Vrouw</td>\n",
       "      <td>Niet van toepassing</td>\n",
       "      <td>Niet van toepassing</td>\n",
       "      <td>2018</td>\n",
       "      <td>Actief</td>\n",
       "      <td>Detachering</td>\n",
       "    </tr>\n",
       "    <tr>\n",
       "      <th>49749</th>\n",
       "      <td>8025</td>\n",
       "      <td>2017-12-31 05:06:00</td>\n",
       "      <td>1997-06-25 05:06:00</td>\n",
       "      <td>2017-08-12 05:06:00</td>\n",
       "      <td>2019-02-12 05:06:00</td>\n",
       "      <td>20.0</td>\n",
       "      <td>0.0</td>\n",
       "      <td>Amsterdam</td>\n",
       "      <td>NaN</td>\n",
       "      <td>44</td>\n",
       "      <td>M</td>\n",
       "      <td>Man</td>\n",
       "      <td>Niet van toepassing</td>\n",
       "      <td>Niet van toepassing</td>\n",
       "      <td>2017</td>\n",
       "      <td>Actief</td>\n",
       "      <td>Detachering</td>\n",
       "    </tr>\n",
       "    <tr>\n",
       "      <th>49750</th>\n",
       "      <td>2632</td>\n",
       "      <td>2014-12-31 05:06:00</td>\n",
       "      <td>1961-04-27 05:06:00</td>\n",
       "      <td>1998-07-09 05:06:00</td>\n",
       "      <td>1905-01-01 05:06:00</td>\n",
       "      <td>53.0</td>\n",
       "      <td>16.0</td>\n",
       "      <td>Haarlem</td>\n",
       "      <td>Business analist</td>\n",
       "      <td>5</td>\n",
       "      <td>V</td>\n",
       "      <td>Vrouw</td>\n",
       "      <td>Niet van toepassing</td>\n",
       "      <td>Niet van toepassing</td>\n",
       "      <td>2014</td>\n",
       "      <td>Actief</td>\n",
       "      <td>Detachering</td>\n",
       "    </tr>\n",
       "    <tr>\n",
       "      <th>49751</th>\n",
       "      <td>7122</td>\n",
       "      <td>2014-12-31 05:06:00</td>\n",
       "      <td>1990-09-08 05:06:00</td>\n",
       "      <td>2014-01-10 05:06:00</td>\n",
       "      <td>2019-12-30 05:06:00</td>\n",
       "      <td>24.0</td>\n",
       "      <td>0.0</td>\n",
       "      <td>Barendrecht</td>\n",
       "      <td>Credit controller</td>\n",
       "      <td>13</td>\n",
       "      <td>M</td>\n",
       "      <td>Man</td>\n",
       "      <td>Niet van toepassing</td>\n",
       "      <td>Niet van toepassing</td>\n",
       "      <td>2014</td>\n",
       "      <td>Actief</td>\n",
       "      <td>Detachering</td>\n",
       "    </tr>\n",
       "    <tr>\n",
       "      <th>49752</th>\n",
       "      <td>7353</td>\n",
       "      <td>2018-12-31 05:06:00</td>\n",
       "      <td>1992-05-28 05:06:00</td>\n",
       "      <td>2014-12-08 05:06:00</td>\n",
       "      <td>1905-01-01 05:06:00</td>\n",
       "      <td>26.0</td>\n",
       "      <td>4.0</td>\n",
       "      <td>NaN</td>\n",
       "      <td>Credit controller</td>\n",
       "      <td>12</td>\n",
       "      <td>M</td>\n",
       "      <td>Man</td>\n",
       "      <td>Niet van toepassing</td>\n",
       "      <td>Niet van toepassing</td>\n",
       "      <td>2018</td>\n",
       "      <td>Actief</td>\n",
       "      <td>Detachering</td>\n",
       "    </tr>\n",
       "  </tbody>\n",
       "</table>\n",
       "<p>49753 rows × 17 columns</p>\n",
       "</div>"
      ],
      "text/plain": [
       "       WerknemerID                datum        geboortedatum  \\\n",
       "0             6962  2018-12-31 05:06:00  1989-06-26 05:06:00   \n",
       "1             6212  2016-12-30 05:06:00  1983-08-25 05:06:00   \n",
       "2             5325  2018-12-31 05:06:00  1976-04-24 05:06:00   \n",
       "3             8193  2018-12-31 05:06:00  1998-10-26 05:06:00   \n",
       "4             5926  2013-12-31 05:06:00  1981-03-19 05:06:00   \n",
       "...            ...                  ...                  ...   \n",
       "49748         6305  2018-12-31 05:06:00  1984-04-20 05:06:00   \n",
       "49749         8025  2017-12-31 05:06:00  1997-06-25 05:06:00   \n",
       "49750         2632  2014-12-31 05:06:00  1961-04-27 05:06:00   \n",
       "49751         7122  2014-12-31 05:06:00  1990-09-08 05:06:00   \n",
       "49752         7353  2018-12-31 05:06:00  1992-05-28 05:06:00   \n",
       "\n",
       "      indiensttreding_datum uitdiensttreding_datum  leeftijd  lengte_dienst  \\\n",
       "0       2013-05-23 05:06:00    1905-01-01 05:06:00      29.0            5.0   \n",
       "1       2010-04-24 05:06:00    1905-01-01 05:06:00      33.0            6.0   \n",
       "2       2006-06-09 05:06:00    1905-01-01 05:06:00      42.0           12.0   \n",
       "3       2018-04-28 05:06:00    1905-01-01 05:06:00      20.0            NaN   \n",
       "4       2009-01-09 05:06:00    1905-01-01 05:06:00      32.0            4.0   \n",
       "...                     ...                    ...       ...            ...   \n",
       "49748   2010-08-28 05:06:00    1905-01-01 05:06:00      34.0            NaN   \n",
       "49749   2017-08-12 05:06:00    2019-02-12 05:06:00      20.0            0.0   \n",
       "49750   1998-07-09 05:06:00    1905-01-01 05:06:00      53.0           16.0   \n",
       "49751   2014-01-10 05:06:00    2019-12-30 05:06:00      24.0            0.0   \n",
       "49752   2014-12-08 05:06:00    1905-01-01 05:06:00      26.0            4.0   \n",
       "\n",
       "              stad           afdeling  klant_id geslacht_id geslacht  \\\n",
       "0       Amstelveen                 BI        30           V    Vrouw   \n",
       "1          Utrecht         Accountant        21           M      Man   \n",
       "2        Amsterdam                 BI        42           V    Vrouw   \n",
       "3          Utrecht                 BI        21           V    Vrouw   \n",
       "4         Den Haag         Accountant        18           M      Man   \n",
       "...            ...                ...       ...         ...      ...   \n",
       "49748    Rotterdam   Business analist        46           V    Vrouw   \n",
       "49749    Amsterdam                NaN        44           M      Man   \n",
       "49750      Haarlem   Business analist         5           V    Vrouw   \n",
       "49751  Barendrecht  Credit controller        13           M      Man   \n",
       "49752          NaN  Credit controller        12           M      Man   \n",
       "\n",
       "      uitdiensttreding_reden uitdiensttreding_type  STATUS_JAAR  STATUS  \\\n",
       "0        Niet van toepassing   Niet van toepassing         2018  Actief   \n",
       "1        Niet van toepassing   Niet van toepassing         2016  Actief   \n",
       "2        Niet van toepassing   Niet van toepassing         2018  Actief   \n",
       "3        Niet van toepassing   Niet van toepassing         2018  Actief   \n",
       "4        Niet van toepassing   Niet van toepassing         2013  Actief   \n",
       "...                      ...                   ...          ...     ...   \n",
       "49748    Niet van toepassing   Niet van toepassing         2018  Actief   \n",
       "49749    Niet van toepassing   Niet van toepassing         2017  Actief   \n",
       "49750    Niet van toepassing   Niet van toepassing         2014  Actief   \n",
       "49751    Niet van toepassing   Niet van toepassing         2014  Actief   \n",
       "49752    Niet van toepassing   Niet van toepassing         2018  Actief   \n",
       "\n",
       "      BUSINESS_UNIT  \n",
       "0       Detachering  \n",
       "1       Detachering  \n",
       "2       Detachering  \n",
       "3       Detachering  \n",
       "4       Detachering  \n",
       "...             ...  \n",
       "49748   Detachering  \n",
       "49749   Detachering  \n",
       "49750   Detachering  \n",
       "49751   Detachering  \n",
       "49752   Detachering  \n",
       "\n",
       "[49753 rows x 17 columns]"
      ]
     },
     "execution_count": 452,
     "metadata": {},
     "output_type": "execute_result"
    }
   ],
   "source": [
    "# Load csv data file\n",
    "data = pd.read_csv('data/i4talent.csv')\n",
    "data"
   ]
  },
  {
   "cell_type": "markdown",
   "id": "fa489632",
   "metadata": {},
   "source": [
    "# Examine data"
   ]
  },
  {
   "cell_type": "code",
   "execution_count": 453,
   "id": "917dce3e",
   "metadata": {
    "scrolled": true
   },
   "outputs": [
    {
     "name": "stdout",
     "output_type": "stream",
     "text": [
      "<class 'pandas.core.frame.DataFrame'>\n",
      "RangeIndex: 49753 entries, 0 to 49752\n",
      "Data columns (total 17 columns):\n",
      " #   Column                  Non-Null Count  Dtype  \n",
      "---  ------                  --------------  -----  \n",
      " 0   WerknemerID             49753 non-null  int64  \n",
      " 1   datum                   49753 non-null  object \n",
      " 2   geboortedatum           49753 non-null  object \n",
      " 3   indiensttreding_datum   49753 non-null  object \n",
      " 4   uitdiensttreding_datum  49753 non-null  object \n",
      " 5   leeftijd                44653 non-null  float64\n",
      " 6   lengte_dienst           44802 non-null  float64\n",
      " 7   stad                    44210 non-null  object \n",
      " 8   afdeling                44688 non-null  object \n",
      " 9   klant_id                49753 non-null  int64  \n",
      " 10  geslacht_id             49753 non-null  object \n",
      " 11  geslacht                49753 non-null  object \n",
      " 12  uitdiensttreding_reden  49753 non-null  object \n",
      " 13  uitdiensttreding_type   49753 non-null  object \n",
      " 14  STATUS_JAAR             49753 non-null  int64  \n",
      " 15  STATUS                  49753 non-null  object \n",
      " 16  BUSINESS_UNIT           49753 non-null  object \n",
      "dtypes: float64(2), int64(3), object(12)\n",
      "memory usage: 6.5+ MB\n"
     ]
    }
   ],
   "source": [
    "# data.dtypes\n",
    "data.info()"
   ]
  },
  {
   "cell_type": "code",
   "execution_count": 454,
   "id": "9a0d3aaf",
   "metadata": {
    "scrolled": true
   },
   "outputs": [
    {
     "data": {
      "text/plain": [
       "Amsterdam              10217\n",
       "NaN                     5543\n",
       "Rotterdam               4661\n",
       "Den Haag                3646\n",
       "Utrecht                 2878\n",
       "Rijswijk                2270\n",
       "Haarlem                 1857\n",
       "Zoetermeer              1851\n",
       "Dordrecht               1823\n",
       "Zaandam                 1638\n",
       "Eindhoven               1400\n",
       "Tilburg                 1278\n",
       "Almere                  1117\n",
       "Breda                   1060\n",
       "Leiden                   840\n",
       "Alphen aan den Rijn      826\n",
       "Delft                    805\n",
       "Amstelveen               733\n",
       "Lelystad                 631\n",
       "Schiedam                 628\n",
       "Gouda                    580\n",
       "Capelle                  563\n",
       "Zeist                    554\n",
       "Hoogeveen                497\n",
       "Roermond                 467\n",
       "Pijnacker                290\n",
       "Woerden                  287\n",
       "Middelburg               224\n",
       "Barendrecht              216\n",
       "Alblasserdam             213\n",
       "Veenendaal               160\n",
       "Name: stad, dtype: int64"
      ]
     },
     "execution_count": 454,
     "metadata": {},
     "output_type": "execute_result"
    }
   ],
   "source": [
    "data['stad'].value_counts(dropna = False)"
   ]
  },
  {
   "cell_type": "code",
   "execution_count": 455,
   "id": "bff07c78",
   "metadata": {
    "scrolled": true
   },
   "outputs": [
    {
     "data": {
      "text/plain": [
       "Financial controller         9300\n",
       "Accountant                   7779\n",
       "Boekhouder                   7707\n",
       "Business analist             7556\n",
       "BI                           6435\n",
       "Credit controller            5340\n",
       "NaN                          5065\n",
       "Project controller            243\n",
       "Business controller            88\n",
       "Administratief medewerker      60\n",
       "HR                             51\n",
       "Marketing                      41\n",
       "Business development           35\n",
       "Office manager                 20\n",
       "IT                             18\n",
       "Legal                          15\n",
       "Name: afdeling, dtype: int64"
      ]
     },
     "execution_count": 455,
     "metadata": {},
     "output_type": "execute_result"
    }
   ],
   "source": [
    "data['afdeling'].value_counts(dropna = False)"
   ]
  },
  {
   "cell_type": "code",
   "execution_count": 456,
   "id": "4a50a5d4",
   "metadata": {
    "scrolled": true
   },
   "outputs": [
    {
     "data": {
      "text/plain": [
       "V    25953\n",
       "M    23800\n",
       "Name: geslacht_id, dtype: int64"
      ]
     },
     "execution_count": 456,
     "metadata": {},
     "output_type": "execute_result"
    }
   ],
   "source": [
    "data['geslacht_id'].value_counts(dropna = False)"
   ]
  },
  {
   "cell_type": "code",
   "execution_count": 457,
   "id": "2cca3a88",
   "metadata": {},
   "outputs": [
    {
     "data": {
      "text/plain": [
       "Vrouw    25953\n",
       "Man      23800\n",
       "Name: geslacht, dtype: int64"
      ]
     },
     "execution_count": 457,
     "metadata": {},
     "output_type": "execute_result"
    }
   ],
   "source": [
    "data['geslacht'].value_counts(dropna = False)"
   ]
  },
  {
   "cell_type": "code",
   "execution_count": 458,
   "id": "4a16d1da",
   "metadata": {},
   "outputs": [
    {
     "data": {
      "text/plain": [
       "Niet van toepassing    48266\n",
       "Pensioen                 886\n",
       "Vertrek                  385\n",
       "Ontslag                  216\n",
       "Name: uitdiensttreding_reden, dtype: int64"
      ]
     },
     "execution_count": 458,
     "metadata": {},
     "output_type": "execute_result"
    }
   ],
   "source": [
    "data['uitdiensttreding_reden'].value_counts(dropna = False)"
   ]
  },
  {
   "cell_type": "code",
   "execution_count": 459,
   "id": "2afdb7b8",
   "metadata": {
    "scrolled": true
   },
   "outputs": [
    {
     "data": {
      "text/plain": [
       "Niet van toepassing    48266\n",
       "Vrijwillig              1271\n",
       "Niet vrijwillig          216\n",
       "Name: uitdiensttreding_type, dtype: int64"
      ]
     },
     "execution_count": 459,
     "metadata": {},
     "output_type": "execute_result"
    }
   ],
   "source": [
    "data['uitdiensttreding_type'].value_counts(dropna = False)"
   ]
  },
  {
   "cell_type": "code",
   "execution_count": 460,
   "id": "155666dc",
   "metadata": {},
   "outputs": [
    {
     "data": {
      "text/plain": [
       "Actief       48266\n",
       "Beëindigd     1487\n",
       "Name: STATUS, dtype: int64"
      ]
     },
     "execution_count": 460,
     "metadata": {},
     "output_type": "execute_result"
    }
   ],
   "source": [
    "data['STATUS'].value_counts(dropna = False)"
   ]
  },
  {
   "cell_type": "code",
   "execution_count": 461,
   "id": "0b34c627",
   "metadata": {},
   "outputs": [
    {
     "data": {
      "text/plain": [
       "Detachering    49166\n",
       "Intern           587\n",
       "Name: BUSINESS_UNIT, dtype: int64"
      ]
     },
     "execution_count": 461,
     "metadata": {},
     "output_type": "execute_result"
    }
   ],
   "source": [
    "data['BUSINESS_UNIT'].value_counts(dropna = False)"
   ]
  },
  {
   "cell_type": "code",
   "execution_count": 462,
   "id": "5b935b1e",
   "metadata": {
    "scrolled": false
   },
   "outputs": [
    {
     "data": {
      "text/plain": [
       "WerknemerID                  0\n",
       "datum                        0\n",
       "geboortedatum                0\n",
       "indiensttreding_datum        0\n",
       "uitdiensttreding_datum       0\n",
       "leeftijd                  5100\n",
       "lengte_dienst             4951\n",
       "stad                      5543\n",
       "afdeling                  5065\n",
       "klant_id                     0\n",
       "geslacht_id                  0\n",
       "geslacht                     0\n",
       "uitdiensttreding_reden       0\n",
       "uitdiensttreding_type        0\n",
       "STATUS_JAAR                  0\n",
       "STATUS                       0\n",
       "BUSINESS_UNIT                0\n",
       "dtype: int64"
      ]
     },
     "execution_count": 462,
     "metadata": {},
     "output_type": "execute_result"
    }
   ],
   "source": [
    "# Find number of NaN values for each column\n",
    "data.isnull().sum()"
   ]
  },
  {
   "cell_type": "code",
   "execution_count": 463,
   "id": "d57e5c06",
   "metadata": {},
   "outputs": [
    {
     "data": {
      "text/plain": [
       "17671"
      ]
     },
     "execution_count": 463,
     "metadata": {},
     "output_type": "execute_result"
    }
   ],
   "source": [
    "# Find number of rows with at least one NaN value\n",
    "data.isnull().any(axis=1).sum()"
   ]
  },
  {
   "cell_type": "markdown",
   "id": "6880d64d",
   "metadata": {},
   "source": [
    "# Filling in missing data"
   ]
  },
  {
   "cell_type": "code",
   "execution_count": 464,
   "id": "d79e3b6c",
   "metadata": {},
   "outputs": [],
   "source": [
    "# Change date strings to type Timestamp\n",
    "cols = ['datum', 'geboortedatum', 'indiensttreding_datum', 'uitdiensttreding_datum']\n",
    "data[cols] = data[cols].apply(pd.to_datetime, errors='raise')\n",
    "# data.dtypes"
   ]
  },
  {
   "cell_type": "code",
   "execution_count": 465,
   "id": "ac68503a",
   "metadata": {},
   "outputs": [],
   "source": [
    "# Calculate leeftijd by subtracting geboortedatum from datum\n",
    "new_cols = ['leeftijd_v2', 'lengte_dienst_v2']\n",
    "data[new_cols[0]] = (data['datum'] - data['geboortedatum']) / pd.Timedelta(365, 'days') # assuming one year consists of 365 days\n",
    "\n",
    "# Create empty column lengte_dienst_v2\n",
    "data[new_cols[1]] = np.nan\n",
    "\n",
    "# If STATUS is Actief -> lengte_dienst_v2 = indiensttreding_datum - datum\n",
    "# (uitdiensttreding_datum is ignored here)\n",
    "data.loc[data['STATUS'] == 'Actief', new_cols[1]] = (data['datum'] - data['indiensttreding_datum']) / pd.Timedelta(365, 'days')\n",
    "\n",
    "# If STATUS is Beëindigd -> lengte_dienst_v2 = indiensttreding_datum - uitdiensttreding_datum\n",
    "data.loc[data['STATUS'] == 'Beëindigd', new_cols[1]] = (data['uitdiensttreding_datum'] - data['indiensttreding_datum']) / pd.Timedelta(365, 'days')\n",
    "\n",
    "data[new_cols] = data[new_cols].round(0)"
   ]
  },
  {
   "cell_type": "code",
   "execution_count": 466,
   "id": "3af4ad65",
   "metadata": {
    "scrolled": true
   },
   "outputs": [
    {
     "data": {
      "text/plain": [
       "19.0      63\n",
       "20.0     268\n",
       "21.0     540\n",
       "22.0     757\n",
       "23.0     910\n",
       "24.0    1049\n",
       "25.0    1137\n",
       "26.0    1229\n",
       "27.0    1214\n",
       "28.0    1222\n",
       "29.0    1238\n",
       "30.0    1259\n",
       "31.0    1154\n",
       "32.0    1150\n",
       "33.0    1152\n",
       "34.0    1181\n",
       "35.0    1191\n",
       "36.0    1165\n",
       "37.0    1179\n",
       "38.0    1161\n",
       "39.0    1151\n",
       "40.0    1136\n",
       "41.0    1139\n",
       "42.0    1155\n",
       "43.0    1149\n",
       "44.0    1147\n",
       "45.0    1157\n",
       "46.0    1168\n",
       "47.0    1155\n",
       "48.0    1172\n",
       "49.0    1172\n",
       "50.0    1207\n",
       "51.0    1200\n",
       "52.0    1210\n",
       "53.0    1188\n",
       "54.0    1172\n",
       "55.0    1166\n",
       "56.0    1148\n",
       "57.0    1148\n",
       "58.0    1131\n",
       "59.0    1143\n",
       "60.0    1290\n",
       "61.0     793\n",
       "62.0     735\n",
       "63.0     692\n",
       "64.0     672\n",
       "65.0     936\n",
       "66.0       2\n",
       "Name: leeftijd_v2, dtype: int64"
      ]
     },
     "execution_count": 466,
     "metadata": {},
     "output_type": "execute_result"
    }
   ],
   "source": [
    "# Check if everything went OK\n",
    "data['leeftijd_v2'].value_counts().sort_index()"
   ]
  },
  {
   "cell_type": "code",
   "execution_count": 467,
   "id": "40ac2420",
   "metadata": {
    "scrolled": true
   },
   "outputs": [
    {
     "data": {
      "text/plain": [
       "0.0      985\n",
       "1.0     2098\n",
       "2.0     2253\n",
       "3.0     2238\n",
       "4.0     2283\n",
       "5.0     2297\n",
       "6.0     2239\n",
       "7.0     2316\n",
       "8.0     2600\n",
       "9.0     2340\n",
       "10.0    2423\n",
       "11.0    2442\n",
       "12.0    2529\n",
       "13.0    3108\n",
       "14.0    2212\n",
       "15.0    2188\n",
       "16.0    2163\n",
       "17.0    2155\n",
       "18.0    1963\n",
       "19.0    1735\n",
       "20.0    1501\n",
       "21.0    1183\n",
       "22.0     937\n",
       "23.0     714\n",
       "24.0     514\n",
       "25.0     321\n",
       "26.0      16\n",
       "Name: lengte_dienst_v2, dtype: int64"
      ]
     },
     "execution_count": 467,
     "metadata": {},
     "output_type": "execute_result"
    }
   ],
   "source": [
    "# Check if everything went OK\n",
    "data['lengte_dienst_v2'].value_counts().sort_index()"
   ]
  },
  {
   "cell_type": "code",
   "execution_count": 468,
   "id": "e2af9d30",
   "metadata": {},
   "outputs": [
    {
     "data": {
      "text/plain": [
       "10043"
      ]
     },
     "execution_count": 468,
     "metadata": {},
     "output_type": "execute_result"
    }
   ],
   "source": [
    "# Find new number of rows with at least one NaN value\n",
    "data.drop(columns=['leeftijd', 'lengte_dienst']).isnull().any(axis=1).sum()"
   ]
  },
  {
   "cell_type": "code",
   "execution_count": 469,
   "id": "894e8999",
   "metadata": {},
   "outputs": [
    {
     "data": {
      "text/plain": [
       "(49753, 19)"
      ]
     },
     "execution_count": 469,
     "metadata": {},
     "output_type": "execute_result"
    }
   ],
   "source": [
    "data.shape"
   ]
  },
  {
   "cell_type": "code",
   "execution_count": 471,
   "id": "288c94d6",
   "metadata": {},
   "outputs": [
    {
     "data": {
      "text/plain": [
       "(39710, 19)"
      ]
     },
     "execution_count": 471,
     "metadata": {},
     "output_type": "execute_result"
    }
   ],
   "source": [
    "# Fill in rest of missing data (stad & afdeling) with 'Unknown'\n",
    "# data = data.fillna('Unknown')\n",
    "\n",
    "# OR\n",
    "\n",
    "# Remove all rows with NaN values for stad or afdeling (to skip leeftijd & lengte_dienst)\n",
    "data = data.dropna(subset = ['stad', 'afdeling'])\n",
    "data.shape"
   ]
  },
  {
   "cell_type": "markdown",
   "id": "fa3a4b13",
   "metadata": {},
   "source": [
    "# Modelling"
   ]
  }
 ],
 "metadata": {
  "kernelspec": {
   "display_name": "Python 3 (ipykernel)",
   "language": "python",
   "name": "python3"
  },
  "language_info": {
   "codemirror_mode": {
    "name": "ipython",
    "version": 3
   },
   "file_extension": ".py",
   "mimetype": "text/x-python",
   "name": "python",
   "nbconvert_exporter": "python",
   "pygments_lexer": "ipython3",
   "version": "3.9.7"
  }
 },
 "nbformat": 4,
 "nbformat_minor": 5
}
