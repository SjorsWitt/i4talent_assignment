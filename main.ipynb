{
 "cells": [
  {
   "cell_type": "code",
   "execution_count": 1254,
   "id": "7888e345",
   "metadata": {},
   "outputs": [],
   "source": [
    "import pandas as pd\n",
    "import numpy as np"
   ]
  },
  {
   "cell_type": "code",
   "execution_count": 1255,
   "id": "31ab3d1d",
   "metadata": {
    "scrolled": false
   },
   "outputs": [
    {
     "data": {
      "text/html": [
       "<div>\n",
       "<style scoped>\n",
       "    .dataframe tbody tr th:only-of-type {\n",
       "        vertical-align: middle;\n",
       "    }\n",
       "\n",
       "    .dataframe tbody tr th {\n",
       "        vertical-align: top;\n",
       "    }\n",
       "\n",
       "    .dataframe thead th {\n",
       "        text-align: right;\n",
       "    }\n",
       "</style>\n",
       "<table border=\"1\" class=\"dataframe\">\n",
       "  <thead>\n",
       "    <tr style=\"text-align: right;\">\n",
       "      <th></th>\n",
       "      <th>WerknemerID</th>\n",
       "      <th>datum</th>\n",
       "      <th>geboortedatum</th>\n",
       "      <th>indiensttreding_datum</th>\n",
       "      <th>uitdiensttreding_datum</th>\n",
       "      <th>leeftijd</th>\n",
       "      <th>lengte_dienst</th>\n",
       "      <th>stad</th>\n",
       "      <th>afdeling</th>\n",
       "      <th>klant_id</th>\n",
       "      <th>geslacht_id</th>\n",
       "      <th>geslacht</th>\n",
       "      <th>uitdiensttreding_reden</th>\n",
       "      <th>uitdiensttreding_type</th>\n",
       "      <th>STATUS_JAAR</th>\n",
       "      <th>STATUS</th>\n",
       "      <th>BUSINESS_UNIT</th>\n",
       "    </tr>\n",
       "  </thead>\n",
       "  <tbody>\n",
       "    <tr>\n",
       "      <th>0</th>\n",
       "      <td>6962</td>\n",
       "      <td>2018-12-31 05:06:00</td>\n",
       "      <td>1989-06-26 05:06:00</td>\n",
       "      <td>2013-05-23 05:06:00</td>\n",
       "      <td>1905-01-01 05:06:00</td>\n",
       "      <td>29.0</td>\n",
       "      <td>5.0</td>\n",
       "      <td>Amstelveen</td>\n",
       "      <td>BI</td>\n",
       "      <td>30</td>\n",
       "      <td>V</td>\n",
       "      <td>Vrouw</td>\n",
       "      <td>Niet van toepassing</td>\n",
       "      <td>Niet van toepassing</td>\n",
       "      <td>2018</td>\n",
       "      <td>Actief</td>\n",
       "      <td>Detachering</td>\n",
       "    </tr>\n",
       "    <tr>\n",
       "      <th>1</th>\n",
       "      <td>6212</td>\n",
       "      <td>2016-12-30 05:06:00</td>\n",
       "      <td>1983-08-25 05:06:00</td>\n",
       "      <td>2010-04-24 05:06:00</td>\n",
       "      <td>1905-01-01 05:06:00</td>\n",
       "      <td>33.0</td>\n",
       "      <td>6.0</td>\n",
       "      <td>Utrecht</td>\n",
       "      <td>Accountant</td>\n",
       "      <td>21</td>\n",
       "      <td>M</td>\n",
       "      <td>Man</td>\n",
       "      <td>Niet van toepassing</td>\n",
       "      <td>Niet van toepassing</td>\n",
       "      <td>2016</td>\n",
       "      <td>Actief</td>\n",
       "      <td>Detachering</td>\n",
       "    </tr>\n",
       "    <tr>\n",
       "      <th>2</th>\n",
       "      <td>5325</td>\n",
       "      <td>2018-12-31 05:06:00</td>\n",
       "      <td>1976-04-24 05:06:00</td>\n",
       "      <td>2006-06-09 05:06:00</td>\n",
       "      <td>1905-01-01 05:06:00</td>\n",
       "      <td>42.0</td>\n",
       "      <td>12.0</td>\n",
       "      <td>Amsterdam</td>\n",
       "      <td>BI</td>\n",
       "      <td>42</td>\n",
       "      <td>V</td>\n",
       "      <td>Vrouw</td>\n",
       "      <td>Niet van toepassing</td>\n",
       "      <td>Niet van toepassing</td>\n",
       "      <td>2018</td>\n",
       "      <td>Actief</td>\n",
       "      <td>Detachering</td>\n",
       "    </tr>\n",
       "    <tr>\n",
       "      <th>3</th>\n",
       "      <td>8193</td>\n",
       "      <td>2018-12-31 05:06:00</td>\n",
       "      <td>1998-10-26 05:06:00</td>\n",
       "      <td>2018-04-28 05:06:00</td>\n",
       "      <td>1905-01-01 05:06:00</td>\n",
       "      <td>20.0</td>\n",
       "      <td>NaN</td>\n",
       "      <td>Utrecht</td>\n",
       "      <td>BI</td>\n",
       "      <td>21</td>\n",
       "      <td>V</td>\n",
       "      <td>Vrouw</td>\n",
       "      <td>Niet van toepassing</td>\n",
       "      <td>Niet van toepassing</td>\n",
       "      <td>2018</td>\n",
       "      <td>Actief</td>\n",
       "      <td>Detachering</td>\n",
       "    </tr>\n",
       "    <tr>\n",
       "      <th>4</th>\n",
       "      <td>5926</td>\n",
       "      <td>2013-12-31 05:06:00</td>\n",
       "      <td>1981-03-19 05:06:00</td>\n",
       "      <td>2009-01-09 05:06:00</td>\n",
       "      <td>1905-01-01 05:06:00</td>\n",
       "      <td>32.0</td>\n",
       "      <td>4.0</td>\n",
       "      <td>Den Haag</td>\n",
       "      <td>Accountant</td>\n",
       "      <td>18</td>\n",
       "      <td>M</td>\n",
       "      <td>Man</td>\n",
       "      <td>Niet van toepassing</td>\n",
       "      <td>Niet van toepassing</td>\n",
       "      <td>2013</td>\n",
       "      <td>Actief</td>\n",
       "      <td>Detachering</td>\n",
       "    </tr>\n",
       "  </tbody>\n",
       "</table>\n",
       "</div>"
      ],
      "text/plain": [
       "   WerknemerID                datum        geboortedatum  \\\n",
       "0         6962  2018-12-31 05:06:00  1989-06-26 05:06:00   \n",
       "1         6212  2016-12-30 05:06:00  1983-08-25 05:06:00   \n",
       "2         5325  2018-12-31 05:06:00  1976-04-24 05:06:00   \n",
       "3         8193  2018-12-31 05:06:00  1998-10-26 05:06:00   \n",
       "4         5926  2013-12-31 05:06:00  1981-03-19 05:06:00   \n",
       "\n",
       "  indiensttreding_datum uitdiensttreding_datum  leeftijd  lengte_dienst  \\\n",
       "0   2013-05-23 05:06:00    1905-01-01 05:06:00      29.0            5.0   \n",
       "1   2010-04-24 05:06:00    1905-01-01 05:06:00      33.0            6.0   \n",
       "2   2006-06-09 05:06:00    1905-01-01 05:06:00      42.0           12.0   \n",
       "3   2018-04-28 05:06:00    1905-01-01 05:06:00      20.0            NaN   \n",
       "4   2009-01-09 05:06:00    1905-01-01 05:06:00      32.0            4.0   \n",
       "\n",
       "         stad    afdeling  klant_id geslacht_id geslacht  \\\n",
       "0  Amstelveen          BI        30           V    Vrouw   \n",
       "1     Utrecht  Accountant        21           M      Man   \n",
       "2   Amsterdam          BI        42           V    Vrouw   \n",
       "3     Utrecht          BI        21           V    Vrouw   \n",
       "4    Den Haag  Accountant        18           M      Man   \n",
       "\n",
       "  uitdiensttreding_reden uitdiensttreding_type  STATUS_JAAR  STATUS  \\\n",
       "0    Niet van toepassing   Niet van toepassing         2018  Actief   \n",
       "1    Niet van toepassing   Niet van toepassing         2016  Actief   \n",
       "2    Niet van toepassing   Niet van toepassing         2018  Actief   \n",
       "3    Niet van toepassing   Niet van toepassing         2018  Actief   \n",
       "4    Niet van toepassing   Niet van toepassing         2013  Actief   \n",
       "\n",
       "  BUSINESS_UNIT  \n",
       "0   Detachering  \n",
       "1   Detachering  \n",
       "2   Detachering  \n",
       "3   Detachering  \n",
       "4   Detachering  "
      ]
     },
     "execution_count": 1255,
     "metadata": {},
     "output_type": "execute_result"
    }
   ],
   "source": [
    "# Load csv data file\n",
    "data = pd.read_csv('data/i4talent.csv')\n",
    "data.head()"
   ]
  },
  {
   "cell_type": "code",
   "execution_count": 1256,
   "id": "38a7a10e",
   "metadata": {},
   "outputs": [
    {
     "data": {
      "text/plain": [
       "(49753, 17)"
      ]
     },
     "execution_count": 1256,
     "metadata": {},
     "output_type": "execute_result"
    }
   ],
   "source": [
    "data.shape"
   ]
  },
  {
   "cell_type": "markdown",
   "id": "412f1c2a",
   "metadata": {},
   "source": [
    "# Exploratory Data Analysis"
   ]
  },
  {
   "cell_type": "code",
   "execution_count": 1257,
   "id": "917dce3e",
   "metadata": {
    "scrolled": true
   },
   "outputs": [
    {
     "name": "stdout",
     "output_type": "stream",
     "text": [
      "<class 'pandas.core.frame.DataFrame'>\n",
      "RangeIndex: 49753 entries, 0 to 49752\n",
      "Data columns (total 17 columns):\n",
      " #   Column                  Non-Null Count  Dtype  \n",
      "---  ------                  --------------  -----  \n",
      " 0   WerknemerID             49753 non-null  int64  \n",
      " 1   datum                   49753 non-null  object \n",
      " 2   geboortedatum           49753 non-null  object \n",
      " 3   indiensttreding_datum   49753 non-null  object \n",
      " 4   uitdiensttreding_datum  49753 non-null  object \n",
      " 5   leeftijd                44653 non-null  float64\n",
      " 6   lengte_dienst           44802 non-null  float64\n",
      " 7   stad                    44210 non-null  object \n",
      " 8   afdeling                44688 non-null  object \n",
      " 9   klant_id                49753 non-null  int64  \n",
      " 10  geslacht_id             49753 non-null  object \n",
      " 11  geslacht                49753 non-null  object \n",
      " 12  uitdiensttreding_reden  49753 non-null  object \n",
      " 13  uitdiensttreding_type   49753 non-null  object \n",
      " 14  STATUS_JAAR             49753 non-null  int64  \n",
      " 15  STATUS                  49753 non-null  object \n",
      " 16  BUSINESS_UNIT           49753 non-null  object \n",
      "dtypes: float64(2), int64(3), object(12)\n",
      "memory usage: 6.5+ MB\n"
     ]
    }
   ],
   "source": [
    "# data.dtypes\n",
    "data.info()"
   ]
  },
  {
   "cell_type": "code",
   "execution_count": 1258,
   "id": "f8145b78",
   "metadata": {
    "scrolled": true
   },
   "outputs": [],
   "source": [
    "# Remove all duplicate rows\n",
    "data.drop_duplicates(inplace=True)"
   ]
  },
  {
   "cell_type": "code",
   "execution_count": 1259,
   "id": "5b935b1e",
   "metadata": {
    "scrolled": true
   },
   "outputs": [
    {
     "data": {
      "text/plain": [
       "WerknemerID                  0\n",
       "datum                        0\n",
       "geboortedatum                0\n",
       "indiensttreding_datum        0\n",
       "uitdiensttreding_datum       0\n",
       "leeftijd                  5100\n",
       "lengte_dienst             4951\n",
       "stad                      5543\n",
       "afdeling                  5065\n",
       "klant_id                     0\n",
       "geslacht_id                  0\n",
       "geslacht                     0\n",
       "uitdiensttreding_reden       0\n",
       "uitdiensttreding_type        0\n",
       "STATUS_JAAR                  0\n",
       "STATUS                       0\n",
       "BUSINESS_UNIT                0\n",
       "dtype: int64"
      ]
     },
     "execution_count": 1259,
     "metadata": {},
     "output_type": "execute_result"
    }
   ],
   "source": [
    "# Find number of missing values for each column\n",
    "data.isna().sum()"
   ]
  },
  {
   "cell_type": "code",
   "execution_count": 1260,
   "id": "9ead2000",
   "metadata": {},
   "outputs": [],
   "source": [
    "# Set WerknemerID as index\n",
    "data.set_index('WerknemerID', inplace = True)"
   ]
  },
  {
   "cell_type": "code",
   "execution_count": 1261,
   "id": "04cacbae",
   "metadata": {},
   "outputs": [
    {
     "name": "stdout",
     "output_type": "stream",
     "text": [
      "Total number of rows: 49721\n",
      "Number of rows with any missing value: 17671 \n",
      "\n",
      "Total number of WerknemerIDs 6284\n",
      "Number of WerknemerIDs with any missing value 5726\n"
     ]
    }
   ],
   "source": [
    "print(\"Total number of rows:\", len(data))\n",
    "print(\"Number of rows with any missing value:\", data.isna().any(axis=1).sum(), \"\\n\")\n",
    "\n",
    "print(\"Total number of WerknemerIDs\", len(data.index.unique()))\n",
    "print(\"Number of WerknemerIDs with any missing value\", len(data.loc[data.isna().any(axis=1)].index.unique()))"
   ]
  },
  {
   "cell_type": "code",
   "execution_count": 1262,
   "id": "fc57e736",
   "metadata": {
    "scrolled": true
   },
   "outputs": [
    {
     "data": {
      "text/html": [
       "<div>\n",
       "<style scoped>\n",
       "    .dataframe tbody tr th:only-of-type {\n",
       "        vertical-align: middle;\n",
       "    }\n",
       "\n",
       "    .dataframe tbody tr th {\n",
       "        vertical-align: top;\n",
       "    }\n",
       "\n",
       "    .dataframe thead th {\n",
       "        text-align: right;\n",
       "    }\n",
       "</style>\n",
       "<table border=\"1\" class=\"dataframe\">\n",
       "  <thead>\n",
       "    <tr style=\"text-align: right;\">\n",
       "      <th></th>\n",
       "      <th>datum</th>\n",
       "      <th>geboortedatum</th>\n",
       "      <th>indiensttreding_datum</th>\n",
       "      <th>uitdiensttreding_datum</th>\n",
       "      <th>leeftijd</th>\n",
       "      <th>lengte_dienst</th>\n",
       "      <th>stad</th>\n",
       "      <th>afdeling</th>\n",
       "      <th>klant_id</th>\n",
       "      <th>geslacht_id</th>\n",
       "      <th>geslacht</th>\n",
       "      <th>uitdiensttreding_reden</th>\n",
       "      <th>uitdiensttreding_type</th>\n",
       "      <th>STATUS_JAAR</th>\n",
       "      <th>STATUS</th>\n",
       "      <th>BUSINESS_UNIT</th>\n",
       "    </tr>\n",
       "    <tr>\n",
       "      <th>WerknemerID</th>\n",
       "      <th></th>\n",
       "      <th></th>\n",
       "      <th></th>\n",
       "      <th></th>\n",
       "      <th></th>\n",
       "      <th></th>\n",
       "      <th></th>\n",
       "      <th></th>\n",
       "      <th></th>\n",
       "      <th></th>\n",
       "      <th></th>\n",
       "      <th></th>\n",
       "      <th></th>\n",
       "      <th></th>\n",
       "      <th></th>\n",
       "      <th></th>\n",
       "    </tr>\n",
       "  </thead>\n",
       "  <tbody>\n",
       "    <tr>\n",
       "      <th>2008</th>\n",
       "      <td>2020-12-30 05:06:00</td>\n",
       "      <td>1957-10-23 05:06:00</td>\n",
       "      <td>1996-08-31 05:06:00</td>\n",
       "      <td>1905-01-01 05:06:00</td>\n",
       "      <td>63.0</td>\n",
       "      <td>NaN</td>\n",
       "      <td>NaN</td>\n",
       "      <td>NaN</td>\n",
       "      <td>5</td>\n",
       "      <td>V</td>\n",
       "      <td>Vrouw</td>\n",
       "      <td>Niet van toepassing</td>\n",
       "      <td>Niet van toepassing</td>\n",
       "      <td>2020</td>\n",
       "      <td>Actief</td>\n",
       "      <td>Detachering</td>\n",
       "    </tr>\n",
       "    <tr>\n",
       "      <th>2008</th>\n",
       "      <td>2012-12-30 05:06:00</td>\n",
       "      <td>1957-10-23 05:06:00</td>\n",
       "      <td>1996-08-31 05:06:00</td>\n",
       "      <td>1905-01-01 05:06:00</td>\n",
       "      <td>55.0</td>\n",
       "      <td>16.0</td>\n",
       "      <td>Haarlem</td>\n",
       "      <td>Financial controller</td>\n",
       "      <td>5</td>\n",
       "      <td>V</td>\n",
       "      <td>Vrouw</td>\n",
       "      <td>Niet van toepassing</td>\n",
       "      <td>Niet van toepassing</td>\n",
       "      <td>2012</td>\n",
       "      <td>Actief</td>\n",
       "      <td>Detachering</td>\n",
       "    </tr>\n",
       "    <tr>\n",
       "      <th>2008</th>\n",
       "      <td>2011-12-31 05:06:00</td>\n",
       "      <td>1957-10-23 05:06:00</td>\n",
       "      <td>1996-08-31 05:06:00</td>\n",
       "      <td>1905-01-01 05:06:00</td>\n",
       "      <td>54.0</td>\n",
       "      <td>15.0</td>\n",
       "      <td>Haarlem</td>\n",
       "      <td>Financial controller</td>\n",
       "      <td>5</td>\n",
       "      <td>V</td>\n",
       "      <td>Vrouw</td>\n",
       "      <td>Niet van toepassing</td>\n",
       "      <td>Niet van toepassing</td>\n",
       "      <td>2011</td>\n",
       "      <td>Actief</td>\n",
       "      <td>Detachering</td>\n",
       "    </tr>\n",
       "    <tr>\n",
       "      <th>2008</th>\n",
       "      <td>2017-12-31 05:06:00</td>\n",
       "      <td>1957-10-23 05:06:00</td>\n",
       "      <td>1996-08-31 05:06:00</td>\n",
       "      <td>1905-01-01 05:06:00</td>\n",
       "      <td>60.0</td>\n",
       "      <td>21.0</td>\n",
       "      <td>Haarlem</td>\n",
       "      <td>Financial controller</td>\n",
       "      <td>5</td>\n",
       "      <td>V</td>\n",
       "      <td>Vrouw</td>\n",
       "      <td>Niet van toepassing</td>\n",
       "      <td>Niet van toepassing</td>\n",
       "      <td>2017</td>\n",
       "      <td>Actief</td>\n",
       "      <td>Detachering</td>\n",
       "    </tr>\n",
       "    <tr>\n",
       "      <th>2008</th>\n",
       "      <td>2015-12-31 05:06:00</td>\n",
       "      <td>1957-10-23 05:06:00</td>\n",
       "      <td>1996-08-31 05:06:00</td>\n",
       "      <td>1905-01-01 05:06:00</td>\n",
       "      <td>58.0</td>\n",
       "      <td>19.0</td>\n",
       "      <td>Haarlem</td>\n",
       "      <td>Financial controller</td>\n",
       "      <td>5</td>\n",
       "      <td>V</td>\n",
       "      <td>Vrouw</td>\n",
       "      <td>Niet van toepassing</td>\n",
       "      <td>Niet van toepassing</td>\n",
       "      <td>2015</td>\n",
       "      <td>Actief</td>\n",
       "      <td>Detachering</td>\n",
       "    </tr>\n",
       "    <tr>\n",
       "      <th>2008</th>\n",
       "      <td>2019-12-31 05:06:00</td>\n",
       "      <td>1957-10-23 05:06:00</td>\n",
       "      <td>1996-08-31 05:06:00</td>\n",
       "      <td>1905-01-01 05:06:00</td>\n",
       "      <td>NaN</td>\n",
       "      <td>23.0</td>\n",
       "      <td>Haarlem</td>\n",
       "      <td>Financial controller</td>\n",
       "      <td>5</td>\n",
       "      <td>V</td>\n",
       "      <td>Vrouw</td>\n",
       "      <td>Niet van toepassing</td>\n",
       "      <td>Niet van toepassing</td>\n",
       "      <td>2019</td>\n",
       "      <td>Actief</td>\n",
       "      <td>Detachering</td>\n",
       "    </tr>\n",
       "    <tr>\n",
       "      <th>2008</th>\n",
       "      <td>2018-12-31 05:06:00</td>\n",
       "      <td>1957-10-23 05:06:00</td>\n",
       "      <td>1996-08-31 05:06:00</td>\n",
       "      <td>1905-01-01 05:06:00</td>\n",
       "      <td>61.0</td>\n",
       "      <td>22.0</td>\n",
       "      <td>Haarlem</td>\n",
       "      <td>Financial controller</td>\n",
       "      <td>5</td>\n",
       "      <td>V</td>\n",
       "      <td>Vrouw</td>\n",
       "      <td>Niet van toepassing</td>\n",
       "      <td>Niet van toepassing</td>\n",
       "      <td>2018</td>\n",
       "      <td>Actief</td>\n",
       "      <td>Detachering</td>\n",
       "    </tr>\n",
       "    <tr>\n",
       "      <th>2008</th>\n",
       "      <td>2016-12-30 05:06:00</td>\n",
       "      <td>1957-10-23 05:06:00</td>\n",
       "      <td>1996-08-31 05:06:00</td>\n",
       "      <td>1905-01-01 05:06:00</td>\n",
       "      <td>59.0</td>\n",
       "      <td>20.0</td>\n",
       "      <td>Haarlem</td>\n",
       "      <td>NaN</td>\n",
       "      <td>5</td>\n",
       "      <td>V</td>\n",
       "      <td>Vrouw</td>\n",
       "      <td>Niet van toepassing</td>\n",
       "      <td>Niet van toepassing</td>\n",
       "      <td>2016</td>\n",
       "      <td>Actief</td>\n",
       "      <td>Detachering</td>\n",
       "    </tr>\n",
       "    <tr>\n",
       "      <th>2008</th>\n",
       "      <td>2014-12-31 05:06:00</td>\n",
       "      <td>1957-10-23 05:06:00</td>\n",
       "      <td>1996-08-31 05:06:00</td>\n",
       "      <td>1905-01-01 05:06:00</td>\n",
       "      <td>57.0</td>\n",
       "      <td>18.0</td>\n",
       "      <td>Haarlem</td>\n",
       "      <td>NaN</td>\n",
       "      <td>5</td>\n",
       "      <td>V</td>\n",
       "      <td>Vrouw</td>\n",
       "      <td>Niet van toepassing</td>\n",
       "      <td>Niet van toepassing</td>\n",
       "      <td>2014</td>\n",
       "      <td>Actief</td>\n",
       "      <td>Detachering</td>\n",
       "    </tr>\n",
       "    <tr>\n",
       "      <th>2008</th>\n",
       "      <td>2013-12-31 05:06:00</td>\n",
       "      <td>1957-10-23 05:06:00</td>\n",
       "      <td>1996-08-31 05:06:00</td>\n",
       "      <td>1905-01-01 05:06:00</td>\n",
       "      <td>56.0</td>\n",
       "      <td>17.0</td>\n",
       "      <td>Haarlem</td>\n",
       "      <td>Financial controller</td>\n",
       "      <td>5</td>\n",
       "      <td>V</td>\n",
       "      <td>Vrouw</td>\n",
       "      <td>Niet van toepassing</td>\n",
       "      <td>Niet van toepassing</td>\n",
       "      <td>2013</td>\n",
       "      <td>Actief</td>\n",
       "      <td>Detachering</td>\n",
       "    </tr>\n",
       "  </tbody>\n",
       "</table>\n",
       "</div>"
      ],
      "text/plain": [
       "                           datum        geboortedatum indiensttreding_datum  \\\n",
       "WerknemerID                                                                   \n",
       "2008         2020-12-30 05:06:00  1957-10-23 05:06:00   1996-08-31 05:06:00   \n",
       "2008         2012-12-30 05:06:00  1957-10-23 05:06:00   1996-08-31 05:06:00   \n",
       "2008         2011-12-31 05:06:00  1957-10-23 05:06:00   1996-08-31 05:06:00   \n",
       "2008         2017-12-31 05:06:00  1957-10-23 05:06:00   1996-08-31 05:06:00   \n",
       "2008         2015-12-31 05:06:00  1957-10-23 05:06:00   1996-08-31 05:06:00   \n",
       "2008         2019-12-31 05:06:00  1957-10-23 05:06:00   1996-08-31 05:06:00   \n",
       "2008         2018-12-31 05:06:00  1957-10-23 05:06:00   1996-08-31 05:06:00   \n",
       "2008         2016-12-30 05:06:00  1957-10-23 05:06:00   1996-08-31 05:06:00   \n",
       "2008         2014-12-31 05:06:00  1957-10-23 05:06:00   1996-08-31 05:06:00   \n",
       "2008         2013-12-31 05:06:00  1957-10-23 05:06:00   1996-08-31 05:06:00   \n",
       "\n",
       "            uitdiensttreding_datum  leeftijd  lengte_dienst     stad  \\\n",
       "WerknemerID                                                            \n",
       "2008           1905-01-01 05:06:00      63.0            NaN      NaN   \n",
       "2008           1905-01-01 05:06:00      55.0           16.0  Haarlem   \n",
       "2008           1905-01-01 05:06:00      54.0           15.0  Haarlem   \n",
       "2008           1905-01-01 05:06:00      60.0           21.0  Haarlem   \n",
       "2008           1905-01-01 05:06:00      58.0           19.0  Haarlem   \n",
       "2008           1905-01-01 05:06:00       NaN           23.0  Haarlem   \n",
       "2008           1905-01-01 05:06:00      61.0           22.0  Haarlem   \n",
       "2008           1905-01-01 05:06:00      59.0           20.0  Haarlem   \n",
       "2008           1905-01-01 05:06:00      57.0           18.0  Haarlem   \n",
       "2008           1905-01-01 05:06:00      56.0           17.0  Haarlem   \n",
       "\n",
       "                         afdeling  klant_id geslacht_id geslacht  \\\n",
       "WerknemerID                                                        \n",
       "2008                          NaN         5           V    Vrouw   \n",
       "2008         Financial controller         5           V    Vrouw   \n",
       "2008         Financial controller         5           V    Vrouw   \n",
       "2008         Financial controller         5           V    Vrouw   \n",
       "2008         Financial controller         5           V    Vrouw   \n",
       "2008         Financial controller         5           V    Vrouw   \n",
       "2008         Financial controller         5           V    Vrouw   \n",
       "2008                          NaN         5           V    Vrouw   \n",
       "2008                          NaN         5           V    Vrouw   \n",
       "2008         Financial controller         5           V    Vrouw   \n",
       "\n",
       "            uitdiensttreding_reden uitdiensttreding_type  STATUS_JAAR  STATUS  \\\n",
       "WerknemerID                                                                     \n",
       "2008           Niet van toepassing   Niet van toepassing         2020  Actief   \n",
       "2008           Niet van toepassing   Niet van toepassing         2012  Actief   \n",
       "2008           Niet van toepassing   Niet van toepassing         2011  Actief   \n",
       "2008           Niet van toepassing   Niet van toepassing         2017  Actief   \n",
       "2008           Niet van toepassing   Niet van toepassing         2015  Actief   \n",
       "2008           Niet van toepassing   Niet van toepassing         2019  Actief   \n",
       "2008           Niet van toepassing   Niet van toepassing         2018  Actief   \n",
       "2008           Niet van toepassing   Niet van toepassing         2016  Actief   \n",
       "2008           Niet van toepassing   Niet van toepassing         2014  Actief   \n",
       "2008           Niet van toepassing   Niet van toepassing         2013  Actief   \n",
       "\n",
       "            BUSINESS_UNIT  \n",
       "WerknemerID                \n",
       "2008          Detachering  \n",
       "2008          Detachering  \n",
       "2008          Detachering  \n",
       "2008          Detachering  \n",
       "2008          Detachering  \n",
       "2008          Detachering  \n",
       "2008          Detachering  \n",
       "2008          Detachering  \n",
       "2008          Detachering  \n",
       "2008          Detachering  "
      ]
     },
     "execution_count": 1262,
     "metadata": {},
     "output_type": "execute_result"
    }
   ],
   "source": [
    "# Examine all rows for one WerknemerID\n",
    "data.loc[2008]"
   ]
  },
  {
   "cell_type": "markdown",
   "id": "6f841bc3",
   "metadata": {},
   "source": [
    "We see that there are multiple rows for each WerknemerID, with some missing values. We found before that leeftijd, lengte_dienst, stad and afdeling are the only columns with missing values. We can calculate leeftijd and lengte_dienst by using the columns datum, geboortedatum, indiensttreding_datum and uitdiensttreding_datum. For the missing values in columns stad and afdeling, we will simply find their values in other rows with the same WerknemerID index. We will do so in the next section."
   ]
  },
  {
   "cell_type": "markdown",
   "id": "276783ab",
   "metadata": {},
   "source": [
    "## Filling in missing data"
   ]
  },
  {
   "cell_type": "code",
   "execution_count": 1263,
   "id": "d79e3b6c",
   "metadata": {},
   "outputs": [],
   "source": [
    "# Change date strings to type Timestamp\n",
    "cols = ['datum', 'geboortedatum', 'indiensttreding_datum', 'uitdiensttreding_datum']\n",
    "data[cols] = data[cols].apply(pd.to_datetime, errors='raise')\n",
    "# data.dtypes # Check"
   ]
  },
  {
   "cell_type": "markdown",
   "id": "8f9c618a",
   "metadata": {},
   "source": [
    "#### Column 'leeftijd'"
   ]
  },
  {
   "cell_type": "code",
   "execution_count": 1264,
   "id": "a6b12013",
   "metadata": {
    "scrolled": true
   },
   "outputs": [],
   "source": [
    "# Condition:\n",
    "is_na = data['leeftijd'].isna() # leeftijd has missing value\n",
    "\n",
    "# Calculate leeftijd and add to data set\n",
    "leeftijd_days = data.loc[is_na, 'datum'] - data.loc[is_na, 'geboortedatum']\n",
    "leeftijd_years = np.floor(leeftijd_days / pd.Timedelta(365.2422, 'days')) # number of full years (rounded down)\n",
    "\n",
    "data.loc[is_na, 'leeftijd'] = leeftijd_years"
   ]
  },
  {
   "cell_type": "markdown",
   "id": "6bde8e92",
   "metadata": {},
   "source": [
    "#### Column 'lengte_dienst'"
   ]
  },
  {
   "cell_type": "code",
   "execution_count": 1265,
   "id": "b60f0831",
   "metadata": {},
   "outputs": [],
   "source": [
    "# If STATUS is Actief -> lengte_dienst_v2 = indiensttreding_datum - datum\n",
    "# If STATUS is Beëindigd -> lengte_dienst_v2 = indiensttreding_datum - uitdiensttreding_datum\n",
    "\n",
    "# Conditions:\n",
    "is_na = data['lengte_dienst'].isna() # lengte_dienst has missing value\n",
    "active = data['STATUS'] == 'Actief' # Status is active\n",
    "nonactive = data['STATUS'] == 'Beëindigd' # Status is nonactive\n",
    "\n",
    "# Calculate lengte_dienst for active employees and add to data set\n",
    "ld_active_days = data.loc[is_na&active, 'datum'] - data.loc[is_na&active, 'indiensttreding_datum']\n",
    "ld_active_years = np.floor(ld_active_days / pd.Timedelta(365.2422, 'days')) # number of full years (rounded down)\n",
    "data.loc[is_na&active, 'lengte_dienst'] = ld_active_years\n",
    "\n",
    "# Calculate lengte_dienst for nonactive employees and add to data set\n",
    "ld_nonactive_days = data.loc[is_na&nonactive, 'uitdiensttreding_datum'] - data.loc[is_na&nonactive, 'indiensttreding_datum']\n",
    "ld_nonactive_years = np.floor(ld_nonactive_days / pd.Timedelta(365.2422, 'days')) # number of full years (rounded down)\n",
    "data.loc[is_na&nonactive, 'lengte_dienst'] = ld_nonactive_years"
   ]
  },
  {
   "cell_type": "markdown",
   "id": "f958a0b8",
   "metadata": {},
   "source": [
    "#### Column 'stad'"
   ]
  },
  {
   "cell_type": "code",
   "execution_count": 1266,
   "id": "663badc6",
   "metadata": {},
   "outputs": [
    {
     "name": "stdout",
     "output_type": "stream",
     "text": [
      "Number of WerknemerIDs with more than one city:  0\n"
     ]
    }
   ],
   "source": [
    "# Find WerknemerIDs that have more than one distinct value for a column\n",
    "def ids_mult_col_vals(column):\n",
    "    \n",
    "    # All unique cities (stad) per WerknemerID (not counting missing stad values)\n",
    "    vals_per_id = data.dropna(subset=[column]).groupby(['WerknemerID'])[column].unique()\n",
    "\n",
    "    # Check if there are employees that have lived in multiple cities.\n",
    "    ids_with_mult_vals = []\n",
    "    for werknemer_id, vals in zip(vals_per_id.index, vals_per_id):\n",
    "        if len(vals) > 1:\n",
    "            ids_with_mult_vals.append(werknemer_id)\n",
    "            \n",
    "    return vals_per_id, ids_with_mult_vals\n",
    "\n",
    "cities_per_id, ids_with_mult_cities = ids_mult_col_vals('stad')\n",
    "print(\"Number of WerknemerIDs with more than one city: \", len(ids_with_mult_cities))"
   ]
  },
  {
   "cell_type": "markdown",
   "id": "81b5cbdf",
   "metadata": {},
   "source": [
    "We can see that there are no employees that have lived in more than one city. Therefore, we can simply copy the city value from any of the rows for a particular WerknemerID."
   ]
  },
  {
   "cell_type": "code",
   "execution_count": 1267,
   "id": "8f6d3e6f",
   "metadata": {
    "scrolled": true
   },
   "outputs": [
    {
     "name": "stdout",
     "output_type": "stream",
     "text": [
      "Number of rows with missing value for 'stad': 645\n",
      "Number of WerknemerIDs with missing values for 'stad': 93\n"
     ]
    }
   ],
   "source": [
    "# Get first element of list of cities for each WerknemerID (as there is only one in each list)\n",
    "city_per_id = cities_per_id.map(lambda x: x[0])\n",
    "\n",
    "# Update missing values with city per WerknemerID\n",
    "data.update(city_per_id, overwrite = False)\n",
    "\n",
    "print(\"Number of rows with missing value for 'stad':\", data['stad'].isna().sum())\n",
    "print(\"Number of WerknemerIDs with missing values for 'stad':\", len(data.loc[data['stad'].isna()].index.unique()))"
   ]
  },
  {
   "cell_type": "markdown",
   "id": "b7cbecf4",
   "metadata": {},
   "source": [
    "The remaining 107 employees with missing values for the column 'stad' have no value for 'stad' in any row. This means that we cannot fill in these missing data."
   ]
  },
  {
   "cell_type": "markdown",
   "id": "e1ba16ac",
   "metadata": {},
   "source": [
    "#### Column 'afdeling'"
   ]
  },
  {
   "cell_type": "code",
   "execution_count": 1268,
   "id": "8b45151f",
   "metadata": {},
   "outputs": [
    {
     "name": "stdout",
     "output_type": "stream",
     "text": [
      "Number of WerknemerIDs with more than one department:  0\n"
     ]
    }
   ],
   "source": [
    "departments_per_id, ids_with_mult_departments = ids_mult_col_vals('afdeling')\n",
    "print(\"Number of WerknemerIDs with more than one department: \", len(ids_with_mult_departments))"
   ]
  },
  {
   "cell_type": "markdown",
   "id": "0b213276",
   "metadata": {},
   "source": [
    "Again, we can see that there are no employees that have worked for more than one department. Therefore, we can simply copy the department value from any of the rows for a particular WerknemerID."
   ]
  },
  {
   "cell_type": "code",
   "execution_count": 1269,
   "id": "89e41f94",
   "metadata": {},
   "outputs": [
    {
     "name": "stdout",
     "output_type": "stream",
     "text": [
      "Number of rows with missing value for 'afdeling': 116\n",
      "Number of WerknemerIDs with missing values for 'afdeling': 29\n"
     ]
    }
   ],
   "source": [
    "# Get first element of list of cities for each WerknemerID (as there is only one in each list)\n",
    "department_per_id = departments_per_id.map(lambda x: x[0])\n",
    "\n",
    "# Update missing values with city per WerknemerID\n",
    "data.update(department_per_id, overwrite = False)\n",
    "\n",
    "print(\"Number of rows with missing value for 'afdeling':\", data['afdeling'].isna().sum())\n",
    "print(\"Number of WerknemerIDs with missing values for 'afdeling':\", len(data.loc[data['afdeling'].isna()].index.unique()))"
   ]
  },
  {
   "cell_type": "markdown",
   "id": "6eed4a72",
   "metadata": {},
   "source": [
    "The remaining 29 employees with missing values for the column 'stad' have no value for 'stad' in any row. This means that we cannot fill in these missing data."
   ]
  },
  {
   "cell_type": "markdown",
   "id": "d1721332",
   "metadata": {},
   "source": [
    "## Removing (more) duplicates\n",
    "It could be that by filling in missing values, we have created more duplicates. Therefore, we have to check whether this happened and in case it did, drop the duplicates. To do this, we must first reset the index, because otherwise we might find duplicates that in fact have a different WerknemerID."
   ]
  },
  {
   "cell_type": "code",
   "execution_count": 1270,
   "id": "0b2578eb",
   "metadata": {},
   "outputs": [],
   "source": [
    "data.reset_index(inplace = True)\n",
    "data.drop_duplicates(inplace = True)\n",
    "data.set_index('WerknemerID', inplace = True)"
   ]
  },
  {
   "cell_type": "markdown",
   "id": "89551670",
   "metadata": {},
   "source": [
    "## Remaining missing values"
   ]
  },
  {
   "cell_type": "code",
   "execution_count": 1271,
   "id": "471ec687",
   "metadata": {},
   "outputs": [
    {
     "name": "stdout",
     "output_type": "stream",
     "text": [
      "Number of rows with any missing value: 755\n",
      "Number of WerknemerIDs with any missing value 116\n"
     ]
    }
   ],
   "source": [
    "print(\"Number of rows with any missing value:\", data.isna().any(axis=1).sum())\n",
    "print(\"Number of WerknemerIDs with any missing value\", len(data.loc[data.isna().any(axis=1)].index.unique()))"
   ]
  },
  {
   "cell_type": "code",
   "execution_count": 1272,
   "id": "bf077404",
   "metadata": {},
   "outputs": [],
   "source": [
    "# Remove missing values for now\n",
    "data.dropna(inplace = True)"
   ]
  },
  {
   "cell_type": "markdown",
   "id": "4b0c330e",
   "metadata": {},
   "source": [
    "## Only keep the latest status updates \n",
    "We don't need to do this if we're only going to keep nonactive employees in the data set."
   ]
  },
  {
   "cell_type": "code",
   "execution_count": 1273,
   "id": "8f739d52",
   "metadata": {},
   "outputs": [],
   "source": [
    "# Find the latest status date for each WerknemerID\n",
    "# latest_date_per_id = data.groupby(['WerknemerID'])['datum'].max()\n",
    "\n",
    "# Find intersection of original data set and lates date per WerknemerID\n",
    "# data = data.merge(latest_date_per_id, how = 'inner', on = ['WerknemerID', 'datum'])"
   ]
  },
  {
   "cell_type": "markdown",
   "id": "bdc63779",
   "metadata": {},
   "source": [
    "## Only keep nonactive employees\n",
    "We want to keep only the nonactive employees, because we cannot learn anything about the outflow of employees from employees that are still active."
   ]
  },
  {
   "cell_type": "code",
   "execution_count": 1274,
   "id": "23131b4b",
   "metadata": {},
   "outputs": [],
   "source": [
    "data = data.loc[data['STATUS'] == 'Beëindigd']"
   ]
  },
  {
   "cell_type": "code",
   "execution_count": 1275,
   "id": "3757fa8b",
   "metadata": {},
   "outputs": [
    {
     "name": "stdout",
     "output_type": "stream",
     "text": [
      "Total number of rows: 1432\n",
      "Number of rows with any missing value: 0 \n",
      "\n",
      "Total number of WerknemerIDs 1432\n",
      "Number of WerknemerIDs with any missing value 0\n"
     ]
    }
   ],
   "source": [
    "print(\"Total number of rows:\", len(data))\n",
    "print(\"Number of rows with any missing value:\", data.isna().any(axis=1).sum(), \"\\n\")\n",
    "\n",
    "print(\"Total number of WerknemerIDs\", len(data.index.unique()))\n",
    "print(\"Number of WerknemerIDs with any missing value\", len(data.loc[data.isna().any(axis=1)].index.unique()))"
   ]
  },
  {
   "cell_type": "markdown",
   "id": "2370bde9",
   "metadata": {},
   "source": [
    "## Add indiensttreding_leeftijd\n",
    "If we want to predict the duration of service of an employee, it is more logical to use the age at which they start working as input for our model, rather than the age at which they stop working, as we do not know this in advance."
   ]
  },
  {
   "cell_type": "code",
   "execution_count": 1276,
   "id": "1a00bfde",
   "metadata": {},
   "outputs": [],
   "source": [
    "# Rename column 'leeftijd' to 'uitdiensttreding_leeftijd'\n",
    "data.rename(columns = {'leeftijd':'uitdiensttreding_leeftijd'}, inplace = True)\n",
    "\n",
    "# Calculate indiensttreding_leeftijd and add to data set\n",
    "leeftijd_days = data['indiensttreding_datum'] - data['geboortedatum']\n",
    "leeftijd_years = np.floor(leeftijd_days / pd.Timedelta(365.2422, 'days')) # number of full years (rounded down)\n",
    "\n",
    "data['indiensttreding_leeftijd'] = leeftijd_years"
   ]
  },
  {
   "cell_type": "markdown",
   "id": "43f6ecde",
   "metadata": {},
   "source": [
    "## Examine variables"
   ]
  },
  {
   "cell_type": "code",
   "execution_count": 1277,
   "id": "791e8c69",
   "metadata": {},
   "outputs": [
    {
     "data": {
      "text/html": [
       "<div>\n",
       "<style scoped>\n",
       "    .dataframe tbody tr th:only-of-type {\n",
       "        vertical-align: middle;\n",
       "    }\n",
       "\n",
       "    .dataframe tbody tr th {\n",
       "        vertical-align: top;\n",
       "    }\n",
       "\n",
       "    .dataframe thead th {\n",
       "        text-align: right;\n",
       "    }\n",
       "</style>\n",
       "<table border=\"1\" class=\"dataframe\">\n",
       "  <thead>\n",
       "    <tr style=\"text-align: right;\">\n",
       "      <th></th>\n",
       "      <th>indiensttreding_leeftijd</th>\n",
       "      <th>uitdiensttreding_leeftijd</th>\n",
       "      <th>lengte_dienst</th>\n",
       "    </tr>\n",
       "  </thead>\n",
       "  <tbody>\n",
       "    <tr>\n",
       "      <th>count</th>\n",
       "      <td>1432.000000</td>\n",
       "      <td>1432.000000</td>\n",
       "      <td>1432.000000</td>\n",
       "    </tr>\n",
       "    <tr>\n",
       "      <th>mean</th>\n",
       "      <td>39.304469</td>\n",
       "      <td>51.452514</td>\n",
       "      <td>11.393855</td>\n",
       "    </tr>\n",
       "    <tr>\n",
       "      <th>std</th>\n",
       "      <td>12.061085</td>\n",
       "      <td>16.424419</td>\n",
       "      <td>6.685815</td>\n",
       "    </tr>\n",
       "    <tr>\n",
       "      <th>min</th>\n",
       "      <td>18.000000</td>\n",
       "      <td>19.000000</td>\n",
       "      <td>0.000000</td>\n",
       "    </tr>\n",
       "    <tr>\n",
       "      <th>25%</th>\n",
       "      <td>26.000000</td>\n",
       "      <td>34.000000</td>\n",
       "      <td>7.000000</td>\n",
       "    </tr>\n",
       "    <tr>\n",
       "      <th>50%</th>\n",
       "      <td>40.000000</td>\n",
       "      <td>60.000000</td>\n",
       "      <td>13.000000</td>\n",
       "    </tr>\n",
       "    <tr>\n",
       "      <th>75%</th>\n",
       "      <td>51.000000</td>\n",
       "      <td>65.000000</td>\n",
       "      <td>13.000000</td>\n",
       "    </tr>\n",
       "    <tr>\n",
       "      <th>max</th>\n",
       "      <td>51.000000</td>\n",
       "      <td>65.000000</td>\n",
       "      <td>25.000000</td>\n",
       "    </tr>\n",
       "  </tbody>\n",
       "</table>\n",
       "</div>"
      ],
      "text/plain": [
       "       indiensttreding_leeftijd  uitdiensttreding_leeftijd  lengte_dienst\n",
       "count               1432.000000                1432.000000    1432.000000\n",
       "mean                  39.304469                  51.452514      11.393855\n",
       "std                   12.061085                  16.424419       6.685815\n",
       "min                   18.000000                  19.000000       0.000000\n",
       "25%                   26.000000                  34.000000       7.000000\n",
       "50%                   40.000000                  60.000000      13.000000\n",
       "75%                   51.000000                  65.000000      13.000000\n",
       "max                   51.000000                  65.000000      25.000000"
      ]
     },
     "execution_count": 1277,
     "metadata": {},
     "output_type": "execute_result"
    }
   ],
   "source": [
    "data[['indiensttreding_leeftijd', 'uitdiensttreding_leeftijd', 'lengte_dienst']].describe()"
   ]
  },
  {
   "cell_type": "code",
   "execution_count": 1278,
   "id": "b34594d8",
   "metadata": {
    "scrolled": true
   },
   "outputs": [
    {
     "data": {
      "text/plain": [
       "Amsterdam              297\n",
       "Rotterdam              177\n",
       "Den Haag               103\n",
       "Utrecht                 66\n",
       "Rijswijk                59\n",
       "Zoetermeer              59\n",
       "Dordrecht               54\n",
       "Woerden                 46\n",
       "Eindhoven               44\n",
       "Middelburg              42\n",
       "Almere                  41\n",
       "Haarlem                 34\n",
       "Zaandam                 33\n",
       "Barendrecht             32\n",
       "Breda                   32\n",
       "Schiedam                31\n",
       "Alblasserdam            28\n",
       "Tilburg                 28\n",
       "Capelle                 26\n",
       "Alphen aan den Rijn     26\n",
       "Leiden                  26\n",
       "Veenendaal              24\n",
       "Delft                   22\n",
       "Amstelveen              22\n",
       "Zeist                   19\n",
       "Lelystad                17\n",
       "Hoogeveen               15\n",
       "Roermond                11\n",
       "Gouda                   11\n",
       "Pijnacker                7\n",
       "Name: stad, dtype: int64"
      ]
     },
     "execution_count": 1278,
     "metadata": {},
     "output_type": "execute_result"
    }
   ],
   "source": [
    "data['stad'].value_counts(dropna = False)"
   ]
  },
  {
   "cell_type": "code",
   "execution_count": 1279,
   "id": "e4a3a430",
   "metadata": {
    "scrolled": false
   },
   "outputs": [
    {
     "data": {
      "text/plain": [
       "Financial controller         374\n",
       "Boekhouder                   343\n",
       "BI                           249\n",
       "Accountant                   194\n",
       "Business analist             110\n",
       "Credit controller             93\n",
       "Project controller            31\n",
       "Administratief medewerker      9\n",
       "HR                             6\n",
       "Marketing                      6\n",
       "Business development           5\n",
       "IT                             5\n",
       "Office manager                 4\n",
       "Legal                          3\n",
       "Name: afdeling, dtype: int64"
      ]
     },
     "execution_count": 1279,
     "metadata": {},
     "output_type": "execute_result"
    }
   ],
   "source": [
    "data['afdeling'].value_counts(dropna = False)"
   ]
  },
  {
   "cell_type": "code",
   "execution_count": 1280,
   "id": "bc4c929d",
   "metadata": {
    "scrolled": true
   },
   "outputs": [
    {
     "data": {
      "text/plain": [
       "V    889\n",
       "M    543\n",
       "Name: geslacht_id, dtype: int64"
      ]
     },
     "execution_count": 1280,
     "metadata": {},
     "output_type": "execute_result"
    }
   ],
   "source": [
    "data['geslacht_id'].value_counts(dropna = False)"
   ]
  },
  {
   "cell_type": "code",
   "execution_count": 1281,
   "id": "29eb2329",
   "metadata": {},
   "outputs": [
    {
     "data": {
      "text/plain": [
       "Vrouw    889\n",
       "Man      543\n",
       "Name: geslacht, dtype: int64"
      ]
     },
     "execution_count": 1281,
     "metadata": {},
     "output_type": "execute_result"
    }
   ],
   "source": [
    "data['geslacht'].value_counts(dropna = False)"
   ]
  },
  {
   "cell_type": "code",
   "execution_count": 1282,
   "id": "b23e0d9e",
   "metadata": {},
   "outputs": [
    {
     "data": {
      "text/plain": [
       "Pensioen    851\n",
       "Vertrek     367\n",
       "Ontslag     214\n",
       "Name: uitdiensttreding_reden, dtype: int64"
      ]
     },
     "execution_count": 1282,
     "metadata": {},
     "output_type": "execute_result"
    }
   ],
   "source": [
    "data['uitdiensttreding_reden'].value_counts(dropna = False)"
   ]
  },
  {
   "cell_type": "code",
   "execution_count": 1283,
   "id": "28464426",
   "metadata": {
    "scrolled": true
   },
   "outputs": [
    {
     "data": {
      "text/plain": [
       "Vrijwillig         1218\n",
       "Niet vrijwillig     214\n",
       "Name: uitdiensttreding_type, dtype: int64"
      ]
     },
     "execution_count": 1283,
     "metadata": {},
     "output_type": "execute_result"
    }
   ],
   "source": [
    "data['uitdiensttreding_type'].value_counts(dropna = False)"
   ]
  },
  {
   "cell_type": "code",
   "execution_count": 1284,
   "id": "5ebda154",
   "metadata": {},
   "outputs": [
    {
     "data": {
      "text/plain": [
       "Beëindigd    1432\n",
       "Name: STATUS, dtype: int64"
      ]
     },
     "execution_count": 1284,
     "metadata": {},
     "output_type": "execute_result"
    }
   ],
   "source": [
    "data['STATUS'].value_counts(dropna = False)"
   ]
  },
  {
   "cell_type": "code",
   "execution_count": 1285,
   "id": "1a37f674",
   "metadata": {
    "scrolled": true
   },
   "outputs": [
    {
     "data": {
      "text/plain": [
       "Detachering    1375\n",
       "Intern           57\n",
       "Name: BUSINESS_UNIT, dtype: int64"
      ]
     },
     "execution_count": 1285,
     "metadata": {},
     "output_type": "execute_result"
    }
   ],
   "source": [
    "data['BUSINESS_UNIT'].value_counts(dropna = False)"
   ]
  },
  {
   "cell_type": "markdown",
   "id": "68a5400c",
   "metadata": {},
   "source": [
    "# Modelling"
   ]
  },
  {
   "cell_type": "code",
   "execution_count": 1286,
   "id": "bb0d6887",
   "metadata": {},
   "outputs": [],
   "source": [
    "from sklearn.linear_model import LinearRegression\n",
    "from sklearn.linear_model import LogisticRegression\n",
    "from sklearn.model_selection import train_test_split\n",
    "from sklearn.model_selection import cross_val_score\n",
    "import seaborn as sns\n",
    "import matplotlib.pyplot as plt"
   ]
  },
  {
   "cell_type": "code",
   "execution_count": 1287,
   "id": "17023e67",
   "metadata": {
    "scrolled": true
   },
   "outputs": [],
   "source": [
    "# Random state value\n",
    "RS = 21\n",
    "\n",
    "# Shuffle data and reset index\n",
    "data = data.sample(frac=1, ignore_index = True, random_state = RS)"
   ]
  },
  {
   "cell_type": "markdown",
   "id": "e9e25fd2",
   "metadata": {},
   "source": [
    "## Predicting lengte_dienst"
   ]
  },
  {
   "cell_type": "code",
   "execution_count": 1289,
   "id": "3415d380",
   "metadata": {
    "scrolled": false
   },
   "outputs": [
    {
     "name": "stdout",
     "output_type": "stream",
     "text": [
      "R 0.49201129886609607\n"
     ]
    },
    {
     "data": {
      "image/png": "[encoded data removed]",
      "text/plain": [
       "<Figure size 432x288 with 1 Axes>"
      ]
     },
     "metadata": {
      "needs_background": "light"
     },
     "output_type": "display_data"
    }
   ],
   "source": [
    "# Create subset X of possibly predictive features (filter out metadata)\n",
    "X = data[['indiensttreding_leeftijd', 'geslacht', 'afdeling', 'BUSINESS_UNIT', 'stad']]\n",
    "\n",
    "# Create dummies for categorical variables\n",
    "X = pd.get_dummies(X, columns=['geslacht', 'BUSINESS_UNIT'], drop_first = True)\n",
    "X = pd.get_dummies(X, columns=['afdeling', 'stad'], drop_first = False)\n",
    "\n",
    "y = data['lengte_dienst']\n",
    "\n",
    "X_train, X_test, y_train, y_test = train_test_split(X, y, test_size=0.2, random_state=RS)\n",
    "\n",
    "reg = LinearRegression()\n",
    "reg.fit(X_train, y_train)\n",
    "print(\"R\", reg.score(X_test, y_test))\n",
    "\n",
    "predictions = reg.predict(X_test)\n",
    "\n",
    "ax = sns.regplot(x = y_test, y = predictions)\n",
    "ax.set(ylabel = \"lengte_dienst Predictions\")\n",
    "plt.show()"
   ]
  },
  {
   "cell_type": "code",
   "execution_count": 1290,
   "id": "798d2fff",
   "metadata": {
    "scrolled": true
   },
   "outputs": [
    {
     "data": {
      "text/html": [
       "<div>\n",
       "<style scoped>\n",
       "    .dataframe tbody tr th:only-of-type {\n",
       "        vertical-align: middle;\n",
       "    }\n",
       "\n",
       "    .dataframe tbody tr th {\n",
       "        vertical-align: top;\n",
       "    }\n",
       "\n",
       "    .dataframe thead th {\n",
       "        text-align: right;\n",
       "    }\n",
       "</style>\n",
       "<table border=\"1\" class=\"dataframe\">\n",
       "  <thead>\n",
       "    <tr style=\"text-align: right;\">\n",
       "      <th></th>\n",
       "      <th>Value</th>\n",
       "    </tr>\n",
       "  </thead>\n",
       "  <tbody>\n",
       "    <tr>\n",
       "      <th>intercept</th>\n",
       "      <td>3.282810</td>\n",
       "    </tr>\n",
       "    <tr>\n",
       "      <th>indiensttreding_leeftijd</th>\n",
       "      <td>0.198143</td>\n",
       "    </tr>\n",
       "    <tr>\n",
       "      <th>geslacht_Vrouw</th>\n",
       "      <td>1.765361</td>\n",
       "    </tr>\n",
       "    <tr>\n",
       "      <th>BUSINESS_UNIT_Intern</th>\n",
       "      <td>10.761187</td>\n",
       "    </tr>\n",
       "    <tr>\n",
       "      <th>afdeling_Accountant</th>\n",
       "      <td>-0.322080</td>\n",
       "    </tr>\n",
       "    <tr>\n",
       "      <th>afdeling_Administratief medewerker</th>\n",
       "      <td>-0.382665</td>\n",
       "    </tr>\n",
       "    <tr>\n",
       "      <th>afdeling_BI</th>\n",
       "      <td>-4.888254</td>\n",
       "    </tr>\n",
       "    <tr>\n",
       "      <th>afdeling_Boekhouder</th>\n",
       "      <td>-2.276455</td>\n",
       "    </tr>\n",
       "    <tr>\n",
       "      <th>afdeling_Business analist</th>\n",
       "      <td>0.015021</td>\n",
       "    </tr>\n",
       "    <tr>\n",
       "      <th>afdeling_Business development</th>\n",
       "      <td>-0.536995</td>\n",
       "    </tr>\n",
       "    <tr>\n",
       "      <th>afdeling_Credit controller</th>\n",
       "      <td>-1.542401</td>\n",
       "    </tr>\n",
       "    <tr>\n",
       "      <th>afdeling_Financial controller</th>\n",
       "      <td>0.363524</td>\n",
       "    </tr>\n",
       "    <tr>\n",
       "      <th>afdeling_HR</th>\n",
       "      <td>2.146372</td>\n",
       "    </tr>\n",
       "    <tr>\n",
       "      <th>afdeling_IT</th>\n",
       "      <td>-2.154315</td>\n",
       "    </tr>\n",
       "    <tr>\n",
       "      <th>afdeling_Legal</th>\n",
       "      <td>-0.536995</td>\n",
       "    </tr>\n",
       "    <tr>\n",
       "      <th>afdeling_Marketing</th>\n",
       "      <td>-0.213531</td>\n",
       "    </tr>\n",
       "    <tr>\n",
       "      <th>afdeling_Office manager</th>\n",
       "      <td>0.122041</td>\n",
       "    </tr>\n",
       "    <tr>\n",
       "      <th>afdeling_Project controller</th>\n",
       "      <td>10.206735</td>\n",
       "    </tr>\n",
       "    <tr>\n",
       "      <th>stad_Alblasserdam</th>\n",
       "      <td>5.830963</td>\n",
       "    </tr>\n",
       "    <tr>\n",
       "      <th>stad_Almere</th>\n",
       "      <td>0.526051</td>\n",
       "    </tr>\n",
       "    <tr>\n",
       "      <th>stad_Alphen aan den Rijn</th>\n",
       "      <td>-2.517917</td>\n",
       "    </tr>\n",
       "    <tr>\n",
       "      <th>stad_Amstelveen</th>\n",
       "      <td>0.763674</td>\n",
       "    </tr>\n",
       "    <tr>\n",
       "      <th>stad_Amsterdam</th>\n",
       "      <td>-0.815412</td>\n",
       "    </tr>\n",
       "    <tr>\n",
       "      <th>stad_Barendrecht</th>\n",
       "      <td>1.828108</td>\n",
       "    </tr>\n",
       "    <tr>\n",
       "      <th>stad_Breda</th>\n",
       "      <td>-1.744477</td>\n",
       "    </tr>\n",
       "    <tr>\n",
       "      <th>stad_Capelle</th>\n",
       "      <td>-1.162586</td>\n",
       "    </tr>\n",
       "    <tr>\n",
       "      <th>stad_Delft</th>\n",
       "      <td>2.211866</td>\n",
       "    </tr>\n",
       "    <tr>\n",
       "      <th>stad_Den Haag</th>\n",
       "      <td>0.782921</td>\n",
       "    </tr>\n",
       "    <tr>\n",
       "      <th>stad_Dordrecht</th>\n",
       "      <td>-0.765201</td>\n",
       "    </tr>\n",
       "    <tr>\n",
       "      <th>stad_Eindhoven</th>\n",
       "      <td>-0.472490</td>\n",
       "    </tr>\n",
       "    <tr>\n",
       "      <th>stad_Gouda</th>\n",
       "      <td>0.774324</td>\n",
       "    </tr>\n",
       "    <tr>\n",
       "      <th>stad_Haarlem</th>\n",
       "      <td>-1.757842</td>\n",
       "    </tr>\n",
       "    <tr>\n",
       "      <th>stad_Hoogeveen</th>\n",
       "      <td>-1.886770</td>\n",
       "    </tr>\n",
       "    <tr>\n",
       "      <th>stad_Leiden</th>\n",
       "      <td>0.607586</td>\n",
       "    </tr>\n",
       "    <tr>\n",
       "      <th>stad_Lelystad</th>\n",
       "      <td>-2.866015</td>\n",
       "    </tr>\n",
       "    <tr>\n",
       "      <th>stad_Middelburg</th>\n",
       "      <td>-0.698745</td>\n",
       "    </tr>\n",
       "    <tr>\n",
       "      <th>stad_Pijnacker</th>\n",
       "      <td>-2.468866</td>\n",
       "    </tr>\n",
       "    <tr>\n",
       "      <th>stad_Rijswijk</th>\n",
       "      <td>0.139710</td>\n",
       "    </tr>\n",
       "    <tr>\n",
       "      <th>stad_Roermond</th>\n",
       "      <td>0.553448</td>\n",
       "    </tr>\n",
       "    <tr>\n",
       "      <th>stad_Rotterdam</th>\n",
       "      <td>1.727049</td>\n",
       "    </tr>\n",
       "    <tr>\n",
       "      <th>stad_Schiedam</th>\n",
       "      <td>-0.225424</td>\n",
       "    </tr>\n",
       "    <tr>\n",
       "      <th>stad_Tilburg</th>\n",
       "      <td>-1.947042</td>\n",
       "    </tr>\n",
       "    <tr>\n",
       "      <th>stad_Utrecht</th>\n",
       "      <td>-0.477867</td>\n",
       "    </tr>\n",
       "    <tr>\n",
       "      <th>stad_Veenendaal</th>\n",
       "      <td>2.928153</td>\n",
       "    </tr>\n",
       "    <tr>\n",
       "      <th>stad_Woerden</th>\n",
       "      <td>1.999637</td>\n",
       "    </tr>\n",
       "    <tr>\n",
       "      <th>stad_Zaandam</th>\n",
       "      <td>1.372695</td>\n",
       "    </tr>\n",
       "    <tr>\n",
       "      <th>stad_Zeist</th>\n",
       "      <td>-2.113226</td>\n",
       "    </tr>\n",
       "    <tr>\n",
       "      <th>stad_Zoetermeer</th>\n",
       "      <td>-0.126307</td>\n",
       "    </tr>\n",
       "  </tbody>\n",
       "</table>\n",
       "</div>"
      ],
      "text/plain": [
       "                                        Value\n",
       "intercept                            3.282810\n",
       "indiensttreding_leeftijd             0.198143\n",
       "geslacht_Vrouw                       1.765361\n",
       "BUSINESS_UNIT_Intern                10.761187\n",
       "afdeling_Accountant                 -0.322080\n",
       "afdeling_Administratief medewerker  -0.382665\n",
       "afdeling_BI                         -4.888254\n",
       "afdeling_Boekhouder                 -2.276455\n",
       "afdeling_Business analist            0.015021\n",
       "afdeling_Business development       -0.536995\n",
       "afdeling_Credit controller          -1.542401\n",
       "afdeling_Financial controller        0.363524\n",
       "afdeling_HR                          2.146372\n",
       "afdeling_IT                         -2.154315\n",
       "afdeling_Legal                      -0.536995\n",
       "afdeling_Marketing                  -0.213531\n",
       "afdeling_Office manager              0.122041\n",
       "afdeling_Project controller         10.206735\n",
       "stad_Alblasserdam                    5.830963\n",
       "stad_Almere                          0.526051\n",
       "stad_Alphen aan den Rijn            -2.517917\n",
       "stad_Amstelveen                      0.763674\n",
       "stad_Amsterdam                      -0.815412\n",
       "stad_Barendrecht                     1.828108\n",
       "stad_Breda                          -1.744477\n",
       "stad_Capelle                        -1.162586\n",
       "stad_Delft                           2.211866\n",
       "stad_Den Haag                        0.782921\n",
       "stad_Dordrecht                      -0.765201\n",
       "stad_Eindhoven                      -0.472490\n",
       "stad_Gouda                           0.774324\n",
       "stad_Haarlem                        -1.757842\n",
       "stad_Hoogeveen                      -1.886770\n",
       "stad_Leiden                          0.607586\n",
       "stad_Lelystad                       -2.866015\n",
       "stad_Middelburg                     -0.698745\n",
       "stad_Pijnacker                      -2.468866\n",
       "stad_Rijswijk                        0.139710\n",
       "stad_Roermond                        0.553448\n",
       "stad_Rotterdam                       1.727049\n",
       "stad_Schiedam                       -0.225424\n",
       "stad_Tilburg                        -1.947042\n",
       "stad_Utrecht                        -0.477867\n",
       "stad_Veenendaal                      2.928153\n",
       "stad_Woerden                         1.999637\n",
       "stad_Zaandam                         1.372695\n",
       "stad_Zeist                          -2.113226\n",
       "stad_Zoetermeer                     -0.126307"
      ]
     },
     "execution_count": 1290,
     "metadata": {},
     "output_type": "execute_result"
    }
   ],
   "source": [
    "pd.DataFrame(np.append(reg.intercept_, reg.coef_), pd.Index(['intercept']).append(X.columns), columns=['Value'])"
   ]
  },
  {
   "cell_type": "code",
   "execution_count": 1291,
   "id": "26059a72",
   "metadata": {
    "scrolled": false
   },
   "outputs": [
    {
     "name": "stdout",
     "output_type": "stream",
     "text": [
      "R2 score for each cross-validation fold: [0.4542327  0.49304095 0.41480366 0.48533587 0.49955422]\n",
      "Mean R2 score: 0.46939347845156715\n"
     ]
    }
   ],
   "source": [
    "scores = cross_val_score(reg, X, y, cv = 5)\n",
    "print(\"R2 score for each cross-validation fold:\", scores)\n",
    "print(\"Mean R2 score:\", scores.mean())"
   ]
  },
  {
   "cell_type": "markdown",
   "id": "b0cd09a3",
   "metadata": {},
   "source": [
    "## Predicting uitdiensttreding_type"
   ]
  },
  {
   "cell_type": "code",
   "execution_count": 1292,
   "id": "37e7c500",
   "metadata": {
    "scrolled": false
   },
   "outputs": [
    {
     "data": {
      "image/png": "[encoded data removed]",
      "text/plain": [
       "<Figure size 432x288 with 1 Axes>"
      ]
     },
     "metadata": {
      "needs_background": "light"
     },
     "output_type": "display_data"
    }
   ],
   "source": [
    "y = data['uitdiensttreding_type']\n",
    "\n",
    "X_train, X_test, y_train, y_test = train_test_split(X, y, test_size=0.2, random_state=RS)\n",
    "\n",
    "# Use penalty l1 to make it possible for coefficients of non-predictive features to have a value of 0\n",
    "clf = LogisticRegression(penalty = 'l1', C = 1, solver = 'liblinear', random_state = RS)\n",
    "clf.fit(X_train, y_train)\n",
    "\n",
    "predictions = clf.predict_proba(X_test)[:,1]\n",
    "\n",
    "ax = sns.boxplot(x = y_test, y = predictions)\n",
    "ax.set(ylabel = \"uitdiensttreding_type Predictions\")\n",
    "plt.show()"
   ]
  },
  {
   "cell_type": "code",
   "execution_count": 1293,
   "id": "5d6de472",
   "metadata": {
    "scrolled": true
   },
   "outputs": [
    {
     "data": {
      "text/html": [
       "<div>\n",
       "<style scoped>\n",
       "    .dataframe tbody tr th:only-of-type {\n",
       "        vertical-align: middle;\n",
       "    }\n",
       "\n",
       "    .dataframe tbody tr th {\n",
       "        vertical-align: top;\n",
       "    }\n",
       "\n",
       "    .dataframe thead th {\n",
       "        text-align: right;\n",
       "    }\n",
       "</style>\n",
       "<table border=\"1\" class=\"dataframe\">\n",
       "  <thead>\n",
       "    <tr style=\"text-align: right;\">\n",
       "      <th></th>\n",
       "      <th>Value</th>\n",
       "    </tr>\n",
       "  </thead>\n",
       "  <tbody>\n",
       "    <tr>\n",
       "      <th>intercept</th>\n",
       "      <td>0.462452</td>\n",
       "    </tr>\n",
       "    <tr>\n",
       "      <th>indiensttreding_leeftijd</th>\n",
       "      <td>0.112958</td>\n",
       "    </tr>\n",
       "    <tr>\n",
       "      <th>geslacht_Vrouw</th>\n",
       "      <td>0.033484</td>\n",
       "    </tr>\n",
       "    <tr>\n",
       "      <th>BUSINESS_UNIT_Intern</th>\n",
       "      <td>0.844029</td>\n",
       "    </tr>\n",
       "    <tr>\n",
       "      <th>afdeling_Accountant</th>\n",
       "      <td>-0.781282</td>\n",
       "    </tr>\n",
       "    <tr>\n",
       "      <th>afdeling_Administratief medewerker</th>\n",
       "      <td>0.000000</td>\n",
       "    </tr>\n",
       "    <tr>\n",
       "      <th>afdeling_BI</th>\n",
       "      <td>0.238035</td>\n",
       "    </tr>\n",
       "    <tr>\n",
       "      <th>afdeling_Boekhouder</th>\n",
       "      <td>0.203618</td>\n",
       "    </tr>\n",
       "    <tr>\n",
       "      <th>afdeling_Business analist</th>\n",
       "      <td>0.000000</td>\n",
       "    </tr>\n",
       "    <tr>\n",
       "      <th>afdeling_Business development</th>\n",
       "      <td>0.000000</td>\n",
       "    </tr>\n",
       "    <tr>\n",
       "      <th>afdeling_Credit controller</th>\n",
       "      <td>0.328329</td>\n",
       "    </tr>\n",
       "    <tr>\n",
       "      <th>afdeling_Financial controller</th>\n",
       "      <td>-0.370013</td>\n",
       "    </tr>\n",
       "    <tr>\n",
       "      <th>afdeling_HR</th>\n",
       "      <td>0.000000</td>\n",
       "    </tr>\n",
       "    <tr>\n",
       "      <th>afdeling_IT</th>\n",
       "      <td>0.000000</td>\n",
       "    </tr>\n",
       "    <tr>\n",
       "      <th>afdeling_Legal</th>\n",
       "      <td>0.000000</td>\n",
       "    </tr>\n",
       "    <tr>\n",
       "      <th>afdeling_Marketing</th>\n",
       "      <td>0.000000</td>\n",
       "    </tr>\n",
       "    <tr>\n",
       "      <th>afdeling_Office manager</th>\n",
       "      <td>0.000000</td>\n",
       "    </tr>\n",
       "    <tr>\n",
       "      <th>afdeling_Project controller</th>\n",
       "      <td>-0.548211</td>\n",
       "    </tr>\n",
       "    <tr>\n",
       "      <th>stad_Alblasserdam</th>\n",
       "      <td>-6.190305</td>\n",
       "    </tr>\n",
       "    <tr>\n",
       "      <th>stad_Almere</th>\n",
       "      <td>0.000000</td>\n",
       "    </tr>\n",
       "    <tr>\n",
       "      <th>stad_Alphen aan den Rijn</th>\n",
       "      <td>0.000000</td>\n",
       "    </tr>\n",
       "    <tr>\n",
       "      <th>stad_Amstelveen</th>\n",
       "      <td>0.000000</td>\n",
       "    </tr>\n",
       "    <tr>\n",
       "      <th>stad_Amsterdam</th>\n",
       "      <td>-1.936828</td>\n",
       "    </tr>\n",
       "    <tr>\n",
       "      <th>stad_Barendrecht</th>\n",
       "      <td>-5.835866</td>\n",
       "    </tr>\n",
       "    <tr>\n",
       "      <th>stad_Breda</th>\n",
       "      <td>0.000000</td>\n",
       "    </tr>\n",
       "    <tr>\n",
       "      <th>stad_Capelle</th>\n",
       "      <td>0.000000</td>\n",
       "    </tr>\n",
       "    <tr>\n",
       "      <th>stad_Delft</th>\n",
       "      <td>0.000000</td>\n",
       "    </tr>\n",
       "    <tr>\n",
       "      <th>stad_Den Haag</th>\n",
       "      <td>-2.490741</td>\n",
       "    </tr>\n",
       "    <tr>\n",
       "      <th>stad_Dordrecht</th>\n",
       "      <td>0.000000</td>\n",
       "    </tr>\n",
       "    <tr>\n",
       "      <th>stad_Eindhoven</th>\n",
       "      <td>0.000000</td>\n",
       "    </tr>\n",
       "    <tr>\n",
       "      <th>stad_Gouda</th>\n",
       "      <td>0.000000</td>\n",
       "    </tr>\n",
       "    <tr>\n",
       "      <th>stad_Haarlem</th>\n",
       "      <td>0.000000</td>\n",
       "    </tr>\n",
       "    <tr>\n",
       "      <th>stad_Hoogeveen</th>\n",
       "      <td>0.000000</td>\n",
       "    </tr>\n",
       "    <tr>\n",
       "      <th>stad_Leiden</th>\n",
       "      <td>0.000000</td>\n",
       "    </tr>\n",
       "    <tr>\n",
       "      <th>stad_Lelystad</th>\n",
       "      <td>0.000000</td>\n",
       "    </tr>\n",
       "    <tr>\n",
       "      <th>stad_Middelburg</th>\n",
       "      <td>-4.846325</td>\n",
       "    </tr>\n",
       "    <tr>\n",
       "      <th>stad_Pijnacker</th>\n",
       "      <td>0.000000</td>\n",
       "    </tr>\n",
       "    <tr>\n",
       "      <th>stad_Rijswijk</th>\n",
       "      <td>0.024147</td>\n",
       "    </tr>\n",
       "    <tr>\n",
       "      <th>stad_Roermond</th>\n",
       "      <td>0.000000</td>\n",
       "    </tr>\n",
       "    <tr>\n",
       "      <th>stad_Rotterdam</th>\n",
       "      <td>-2.708496</td>\n",
       "    </tr>\n",
       "    <tr>\n",
       "      <th>stad_Schiedam</th>\n",
       "      <td>0.000000</td>\n",
       "    </tr>\n",
       "    <tr>\n",
       "      <th>stad_Tilburg</th>\n",
       "      <td>0.000000</td>\n",
       "    </tr>\n",
       "    <tr>\n",
       "      <th>stad_Utrecht</th>\n",
       "      <td>0.000000</td>\n",
       "    </tr>\n",
       "    <tr>\n",
       "      <th>stad_Veenendaal</th>\n",
       "      <td>-5.481936</td>\n",
       "    </tr>\n",
       "    <tr>\n",
       "      <th>stad_Woerden</th>\n",
       "      <td>-5.485144</td>\n",
       "    </tr>\n",
       "    <tr>\n",
       "      <th>stad_Zaandam</th>\n",
       "      <td>0.000000</td>\n",
       "    </tr>\n",
       "    <tr>\n",
       "      <th>stad_Zeist</th>\n",
       "      <td>0.000000</td>\n",
       "    </tr>\n",
       "    <tr>\n",
       "      <th>stad_Zoetermeer</th>\n",
       "      <td>0.000000</td>\n",
       "    </tr>\n",
       "  </tbody>\n",
       "</table>\n",
       "</div>"
      ],
      "text/plain": [
       "                                       Value\n",
       "intercept                           0.462452\n",
       "indiensttreding_leeftijd            0.112958\n",
       "geslacht_Vrouw                      0.033484\n",
       "BUSINESS_UNIT_Intern                0.844029\n",
       "afdeling_Accountant                -0.781282\n",
       "afdeling_Administratief medewerker  0.000000\n",
       "afdeling_BI                         0.238035\n",
       "afdeling_Boekhouder                 0.203618\n",
       "afdeling_Business analist           0.000000\n",
       "afdeling_Business development       0.000000\n",
       "afdeling_Credit controller          0.328329\n",
       "afdeling_Financial controller      -0.370013\n",
       "afdeling_HR                         0.000000\n",
       "afdeling_IT                         0.000000\n",
       "afdeling_Legal                      0.000000\n",
       "afdeling_Marketing                  0.000000\n",
       "afdeling_Office manager             0.000000\n",
       "afdeling_Project controller        -0.548211\n",
       "stad_Alblasserdam                  -6.190305\n",
       "stad_Almere                         0.000000\n",
       "stad_Alphen aan den Rijn            0.000000\n",
       "stad_Amstelveen                     0.000000\n",
       "stad_Amsterdam                     -1.936828\n",
       "stad_Barendrecht                   -5.835866\n",
       "stad_Breda                          0.000000\n",
       "stad_Capelle                        0.000000\n",
       "stad_Delft                          0.000000\n",
       "stad_Den Haag                      -2.490741\n",
       "stad_Dordrecht                      0.000000\n",
       "stad_Eindhoven                      0.000000\n",
       "stad_Gouda                          0.000000\n",
       "stad_Haarlem                        0.000000\n",
       "stad_Hoogeveen                      0.000000\n",
       "stad_Leiden                         0.000000\n",
       "stad_Lelystad                       0.000000\n",
       "stad_Middelburg                    -4.846325\n",
       "stad_Pijnacker                      0.000000\n",
       "stad_Rijswijk                       0.024147\n",
       "stad_Roermond                       0.000000\n",
       "stad_Rotterdam                     -2.708496\n",
       "stad_Schiedam                       0.000000\n",
       "stad_Tilburg                        0.000000\n",
       "stad_Utrecht                        0.000000\n",
       "stad_Veenendaal                    -5.481936\n",
       "stad_Woerden                       -5.485144\n",
       "stad_Zaandam                        0.000000\n",
       "stad_Zeist                          0.000000\n",
       "stad_Zoetermeer                     0.000000"
      ]
     },
     "execution_count": 1293,
     "metadata": {},
     "output_type": "execute_result"
    }
   ],
   "source": [
    "pd.DataFrame(np.append(clf.intercept_, clf.coef_), pd.Index(['intercept']).append(X.columns), columns=['Value'])"
   ]
  },
  {
   "cell_type": "code",
   "execution_count": 1294,
   "id": "5f7d715f",
   "metadata": {
    "scrolled": true
   },
   "outputs": [
    {
     "name": "stdout",
     "output_type": "stream",
     "text": [
      "AUC score for each cross-validation fold: [0.94800801 0.97688715 0.9754522  0.95310556 0.95818696]\n",
      "Mean AUC score: 0.9623279756497658\n"
     ]
    }
   ],
   "source": [
    "scores = cross_val_score(clf, X, y, cv = 5, scoring = 'roc_auc')\n",
    "print(\"AUC score for each cross-validation fold:\", scores)\n",
    "print(\"Mean AUC score:\", scores.mean())"
   ]
  }
 ],
 "metadata": {
  "kernelspec": {
   "display_name": "Python 3 (ipykernel)",
   "language": "python",
   "name": "python3"
  },
  "language_info": {
   "codemirror_mode": {
    "name": "ipython",
    "version": 3
   },
   "file_extension": ".py",
   "mimetype": "text/x-python",
   "name": "python",
   "nbconvert_exporter": "python",
   "pygments_lexer": "ipython3",
   "version": "3.9.7"
  }
 },
 "nbformat": 4,
 "nbformat_minor": 5
}
